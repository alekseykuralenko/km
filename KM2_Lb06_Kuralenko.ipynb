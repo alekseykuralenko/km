{
 "cells": [
  {
   "cell_type": "markdown",
   "id": "ca9647ec-cf77-4f18-a3df-5354437b5cc9",
   "metadata": {},
   "source": [
    "# Лабораторная работа 6\n",
    "# Выравнивание списка, состоящего из итерируемых объектов, на основе рекурсии"
   ]
  },
  {
   "cell_type": "markdown",
   "id": "29ccde6c-195a-4766-9197-7a3cb8c1f903",
   "metadata": {},
   "source": [
    "#### Кураленко Алексей 20.05"
   ]
  },
  {
   "cell_type": "markdown",
   "id": "c51e9c25-6c23-429f-b2e2-4a05851addfe",
   "metadata": {},
   "source": [
    "# Задание 6.1. Выравнивание вложенных списков"
   ]
  },
  {
   "cell_type": "markdown",
   "id": "432fb25b-cecd-4178-9aa5-0d47e3760fbf",
   "metadata": {},
   "source": [
    "## Задание 6.1.1. Рекурсивная функция flatten_list_v1"
   ]
  },
  {
   "cell_type": "code",
   "execution_count": 5,
   "id": "bca8b08d-4168-4277-8492-9f153415e8de",
   "metadata": {},
   "outputs": [],
   "source": [
    "it_list = [[1],[2,[3]],[[[[[4]]]]],5,6,7]"
   ]
  },
  {
   "cell_type": "code",
   "execution_count": 6,
   "id": "ef458f8d-3d9d-4fcd-ae4e-d6279e38498c",
   "metadata": {},
   "outputs": [
    {
     "data": {
      "text/plain": [
       "\u001b[1;31mSignature:\u001b[0m \u001b[0misinstance\u001b[0m\u001b[1;33m(\u001b[0m\u001b[0mobj\u001b[0m\u001b[1;33m,\u001b[0m \u001b[0mclass_or_tuple\u001b[0m\u001b[1;33m,\u001b[0m \u001b[1;33m/\u001b[0m\u001b[1;33m)\u001b[0m\u001b[1;33m\u001b[0m\u001b[1;33m\u001b[0m\u001b[0m\n",
       "\u001b[1;31mDocstring:\u001b[0m\n",
       "Return whether an object is an instance of a class or of a subclass thereof.\n",
       "\n",
       "A tuple, as in ``isinstance(x, (A, B, ...))``, may be given as the target to\n",
       "check against. This is equivalent to ``isinstance(x, A) or isinstance(x, B)\n",
       "or ...`` etc.\n",
       "\u001b[1;31mType:\u001b[0m      builtin_function_or_method"
      ]
     },
     "metadata": {},
     "output_type": "display_data"
    }
   ],
   "source": [
    "?isinstance"
   ]
  },
  {
   "cell_type": "code",
   "execution_count": 7,
   "id": "ca4a5649-75ff-483e-9f4a-00cdac0016df",
   "metadata": {},
   "outputs": [],
   "source": [
    "def flatten_list_v1(nested_obj):\n",
    "    result = []# список\n",
    "    if isinstance(nested_obj,list): # проверка является ли объект списком\n",
    "        for item in nested_obj: # проходим по каждому элементу\n",
    "            result += flatten_list_v1(item) # рекурсия\n",
    "    else: # если обект не список\n",
    "        result += [nested_obj]# просто добавляем объект в result\n",
    "    return result # возвращаем результат"
   ]
  },
  {
   "cell_type": "code",
   "execution_count": 8,
   "id": "fd1b3050-58d9-4f84-ac8b-2b83db8db82e",
   "metadata": {},
   "outputs": [
    {
     "data": {
      "text/plain": [
       "[1, 2, 3, 4, 5, 6, 7]"
      ]
     },
     "execution_count": 8,
     "metadata": {},
     "output_type": "execute_result"
    }
   ],
   "source": [
    "flatten_list_v1(it_list)"
   ]
  },
  {
   "cell_type": "markdown",
   "id": "1d494e48-bf44-404f-b645-88e13ec3872e",
   "metadata": {},
   "source": [
    "## Задание 6.1.2. Генераторная функция на основе рекурсии flatten_list_v2\n"
   ]
  },
  {
   "cell_type": "code",
   "execution_count": 10,
   "id": "289b7eb9-4a96-4faa-9667-51e0a1fd4781",
   "metadata": {},
   "outputs": [],
   "source": [
    "def flatten_list_v2(nested_obj):\n",
    "    if isinstance(nested_obj,list): # проверяем является ли объект списком\n",
    "        for item in nested_obj: # если да проходим по каждому элементу\n",
    "            yield from flatten_list_v2(item) # возвращаем по одному объекту из коллекции \n",
    "    else: # если обект не список\n",
    "        yield nested_obj # просто возвращаем объект"
   ]
  },
  {
   "cell_type": "code",
   "execution_count": 11,
   "id": "e5564fe7-bfc7-4b76-88b1-5cd6db9e4e43",
   "metadata": {},
   "outputs": [
    {
     "data": {
      "text/plain": [
       "[1, 2, 3, 4, 5, 6, 7]"
      ]
     },
     "execution_count": 11,
     "metadata": {},
     "output_type": "execute_result"
    }
   ],
   "source": [
    "[x for x in flatten_list_v2(it_list)]"
   ]
  },
  {
   "cell_type": "markdown",
   "id": "787ac0bc-6c54-437a-9248-115a021e27c1",
   "metadata": {},
   "source": [
    "## Задание 6.1.3. Функция flatten_list: создание, документирование, тестирование"
   ]
  },
  {
   "cell_type": "code",
   "execution_count": 13,
   "id": "54a310af-9175-4a4c-a370-a85bb332e447",
   "metadata": {},
   "outputs": [],
   "source": [
    "def flatten_list(nested_obj,gen=False): \n",
    "    \"\"\"\n",
    "    выравнивает вложенный список nested_obj и возвращает либо список из элементов вложенных списков без\n",
    "    сохранения структуры, если gen=False , либо возвращает генераторный объект, если gen=True \n",
    "    \n",
    "    nested_obj: вложенный список\n",
    "    gen: логическое значения в зависимости от требуемого вывода(True-генератор,False(по умолчанию)-список\n",
    "    Return: gen=False возвращает list\n",
    "            gen=True возвращает generator\n",
    "    \"\"\"\n",
    "    def flatten_list_v2(nested_obj):\n",
    "        if isinstance(nested_obj,list): # проверка является ли объект списком\n",
    "            for item in nested_obj: # если да проходимя по каждому элементу\n",
    "                yield from flatten_list_v2(item) # возвращает по одному объекту из коллекции по запросу\n",
    "        else: # если обект не список\n",
    "            yield nested_obj #возвращает объект\n",
    "    if gen:\n",
    "        return flatten_list_v2(nested_obj)\n",
    "    else:\n",
    "        return [x for x in flatten_list_v2(nested_obj)]"
   ]
  },
  {
   "cell_type": "code",
   "execution_count": 14,
   "id": "704e08d2-ba67-49cb-a55d-e94253d38d61",
   "metadata": {},
   "outputs": [
    {
     "data": {
      "text/plain": [
       "[2, 3, 4, 5, 6, 7, 8]"
      ]
     },
     "execution_count": 14,
     "metadata": {},
     "output_type": "execute_result"
    }
   ],
   "source": [
    "flatten_list([[2],[[3],[[4]]],5,[6,[7,8]]],False)"
   ]
  },
  {
   "cell_type": "code",
   "execution_count": 15,
   "id": "321c8188-e5fa-41d4-97d0-f549a2e90a53",
   "metadata": {},
   "outputs": [
    {
     "data": {
      "text/plain": [
       "[2, 3, 4, 5, 6, 7, 8]"
      ]
     },
     "execution_count": 15,
     "metadata": {},
     "output_type": "execute_result"
    }
   ],
   "source": [
    "flatten_list([[2],[[3],[[4]]],5,[6,[7,8]]])"
   ]
  },
  {
   "cell_type": "code",
   "execution_count": 16,
   "id": "c758854a-8f6b-4d01-9b1a-11af82bbf37e",
   "metadata": {},
   "outputs": [
    {
     "data": {
      "text/plain": [
       "<generator object flatten_list.<locals>.flatten_list_v2 at 0x00000267649D7840>"
      ]
     },
     "execution_count": 16,
     "metadata": {},
     "output_type": "execute_result"
    }
   ],
   "source": [
    "l=flatten_list([[2],[[3],[[4]]],5,[6,[7,8]]], True)\n",
    "l"
   ]
  },
  {
   "cell_type": "code",
   "execution_count": 17,
   "id": "7dc00a30-a43b-40f1-a0eb-207848664097",
   "metadata": {},
   "outputs": [
    {
     "data": {
      "text/plain": [
       "[2, 3, 4, 5, 6, 7, 8]"
      ]
     },
     "execution_count": 17,
     "metadata": {},
     "output_type": "execute_result"
    }
   ],
   "source": [
    "[x for x in l]"
   ]
  },
  {
   "cell_type": "markdown",
   "id": "81eb5d4a-1bd9-4c78-8e2e-92034d665444",
   "metadata": {},
   "source": [
    "# Задание 6.2. Выравнивание вложенных итерируемых объектов произвольного типа\n"
   ]
  },
  {
   "cell_type": "code",
   "execution_count": 19,
   "id": "fcc87078-736c-43f1-ad2b-10ea1f522c51",
   "metadata": {},
   "outputs": [
    {
     "data": {
      "text/plain": [
       "[[1], [2, [3]], [[[[[4]]]]], 5, 6, 7]"
      ]
     },
     "execution_count": 19,
     "metadata": {},
     "output_type": "execute_result"
    }
   ],
   "source": [
    "it_list"
   ]
  },
  {
   "cell_type": "code",
   "execution_count": 59,
   "id": "1189b237-d568-44cb-b82f-4f91d602c6dc",
   "metadata": {},
   "outputs": [],
   "source": [
    "it_tuple = (((7),(8)),(9),10)\n",
    "it_str = \"abcdefgh\"\n",
    "it_dict = {\"key1\": 11, \"key2\": {\"key3\": 12}}\n",
    "it_gen = ([i,i**2,i**3] for i in range(5))\n",
    "it_file = open(\"flatten_file.txt\")\n",
    "it = [it_list, it_tuple, it_str, it_dict, it_gen, it_file]"
   ]
  },
  {
   "cell_type": "code",
   "execution_count": 61,
   "id": "dc6476f6-b42c-43e9-a83b-44f3a36cd960",
   "metadata": {},
   "outputs": [
    {
     "data": {
      "text/plain": [
       "[True, True, True, True, True, True]"
      ]
     },
     "execution_count": 61,
     "metadata": {},
     "output_type": "execute_result"
    }
   ],
   "source": [
    "['__iter__' in dir(x) for x in it]"
   ]
  },
  {
   "cell_type": "code",
   "execution_count": 63,
   "id": "85ae9118-66e1-48c5-a0aa-6f4e942f8cef",
   "metadata": {},
   "outputs": [
    {
     "data": {
      "text/plain": [
       "[True, True, True, True, True, True]"
      ]
     },
     "execution_count": 63,
     "metadata": {},
     "output_type": "execute_result"
    }
   ],
   "source": [
    "[hasattr(x, '__iter__') for x in it]"
   ]
  },
  {
   "cell_type": "code",
   "execution_count": 65,
   "id": "3c897412-da1b-4cc4-9a8a-391723692720",
   "metadata": {},
   "outputs": [
    {
     "data": {
      "text/plain": [
       "\u001b[1;31mSignature:\u001b[0m \u001b[0mhasattr\u001b[0m\u001b[1;33m(\u001b[0m\u001b[0mobj\u001b[0m\u001b[1;33m,\u001b[0m \u001b[0mname\u001b[0m\u001b[1;33m,\u001b[0m \u001b[1;33m/\u001b[0m\u001b[1;33m)\u001b[0m\u001b[1;33m\u001b[0m\u001b[1;33m\u001b[0m\u001b[0m\n",
       "\u001b[1;31mDocstring:\u001b[0m\n",
       "Return whether the object has an attribute with the given name.\n",
       "\n",
       "This is done by calling getattr(obj, name) and catching AttributeError.\n",
       "\u001b[1;31mType:\u001b[0m      builtin_function_or_method"
      ]
     },
     "metadata": {},
     "output_type": "display_data"
    }
   ],
   "source": [
    "?hasattr"
   ]
  },
  {
   "cell_type": "markdown",
   "id": "f64706da-3d1b-4177-92df-1835e52589ac",
   "metadata": {},
   "source": [
    "## Задание 6.2.1. Рекурсивная функция flatten_it_v1"
   ]
  },
  {
   "cell_type": "code",
   "execution_count": 53,
   "id": "1cd723a1-144d-422c-9fd9-4c725b949957",
   "metadata": {},
   "outputs": [],
   "source": [
    "def flatten_it_v1(nested_obj):\n",
    "    result = []\n",
    "    if hasattr(nested_obj, '__iter__'):\n",
    "        for item in nested_obj:\n",
    "            if isinstance(item,str):\n",
    "                result+=[item]\n",
    "            elif isinstance(item,dict):\n",
    "                result+=flatten_it_v1(item.keys())+flatten_it_v1(item.values())\n",
    "            else:\n",
    "                result+=flatten_it_v1(item)\n",
    "    else:\n",
    "         result += [nested_obj]\n",
    "    return result"
   ]
  },
  {
   "cell_type": "code",
   "execution_count": 69,
   "id": "2bc87f3e-2ddd-4e6f-b4d9-0418fe862c40",
   "metadata": {},
   "outputs": [
    {
     "data": {
      "text/plain": [
       "[1,\n",
       " 2,\n",
       " 3,\n",
       " 4,\n",
       " 5,\n",
       " 6,\n",
       " 7,\n",
       " 7,\n",
       " 8,\n",
       " 9,\n",
       " 10,\n",
       " 'abcdefgh',\n",
       " 'key1',\n",
       " 'key2',\n",
       " 11,\n",
       " 'key3',\n",
       " 12,\n",
       " 0,\n",
       " 0,\n",
       " 0,\n",
       " 1,\n",
       " 1,\n",
       " 1,\n",
       " 2,\n",
       " 4,\n",
       " 8,\n",
       " 3,\n",
       " 9,\n",
       " 27,\n",
       " 4,\n",
       " 16,\n",
       " 64,\n",
       " 'sun, moon, stars']"
      ]
     },
     "execution_count": 69,
     "metadata": {},
     "output_type": "execute_result"
    }
   ],
   "source": [
    "it_tuple = (((7),(8)),(9),10)\n",
    "it_str = \"abcdefgh\"\n",
    "it_dict = {\"key1\": 11, \"key2\": {\"key3\": 12}}\n",
    "it_gen = ([i,i**2,i**3] for i in range(5))\n",
    "it_file = open(\"flatten_file.txt\")\n",
    "it = [it_list, it_tuple, it_str, it_dict, it_gen, it_file]\n",
    "flatten_it_v1(it)"
   ]
  },
  {
   "cell_type": "markdown",
   "id": "450b24a7-dfa6-4787-9cee-7115aa685e6d",
   "metadata": {},
   "source": [
    "## Задание 6.2.2. Генераторная функция на основе рекурсии flatten_it_v2"
   ]
  },
  {
   "cell_type": "code",
   "execution_count": 73,
   "id": "2ddbb778-5439-4af3-9276-94dd714be1b0",
   "metadata": {},
   "outputs": [],
   "source": [
    "def flatten_it_v2(nested_obj):\n",
    "    if hasattr(nested_obj, '__iter__'):\n",
    "        for item in nested_obj:\n",
    "            if isinstance(item,str):\n",
    "                yield item\n",
    "            elif isinstance(item,dict):\n",
    "                yield from flatten_it_v2(item.keys())\n",
    "                yield from flatten_it_v2(item.values())\n",
    "            else:\n",
    "                yield from flatten_it_v2(item)\n",
    "    else:\n",
    "        yield nested_obj"
   ]
  },
  {
   "cell_type": "code",
   "execution_count": 75,
   "id": "2987b241-2b5b-4218-b9cb-e8bcc5bbfe09",
   "metadata": {},
   "outputs": [
    {
     "data": {
      "text/plain": [
       "<generator object flatten_it_v2 at 0x0000026764A64740>"
      ]
     },
     "execution_count": 75,
     "metadata": {},
     "output_type": "execute_result"
    }
   ],
   "source": [
    "it_tuple = (((7),(8)),(9),10)\n",
    "it_str = \"abcdefgh\"\n",
    "it_dict = {\"key1\": 11, \"key2\": {\"key3\": 12}}\n",
    "it_gen = ([i,i**2,i**3] for i in range(5))\n",
    "it_file = open(\"flatten_file.txt\")\n",
    "it = [it_list, it_tuple, it_str, it_dict, it_gen, it_file]\n",
    "flatten_it_v2(it)"
   ]
  },
  {
   "cell_type": "code",
   "execution_count": 77,
   "id": "01018fea-d27f-4a69-9c32-27b2ca0b251e",
   "metadata": {},
   "outputs": [
    {
     "data": {
      "text/plain": [
       "[1,\n",
       " 2,\n",
       " 3,\n",
       " 4,\n",
       " 5,\n",
       " 6,\n",
       " 7,\n",
       " 7,\n",
       " 8,\n",
       " 9,\n",
       " 10,\n",
       " 'abcdefgh',\n",
       " 'key1',\n",
       " 'key2',\n",
       " 11,\n",
       " 'key3',\n",
       " 12,\n",
       " 0,\n",
       " 0,\n",
       " 0,\n",
       " 1,\n",
       " 1,\n",
       " 1,\n",
       " 2,\n",
       " 4,\n",
       " 8,\n",
       " 3,\n",
       " 9,\n",
       " 27,\n",
       " 4,\n",
       " 16,\n",
       " 64,\n",
       " 'sun, moon, stars']"
      ]
     },
     "execution_count": 77,
     "metadata": {},
     "output_type": "execute_result"
    }
   ],
   "source": [
    "[x for x in flatten_it_v2(it)]"
   ]
  },
  {
   "cell_type": "markdown",
   "id": "f12c5bf4-5ada-4301-9b03-4d64c13963b3",
   "metadata": {},
   "source": [
    "## Задание 6.2.3. Функция flatten_it: создание, документирование, тестирование"
   ]
  },
  {
   "cell_type": "code",
   "execution_count": 79,
   "id": "24870956-6f1d-47c5-89e7-aed3a94cdec7",
   "metadata": {},
   "outputs": [],
   "source": [
    "def flatten_it(nested_obj,gen=False):\n",
    "    def flatten_it_v2(nested_obj):\n",
    "        if hasattr(nested_obj, '__iter__'):\n",
    "            for item in nested_obj:\n",
    "                if isinstance(item,str):\n",
    "                    yield item\n",
    "                elif isinstance(item,dict):\n",
    "                    yield from flatten_it_v2(item.keys())\n",
    "                    yield from flatten_it_v2(item.values())\n",
    "                else:\n",
    "                    yield from flatten_it_v2(item)\n",
    "        else:\n",
    "            yield nested_obj\n",
    "    if gen:\n",
    "        return flatten_it_v2(nested_obj)\n",
    "    else:\n",
    "        return [x for x in flatten_it_v2(nested_obj)]"
   ]
  },
  {
   "cell_type": "code",
   "execution_count": 83,
   "id": "c79e2ea1-a41f-4a5b-beb3-3792ed53ce32",
   "metadata": {},
   "outputs": [
    {
     "data": {
      "text/plain": [
       "[1,\n",
       " 2,\n",
       " 3,\n",
       " 4,\n",
       " 5,\n",
       " 6,\n",
       " 7,\n",
       " 7,\n",
       " 8,\n",
       " 9,\n",
       " 10,\n",
       " 'abcdefgh',\n",
       " 'key1',\n",
       " 'key2',\n",
       " 11,\n",
       " 'key3',\n",
       " 12,\n",
       " 0,\n",
       " 0,\n",
       " 0,\n",
       " 1,\n",
       " 1,\n",
       " 1,\n",
       " 2,\n",
       " 4,\n",
       " 8,\n",
       " 3,\n",
       " 9,\n",
       " 27,\n",
       " 4,\n",
       " 16,\n",
       " 64,\n",
       " 'sun, moon, stars']"
      ]
     },
     "execution_count": 83,
     "metadata": {},
     "output_type": "execute_result"
    }
   ],
   "source": [
    "it_tuple = (((7),(8)),(9),10)\n",
    "it_str = \"abcdefgh\"\n",
    "it_dict = {\"key1\": 11, \"key2\": {\"key3\": 12}}\n",
    "it_gen = ([i,i**2,i**3] for i in range(5))\n",
    "it_file = open(\"flatten_file.txt\")\n",
    "it = [it_list, it_tuple, it_str, it_dict, it_gen, it_file]\n",
    "flatten_it(it)"
   ]
  },
  {
   "cell_type": "code",
   "execution_count": 85,
   "id": "2ec5a613-a7ce-4410-8bd5-bdd8574447ba",
   "metadata": {},
   "outputs": [
    {
     "data": {
      "text/plain": [
       "<generator object flatten_it.<locals>.flatten_it_v2 at 0x0000026764A8ADC0>"
      ]
     },
     "execution_count": 85,
     "metadata": {},
     "output_type": "execute_result"
    }
   ],
   "source": [
    "it_tuple = (((7),(8)),(9),10)\n",
    "it_str = \"abcdefgh\"\n",
    "it_dict = {\"key1\": 11, \"key2\": {\"key3\": 12}}\n",
    "it_gen = ([i,i**2,i**3] for i in range(5))\n",
    "it_file = open(\"flatten_file.txt\")\n",
    "it = [it_list, it_tuple, it_str, it_dict, it_gen, it_file]\n",
    "flatten_it(it,True)"
   ]
  },
  {
   "cell_type": "code",
   "execution_count": 87,
   "id": "cb361867-682b-4a7b-9297-26f591ede194",
   "metadata": {},
   "outputs": [
    {
     "data": {
      "text/plain": [
       "[1,\n",
       " 2,\n",
       " 3,\n",
       " 4,\n",
       " 5,\n",
       " 6,\n",
       " 7,\n",
       " 7,\n",
       " 8,\n",
       " 9,\n",
       " 10,\n",
       " 'abcdefgh',\n",
       " 'key1',\n",
       " 'key2',\n",
       " 11,\n",
       " 'key3',\n",
       " 12,\n",
       " 0,\n",
       " 0,\n",
       " 0,\n",
       " 1,\n",
       " 1,\n",
       " 1,\n",
       " 2,\n",
       " 4,\n",
       " 8,\n",
       " 3,\n",
       " 9,\n",
       " 27,\n",
       " 4,\n",
       " 16,\n",
       " 64,\n",
       " 'sun, moon, stars']"
      ]
     },
     "execution_count": 87,
     "metadata": {},
     "output_type": "execute_result"
    }
   ],
   "source": [
    "[x for x in flatten_it(it,True)]"
   ]
  },
  {
   "cell_type": "markdown",
   "id": "251ad149-8bc5-4545-aa42-e5885c6619da",
   "metadata": {},
   "source": [
    "## Задание 6.3. Обработка циклических объектов"
   ]
  },
  {
   "cell_type": "code",
   "execution_count": 90,
   "id": "d6a4aeee-4f1b-487f-ab3a-d7d902274bf2",
   "metadata": {},
   "outputs": [],
   "source": [
    "it_list_cyclic = it_list[:]\n",
    "it_list_cyclic.append(it_list_cyclic)"
   ]
  },
  {
   "cell_type": "code",
   "execution_count": 92,
   "id": "db8f8df4-fd43-4dcc-8d87-79162a7609c6",
   "metadata": {},
   "outputs": [
    {
     "data": {
      "text/plain": [
       "[[1], [2, [3]], [[[[[4]]]]], 5, 6, 7, [...]]"
      ]
     },
     "execution_count": 92,
     "metadata": {},
     "output_type": "execute_result"
    }
   ],
   "source": [
    "it_list_cyclic"
   ]
  },
  {
   "cell_type": "code",
   "execution_count": 94,
   "id": "7052e943-3e0f-414f-b651-f3c442f1e038",
   "metadata": {},
   "outputs": [],
   "source": [
    "def flatten_list_v1(nested_obj):\n",
    "    result = []\n",
    "    if isinstance(nested_obj,list):\n",
    "        for item in nested_obj:\n",
    "            if item is nested_obj:\n",
    "                raise ValueError(\"Cyclic list is found\") # генерация исключения\n",
    "            else:\n",
    "                result += flatten_list_v1(item)\n",
    "    else:\n",
    "        result += [nested_obj]\n",
    "    return result"
   ]
  },
  {
   "cell_type": "code",
   "execution_count": 96,
   "id": "f7ec10f9-2913-48cf-a173-249a425ee711",
   "metadata": {},
   "outputs": [
    {
     "data": {
      "text/plain": [
       "[1, 2, 3, 4, 5, 6, 7]"
      ]
     },
     "execution_count": 96,
     "metadata": {},
     "output_type": "execute_result"
    }
   ],
   "source": [
    "flatten_list_v1(it_list)"
   ]
  },
  {
   "cell_type": "code",
   "execution_count": 98,
   "id": "96faa043-20c1-49e6-bd34-c0e45fc63630",
   "metadata": {},
   "outputs": [
    {
     "ename": "ValueError",
     "evalue": "Cyclic list is found",
     "output_type": "error",
     "traceback": [
      "\u001b[1;31m---------------------------------------------------------------------------\u001b[0m",
      "\u001b[1;31mValueError\u001b[0m                                Traceback (most recent call last)",
      "Cell \u001b[1;32mIn[98], line 1\u001b[0m\n\u001b[1;32m----> 1\u001b[0m flatten_list_v1(it_list_cyclic)\n",
      "Cell \u001b[1;32mIn[94], line 6\u001b[0m, in \u001b[0;36mflatten_list_v1\u001b[1;34m(nested_obj)\u001b[0m\n\u001b[0;32m      4\u001b[0m \u001b[38;5;28;01mfor\u001b[39;00m item \u001b[38;5;129;01min\u001b[39;00m nested_obj:\n\u001b[0;32m      5\u001b[0m     \u001b[38;5;28;01mif\u001b[39;00m item \u001b[38;5;129;01mis\u001b[39;00m nested_obj:\n\u001b[1;32m----> 6\u001b[0m         \u001b[38;5;28;01mraise\u001b[39;00m \u001b[38;5;167;01mValueError\u001b[39;00m(\u001b[38;5;124m\"\u001b[39m\u001b[38;5;124mCyclic list is found\u001b[39m\u001b[38;5;124m\"\u001b[39m) \u001b[38;5;66;03m# генерация исключения\u001b[39;00m\n\u001b[0;32m      7\u001b[0m     \u001b[38;5;28;01melse\u001b[39;00m:\n\u001b[0;32m      8\u001b[0m         result \u001b[38;5;241m+\u001b[39m\u001b[38;5;241m=\u001b[39m flatten_list_v1(item)\n",
      "\u001b[1;31mValueError\u001b[0m: Cyclic list is found"
     ]
    }
   ],
   "source": [
    "flatten_list_v1(it_list_cyclic)\n"
   ]
  },
  {
   "cell_type": "code",
   "execution_count": 100,
   "id": "d6748d48-3f72-4110-a2f9-e4487f98123e",
   "metadata": {},
   "outputs": [
    {
     "name": "stdout",
     "output_type": "stream",
     "text": [
      "Cyclic list is found\n"
     ]
    }
   ],
   "source": [
    "try:\n",
    "    print(flatten_list_v1(it_list_cyclic))\n",
    "except ValueError as e:\n",
    "    print(e)"
   ]
  },
  {
   "cell_type": "markdown",
   "id": "097cede6-2190-497f-8058-7f004400d9ee",
   "metadata": {},
   "source": [
    "## Задание 6.3.1. Доопределение функции flatten_it"
   ]
  },
  {
   "cell_type": "code",
   "execution_count": 103,
   "id": "9b5f9037-6109-4964-a1b1-cd14624a9a75",
   "metadata": {},
   "outputs": [],
   "source": [
    "def flatten_it(nested_obj,gen=False):\n",
    "    def flatten_it_v2(nested_obj):\n",
    "        if hasattr(nested_obj, '__iter__'):\n",
    "            for item in nested_obj:\n",
    "                if item is nested_obj:\n",
    "                    raise ValueError(\"Cyclic list is found\") \n",
    "                else:\n",
    "                    if isinstance(item,str):\n",
    "                        yield item\n",
    "                    elif isinstance(item,dict):\n",
    "                        yield from flatten_it_v2(item.keys())\n",
    "                        for new_item in flatten_it_v2(item.values()):\n",
    "                            if new_item is item:\n",
    "                                raise ValueError(\"Cyclic list is found\") \n",
    "                            else:\n",
    "                                yield from flatten_it_v2(item.values())\n",
    "                    else:\n",
    "                        yield from flatten_it_v2(item)\n",
    "        else:\n",
    "            yield nested_obj\n",
    "    if gen:\n",
    "        return flatten_it_v2(nested_obj)\n",
    "    else:\n",
    "        return [x for x in flatten_it_v2(nested_obj)]"
   ]
  },
  {
   "cell_type": "code",
   "execution_count": 105,
   "id": "4277429f-d74e-4176-a471-9897a9218e95",
   "metadata": {},
   "outputs": [],
   "source": [
    "a={1:2,\"key2\":5,\"hm\":\"hm\"}"
   ]
  },
  {
   "cell_type": "code",
   "execution_count": 107,
   "id": "3c638d15-6e4b-4aa9-9d3c-3dfc8cfa5b02",
   "metadata": {},
   "outputs": [],
   "source": [
    "a[5]=a"
   ]
  },
  {
   "cell_type": "code",
   "execution_count": 109,
   "id": "ad0ee417-a1c0-480d-a63c-50c9001316e8",
   "metadata": {},
   "outputs": [
    {
     "data": {
      "text/plain": [
       "{1: 2, 'key2': 5, 'hm': 'hm', 5: {...}}"
      ]
     },
     "execution_count": 109,
     "metadata": {},
     "output_type": "execute_result"
    }
   ],
   "source": [
    "a"
   ]
  },
  {
   "cell_type": "code",
   "execution_count": 111,
   "id": "f0717cc5-e1db-473f-abfc-6fe36d7af101",
   "metadata": {},
   "outputs": [
    {
     "data": {
      "text/plain": [
       "[[[1], [2, [3]], [[[[[4]]]]], 5, 6, 7, [...]],\n",
       " {1: 2, 'key2': 5, 'hm': 'hm', 5: {...}}]"
      ]
     },
     "execution_count": 111,
     "metadata": {},
     "output_type": "execute_result"
    }
   ],
   "source": [
    "test=[it_list_cyclic,a]\n",
    "test"
   ]
  },
  {
   "cell_type": "code",
   "execution_count": 113,
   "id": "764d7126-18af-4d55-b420-9544a3bf25eb",
   "metadata": {},
   "outputs": [
    {
     "name": "stdout",
     "output_type": "stream",
     "text": [
      "Cyclic list is found\n"
     ]
    }
   ],
   "source": [
    "try:\n",
    "    print(flatten_it(test))\n",
    "except ValueError as e:\n",
    "    print(e)"
   ]
  },
  {
   "cell_type": "code",
   "execution_count": null,
   "id": "a5d12a24-7e82-4b80-8bcd-81d36f3ede91",
   "metadata": {},
   "outputs": [],
   "source": []
  },
  {
   "cell_type": "code",
   "execution_count": null,
   "id": "2eb4cb31-6b1a-4fc4-adc0-977faac788f8",
   "metadata": {},
   "outputs": [],
   "source": []
  }
 ],
 "metadata": {
  "kernelspec": {
   "display_name": "Python [conda env:base] *",
   "language": "python",
   "name": "conda-base-py"
  },
  "language_info": {
   "codemirror_mode": {
    "name": "ipython",
    "version": 3
   },
   "file_extension": ".py",
   "mimetype": "text/x-python",
   "name": "python",
   "nbconvert_exporter": "python",
   "pygments_lexer": "ipython3",
   "version": "3.12.7"
  }
 },
 "nbformat": 4,
 "nbformat_minor": 5
}
