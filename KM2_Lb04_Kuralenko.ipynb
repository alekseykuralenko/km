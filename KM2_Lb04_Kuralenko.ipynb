{
 "cells": [
  {
   "cell_type": "markdown",
   "id": "8e9c7e74-97fc-48f2-be39-243bb99edc65",
   "metadata": {},
   "source": [
    "# Лабораторная работа 4\n",
    "# Правильный многоугольник Рело. Векторизация вычислений в `numpy`"
   ]
  },
  {
   "cell_type": "markdown",
   "id": "59c343ff-8110-4c30-b499-9a180ff8d1af",
   "metadata": {},
   "source": [
    "# Задание 4.1. Построение треугольника Рело\n",
    "# Выполнение задания 4.1"
   ]
  },
  {
   "cell_type": "markdown",
   "id": "956cddb1-741f-41f7-a7db-bcfa6b45ba17",
   "metadata": {},
   "source": [
    "### Кураленко Алексей\n",
    "### 10.04"
   ]
  },
  {
   "cell_type": "markdown",
   "id": "5f74f975-70c8-4ec7-abe0-76ff2f15bb58",
   "metadata": {},
   "source": [
    "Полагаем, что заданы координаты центра правильного треугольника Рело `center` , ширина треугольника Рело `r` и количество точек для описания одной стороны треугольника Рело `N.`"
   ]
  },
  {
   "cell_type": "code",
   "execution_count": 25,
   "id": "62b7e78d-7d1c-49d3-aa10-d6dd82fd68ff",
   "metadata": {},
   "outputs": [],
   "source": [
    "import numpy as np\n",
    "import matplotlib.pyplot as plt\n",
    "import math"
   ]
  },
  {
   "cell_type": "markdown",
   "id": "b586b84d-b188-4c12-8cfd-b4b5b4a0734f",
   "metadata": {},
   "source": [
    "Определим переменные"
   ]
  },
  {
   "cell_type": "code",
   "execution_count": 12,
   "id": "7c858607-7056-4cf6-93b4-4b074bbab45c",
   "metadata": {},
   "outputs": [],
   "source": [
    "n = 3 # количество вершин треугольника Рело\n",
    "center = np.array([0,0]) # координаты центра треугольника Рело\n",
    "r = 10. # ширина треугольника Рело\n",
    "N = 100 # количество точек для описания одной стороны треугольника Рело"
   ]
  },
  {
   "cell_type": "markdown",
   "id": "76bf83ca-5583-4b29-b896-e34ac44089c2",
   "metadata": {},
   "source": [
    "Вершины правильного многоугольника расположены на окружности, описанной вокруг многоугольника. Радиус *R* окружности, описанной вокруг правильного *n*-угольника с длиной стороны *l* , вычисляется по формуле</br>\n",
    "$$R=\\frac{l}{2 sin \\pi/n} $$\n",
    "Длина стороны *l* правильного треугольника, на котором будем строить треугольник Рело, совпадает с шириной треугольника Рело *r*"
   ]
  },
  {
   "cell_type": "code",
   "execution_count": 15,
   "id": "ab9ee6e8-bf39-43c2-b381-26668d356449",
   "metadata": {},
   "outputs": [],
   "source": [
    "l = r #равенство справедливо только для треугольника Рело"
   ]
  },
  {
   "cell_type": "markdown",
   "id": "73880442-2535-4f80-833e-c1af1b012763",
   "metadata": {},
   "source": [
    "Вычислим радиус описанной окружности *R*"
   ]
  },
  {
   "cell_type": "code",
   "execution_count": 18,
   "id": "6f49ae05-9aa0-49c3-91cf-afeae9773f51",
   "metadata": {},
   "outputs": [],
   "source": [
    "R = l/(2*np.sin(np.pi/n))"
   ]
  },
  {
   "cell_type": "markdown",
   "id": "7eeca372-d9cb-4b47-8780-751a37b4b095",
   "metadata": {},
   "source": [
    "Зафиксируем прямоугольную декартову систему координат. Центр треугольника размещаем в точке `center` . Построим матрицу `vertices` с координатами вершин правильного треугольника, используя параметрическое описание точек описанной окружности по формуле $x(t)=x_{\\text{0}}+Rcos(t), y(t)=y_{\\text{0}}+Rsin(t) $, для значений $t \\in {0,2\\pi/3,4\\pi/3} $."
   ]
  },
  {
   "cell_type": "code",
   "execution_count": 21,
   "id": "076d8146-4987-4401-8ecf-de787bb423a8",
   "metadata": {},
   "outputs": [
    {
     "data": {
      "text/plain": [
       "array([[ 5.77350269,  0.        ],\n",
       "       [-2.88675135,  5.        ],\n",
       "       [-2.88675135, -5.        ]])"
      ]
     },
     "execution_count": 21,
     "metadata": {},
     "output_type": "execute_result"
    }
   ],
   "source": [
    "t = np.arange(0,2*np.pi,2*np.pi/n)\n",
    "vertices = center + R*np.transpose([np.cos(t), np.sin(t)])\n",
    "vertices"
   ]
  },
  {
   "cell_type": "markdown",
   "id": "ffaf3ad6-01e4-43c7-aff6-3eedf1bd1794",
   "metadata": {},
   "source": [
    "Для доступа к элементам матрицы в numpy можно использовать индексацию с двумя индексами"
   ]
  },
  {
   "cell_type": "code",
   "execution_count": 24,
   "id": "cd6fdb11-652a-40b3-abfe-84479b3fc970",
   "metadata": {},
   "outputs": [
    {
     "data": {
      "text/plain": [
       "(5.773502691896258, array([5.77350269, 0.        ]), array([ 0.,  5., -5.]))"
      ]
     },
     "execution_count": 24,
     "metadata": {},
     "output_type": "execute_result"
    }
   ],
   "source": [
    "vertices[0,0], vertices[0,:], vertices[:,1]"
   ]
  },
  {
   "cell_type": "markdown",
   "id": "deb1c59a-c867-4ac9-8b11-60ab7b625e50",
   "metadata": {},
   "source": [
    "Построим изображение вершин треугольника"
   ]
  },
  {
   "cell_type": "code",
   "execution_count": 35,
   "id": "c5ebd05c-41f8-44ee-873d-85672a199530",
   "metadata": {},
   "outputs": [
    {
     "data": {
      "image/png": "[encoded data removed]",
      "text/plain": [
       "<Figure size 640x480 with 1 Axes>"
      ]
     },
     "metadata": {},
     "output_type": "display_data"
    }
   ],
   "source": [
    "plt.plot(vertices[:,0],vertices[:,1],'r.',markersize=20)\n",
    "plt.axis('equal');"
   ]
  },
  {
   "cell_type": "markdown",
   "id": "9c9fcd6c-f9c9-4864-b908-7805fdcdcd93",
   "metadata": {},
   "source": [
    "## Этап 2. Представление одной стороны треугольника Рело"
   ]
  },
  {
   "cell_type": "markdown",
   "id": "104840cf-92a5-4064-8cab-793b6aef98fe",
   "metadata": {},
   "source": [
    "Обозначим через $a$ центральный угол, соответствующий стороне правильного n-угольника. Тогда\n",
    "$$ a=2\\pi/n$$"
   ]
  },
  {
   "cell_type": "markdown",
   "id": "c5a89407-d766-427b-a601-a8d8339f95c2",
   "metadata": {},
   "source": [
    "Обозначим через $b$ центральный угол, соответствующий стороне правильного многоугольника Рело, когда центр окружности расположен в вершине правильного многоугольника. Тогда"
   ]
  },
  {
   "cell_type": "code",
   "execution_count": 40,
   "id": "a18b3fbb-bc44-4569-895c-d605eb596b1c",
   "metadata": {},
   "outputs": [],
   "source": [
    "alpha = 2*np.pi/n\n",
    "beta = alpha/2"
   ]
  },
  {
   "cell_type": "markdown",
   "id": "cff8f0bf-a9da-449f-a234-a8457d2335d3",
   "metadata": {},
   "source": [
    "Вычислим массив angle значений угла для построения координат точек стороны треугольника Рело, состоящий из N элементов"
   ]
  },
  {
   "cell_type": "code",
   "execution_count": 42,
   "id": "7099d74c-79e3-4239-ad3f-38727fd5b38f",
   "metadata": {},
   "outputs": [],
   "source": [
    "angle = np.linspace(-beta/2, beta/2, N)"
   ]
  },
  {
   "cell_type": "code",
   "execution_count": 44,
   "id": "777748ac-d0e9-4a57-9c30-11314a5fb390",
   "metadata": {},
   "outputs": [],
   "source": [
    "side0 = vertices[0] + r*np.transpose([np.cos(angle + np.pi), np.sin(angle + np.pi)])"
   ]
  },
  {
   "cell_type": "code",
   "execution_count": 46,
   "id": "135d215f-8d2c-4e75-8b8e-3c1ba4ad2d0f",
   "metadata": {},
   "outputs": [
    {
     "data": {
      "image/png": "[encoded data removed]",
      "text/plain": [
       "<Figure size 640x480 with 1 Axes>"
      ]
     },
     "metadata": {},
     "output_type": "display_data"
    }
   ],
   "source": [
    "plt.plot(vertices[:,0],vertices[:,1],'r.',markersize=20)\n",
    "plt.plot(side0[:,0],side0[:,1],'b-',markersize=20)\n",
    "plt.axis('equal');"
   ]
  },
  {
   "cell_type": "markdown",
   "id": "0cbcbcf8-23d5-4466-9c22-5d6e9d0ac1a0",
   "metadata": {},
   "source": [
    "Вычислим матрицу `side1` с координатами точек, описывающих сторону треугольника Рело относительно второй вершины `vertices[1]`. Сторона представляет собой дугу окружности радиуса $r$ с центром в точке `vertices[1]` и значением угла $[\\pi - \\beta / 2 + \\alpha, \\pi + \\beta / 2 + \\alpha]$\n"
   ]
  },
  {
   "cell_type": "code",
   "execution_count": 49,
   "id": "4144048d-2efe-4df2-a337-9a0707af7445",
   "metadata": {},
   "outputs": [],
   "source": [
    "side1 = vertices[1] + r*np.transpose([np.cos(angle + np.pi + alpha),np.sin(angle + np.pi + alpha)])\n"
   ]
  },
  {
   "cell_type": "markdown",
   "id": "b2ff981b-5b19-43e6-a47b-4ef80e92425b",
   "metadata": {},
   "source": [
    "Построим изображение вершин и двух сторон треугольника Рело"
   ]
  },
  {
   "cell_type": "code",
   "execution_count": 52,
   "id": "16f73f7f-d650-4037-9a0f-03d1742b5f40",
   "metadata": {},
   "outputs": [
    {
     "data": {
      "image/png": "[encoded data removed]",
      "text/plain": [
       "<Figure size 640x480 with 1 Axes>"
      ]
     },
     "metadata": {},
     "output_type": "display_data"
    }
   ],
   "source": [
    "plt.plot(vertices[:,0],vertices[:,1],'r.',markersize=20)\n",
    "plt.plot(side0[:,0],side0[:,1],'b-',markersize=20)\n",
    "plt.plot(side1[:,0],side1[:,1],'g-',markersize=20)\n",
    "plt.axis('equal');"
   ]
  },
  {
   "cell_type": "markdown",
   "id": "5df287e4-0aa1-4e2e-8fad-a38f143d32e9",
   "metadata": {},
   "source": [
    "## Этап 3. Моделирование границы треугольника Рело"
   ]
  },
  {
   "cell_type": "markdown",
   "id": "ab337e34-8efe-437d-ba5f-6be3564e8752",
   "metadata": {},
   "source": [
    "Создадим СПИСОК из матриц, каждая из которых содержит координаты точек одной из сторон треугольника Рело"
   ]
  },
  {
   "cell_type": "code",
   "execution_count": 55,
   "id": "9495f817-a6ef-4225-a9f5-6e1b40e121be",
   "metadata": {},
   "outputs": [],
   "source": [
    "list_sides = [vertices[i] +\n",
    " r*np.transpose([np.cos(angle + np.pi + i*alpha),\n",
    " np.sin(angle + np.pi + i*alpha)])\n",
    " for i in range(n)]"
   ]
  },
  {
   "cell_type": "markdown",
   "id": "7e16cffc-78ce-4760-9fd1-aa567e57eca2",
   "metadata": {},
   "source": [
    "С помощью фунции `concatenate` из расширения `numpy` объединим массивы,\n",
    "созданные для каждой из сторон треугольника Рело, в единый массив `sides`"
   ]
  },
  {
   "cell_type": "code",
   "execution_count": 58,
   "id": "53ddf5a6-bbc0-4b74-a4d3-27339bc4e6ca",
   "metadata": {},
   "outputs": [],
   "source": [
    "sides = np.concatenate(list_sides)"
   ]
  },
  {
   "cell_type": "markdown",
   "id": "086c32ef-6a14-440f-bb75-0e92346bbe3e",
   "metadata": {},
   "source": [
    "Построим изображение вершин и всех сторон треугольника Рело"
   ]
  },
  {
   "cell_type": "code",
   "execution_count": 61,
   "id": "62932645-c654-41ff-8bab-42f2e28720a8",
   "metadata": {},
   "outputs": [
    {
     "data": {
      "image/png": "[encoded data removed]",
      "text/plain": [
       "<Figure size 640x480 with 1 Axes>"
      ]
     },
     "metadata": {},
     "output_type": "display_data"
    }
   ],
   "source": [
    "plt.plot(vertices[:,0],vertices[:,1],'r.',markersize=20)\n",
    "plt.plot(sides[:,0],sides[:,1],'b-',markersize=20)\n",
    "plt.axis('equal');"
   ]
  },
  {
   "cell_type": "markdown",
   "id": "dc59f18c-cf83-42cf-9a79-4aced470b485",
   "metadata": {},
   "source": [
    "# Задание 4.2. Построение правильного многоугольника Рело"
   ]
  },
  {
   "cell_type": "markdown",
   "id": "6cb23f22-d929-44f1-ba71-7a99c8d20bf6",
   "metadata": {},
   "source": [
    "n - кол-во сторон</br>\n",
    "N - кол-во точек разбиения</br> \n",
    "r - ширина</br>\n",
    "center - центр</br>"
   ]
  },
  {
   "cell_type": "markdown",
   "id": "110f7368-4111-42a1-9736-b18994f5e00b",
   "metadata": {},
   "source": [
    "Построим вершины"
   ]
  },
  {
   "cell_type": "code",
   "execution_count": 85,
   "id": "70aa428d-a895-4caf-8abb-92757977347a",
   "metadata": {},
   "outputs": [],
   "source": [
    "t = np.arange(0,2*np.pi,2*np.pi/n)\n",
    "vertices = center + R*np.transpose([np.cos(t), np.sin(t)])"
   ]
  },
  {
   "cell_type": "markdown",
   "id": "309383f2-204e-4d33-b96e-de6877841654",
   "metadata": {},
   "source": [
    "vertices - матрица вершин"
   ]
  },
  {
   "cell_type": "markdown",
   "id": "8cd8c5ff-7886-4574-b885-026320f5a480",
   "metadata": {},
   "source": [
    "$a$ центральный угол соответсвующий стороне правильного n-угольника"
   ]
  },
  {
   "cell_type": "markdown",
   "id": "97fe7977-209a-4036-afe1-fc0dd2fb1531",
   "metadata": {
    "scrolled": true
   },
   "source": [
    " $b$ центральный угол, соответствующий стороне правильного многоугольника Рело, когда центр окружности расположен в вершине правильного многоугольника"
   ]
  },
  {
   "cell_type": "code",
   "execution_count": 90,
   "id": "864bff31-af17-4901-b8af-e87bd8b0c3a8",
   "metadata": {},
   "outputs": [],
   "source": [
    "alpha = 2*np.pi/n\n",
    "beta = alpha/2"
   ]
  },
  {
   "cell_type": "markdown",
   "id": "4279a1ef-d729-4016-961d-f065ba9a5c14",
   "metadata": {},
   "source": [
    "Создадим матрицу с точками задающими стороны многоугольника"
   ]
  },
  {
   "cell_type": "code",
   "execution_count": 93,
   "id": "446ffa0e-614a-44f3-b137-93b30e7c331a",
   "metadata": {},
   "outputs": [],
   "source": [
    "sides = np.concatenate([vertices[i] +\n",
    " r*np.transpose([np.cos(angle + np.pi + i*alpha),\n",
    " np.sin(angle + np.pi + i*alpha)])\n",
    " for i in range(n)])"
   ]
  },
  {
   "cell_type": "markdown",
   "id": "30630448-312e-4b83-80df-6360dc4ba774",
   "metadata": {},
   "source": [
    "Найдем радиус описанной окружности около многоульника по формуле $$R=\\frac{l}{2sin\\pi/n} $$\n"
   ]
  },
  {
   "cell_type": "markdown",
   "id": "7b537e39-aed2-4234-a991-f62423d46129",
   "metadata": {},
   "source": [
    "Радиус круга $r$ согласован с длиной стороны $l$ правильного многоугольника таким образом, чтобы окружность радиуса $r$ с центром в вершине правильного $n$-угольника проходила через две соседние вершины правильного $n$-угольника, противолежащие центру."
   ]
  },
  {
   "cell_type": "markdown",
   "id": "d5ab25fa-7607-4229-99ec-c477647181f7",
   "metadata": {},
   "source": [
    "При этом за угол $b$ мы как раз таки обозначили угол, соответствующий стороне правильного многоугольника, когда центр лежит в вершине правильного $n$-угольника. С другой стороны, это центральный угол окружности радиусом $r$, центр которого расположен в вершине, а хорда лежащая напротив этого угла как раз таки является стороной многоульника. </br> </br>\n",
    "По теореме косинусов найдем *l*:\n",
    "$$l^2=r^2+r^2-2*r*r*\\cos(b) $$\n",
    "$$\n",
    "l = \\sqrt{2*r^2(1-\\cos(b))}\n",
    "$$"
   ]
  },
  {
   "cell_type": "code",
   "execution_count": 101,
   "id": "7e5c357f-6872-4b01-a755-b4ab914f0fe3",
   "metadata": {},
   "outputs": [],
   "source": [
    "l=math.sqrt(2*r*r*(1-math.cos(beta)))"
   ]
  },
  {
   "cell_type": "markdown",
   "id": "d9c772a7-ebe6-4d9d-b071-b48803d179e4",
   "metadata": {},
   "source": [
    "Найдем радиус описанной окружности"
   ]
  },
  {
   "cell_type": "code",
   "execution_count": 104,
   "id": "046d879d-b02c-409d-b509-152afd1d141d",
   "metadata": {},
   "outputs": [],
   "source": [
    "R = l/(2*np.sin(np.pi/n))"
   ]
  },
  {
   "cell_type": "markdown",
   "id": "336b7c94-85d5-44e6-b064-eec8ca5755f6",
   "metadata": {},
   "source": [
    "# Задание 4.3. Результирующая пользовательская функция"
   ]
  },
  {
   "cell_type": "code",
   "execution_count": 123,
   "id": "49098e56-b2ac-476a-90ba-130b1d1064ac",
   "metadata": {},
   "outputs": [],
   "source": [
    "def regular_polygon_Relo(n=3, center=np.array([0, 0]), r=1, N=100):\n",
    "    \"\"\"\n",
    "Создает массив точек, формирующих границу правильного многоугольника Рело.\n",
    "\n",
    "Параметры:\n",
    "\n",
    "n (int): Число вершин многоугольника (должно быть нечётным и больше 2).\n",
    "center (np.ndarray): Центр многоугольника, заданный как массив из двух координат.\n",
    "r (float): Размер (ширина) фигуры, положительное значение.\n",
    "N (int): Количество точек, генерируемых для каждой стороны (натуральное число).\n",
    "\n",
    "Возвращает:\n",
    "\n",
    "np.ndarray: Массив координат точек, образующих границу многоугольника Рело.\n",
    "\n",
    "    \"\"\"\n",
    "    assert isinstance(n, int) and n > 2 and n % 2 == 1, \"n должно быть нечётным целым числом больше 2\"\n",
    "    assert isinstance(center, np.ndarray) and center.shape == (2,), \"center должен быть массивом из 2 элементов\"\n",
    "    assert isinstance(r, (int, float)) and r > 0, \"r должно быть положительным числом\"\n",
    "    assert isinstance(N, int) and N > 0, \"N должно быть натуральным числом\"\n",
    "    alpha = 2*np.pi/n\n",
    "    beta = alpha/2\n",
    "    angle = np.linspace(-beta/2, beta/2, N)\n",
    "    l=math.sqrt(2*r*r*(1-math.cos(beta)))\n",
    "    R = l/(2*np.sin(np.pi/n))\n",
    "    t = np.arange(0,2*np.pi,2*np.pi/n)\n",
    "    vertices = center + R*np.transpose([np.cos(t), np.sin(t)])\n",
    "    sides = np.concatenate([vertices[i] +\n",
    "     r*np.transpose([np.cos(angle + np.pi + i*alpha),\n",
    "     np.sin(angle + np.pi + i*alpha)])\n",
    "     for i in range(n)])\n",
    "    return sides"
   ]
  },
  {
   "cell_type": "markdown",
   "id": "17176425-66fd-4d32-8258-03bd4e2f01d2",
   "metadata": {},
   "source": [
    "# Задание 4.4. Тестирование функции"
   ]
  },
  {
   "cell_type": "code",
   "execution_count": 19,
   "id": "cc9a3e2e-0587-43be-ab1d-dded5a52647e",
   "metadata": {},
   "outputs": [],
   "source": [
    "import numpy as np\n",
    "import relo\n",
    "import math\n",
    "import matplotlib.pyplot as plt"
   ]
  },
  {
   "cell_type": "code",
   "execution_count": 20,
   "id": "047e1c92-b7fb-4673-8ed6-89f8193148e1",
   "metadata": {},
   "outputs": [
    {
     "ename": "AssertionError",
     "evalue": "n должно быть нечётным целым числом больше 2",
     "output_type": "error",
     "traceback": [
      "\u001b[1;31m---------------------------------------------------------------------------\u001b[0m",
      "\u001b[1;31mAssertionError\u001b[0m                            Traceback (most recent call last)",
      "Cell \u001b[1;32mIn[20], line 1\u001b[0m\n\u001b[1;32m----> 1\u001b[0m relo\u001b[38;5;241m.\u001b[39mregular_polygon_Relo(n\u001b[38;5;241m=\u001b[39m\u001b[38;5;241m4\u001b[39m)\n",
      "File \u001b[1;32m~\\км\\relo.py:19\u001b[0m, in \u001b[0;36mregular_polygon_Relo\u001b[1;34m(n, center, r, N)\u001b[0m\n\u001b[0;32m      3\u001b[0m \u001b[38;5;28;01mdef\u001b[39;00m \u001b[38;5;21mregular_polygon_Relo\u001b[39m(n\u001b[38;5;241m=\u001b[39m\u001b[38;5;241m3\u001b[39m, center\u001b[38;5;241m=\u001b[39mnp\u001b[38;5;241m.\u001b[39marray([\u001b[38;5;241m0\u001b[39m, \u001b[38;5;241m0\u001b[39m]), r\u001b[38;5;241m=\u001b[39m\u001b[38;5;241m1\u001b[39m, N\u001b[38;5;241m=\u001b[39m\u001b[38;5;241m100\u001b[39m):\n\u001b[0;32m      4\u001b[0m \u001b[38;5;250m    \u001b[39m\u001b[38;5;124;03m\"\"\"\u001b[39;00m\n\u001b[0;32m      5\u001b[0m \u001b[38;5;124;03mСоздает массив точек, формирующих границу правильного многоугольника Рело.\u001b[39;00m\n\u001b[0;32m      6\u001b[0m \n\u001b[1;32m   (...)\u001b[0m\n\u001b[0;32m     17\u001b[0m \n\u001b[0;32m     18\u001b[0m \u001b[38;5;124;03m \"\"\"\u001b[39;00m\n\u001b[1;32m---> 19\u001b[0m     \u001b[38;5;28;01massert\u001b[39;00m \u001b[38;5;28misinstance\u001b[39m(n, \u001b[38;5;28mint\u001b[39m) \u001b[38;5;129;01mand\u001b[39;00m n \u001b[38;5;241m>\u001b[39m \u001b[38;5;241m2\u001b[39m \u001b[38;5;129;01mand\u001b[39;00m n \u001b[38;5;241m%\u001b[39m \u001b[38;5;241m2\u001b[39m \u001b[38;5;241m==\u001b[39m \u001b[38;5;241m1\u001b[39m, \u001b[38;5;124m\"\u001b[39m\u001b[38;5;124mn должно быть нечётным целым числом больше 2\u001b[39m\u001b[38;5;124m\"\u001b[39m\n\u001b[0;32m     20\u001b[0m     \u001b[38;5;28;01massert\u001b[39;00m \u001b[38;5;28misinstance\u001b[39m(center, np\u001b[38;5;241m.\u001b[39mndarray) \u001b[38;5;129;01mand\u001b[39;00m center\u001b[38;5;241m.\u001b[39mshape \u001b[38;5;241m==\u001b[39m (\u001b[38;5;241m2\u001b[39m,), \u001b[38;5;124m\"\u001b[39m\u001b[38;5;124mcenter должен быть массивом из 2 элементов\u001b[39m\u001b[38;5;124m\"\u001b[39m\n\u001b[0;32m     21\u001b[0m     \u001b[38;5;28;01massert\u001b[39;00m \u001b[38;5;28misinstance\u001b[39m(r, (\u001b[38;5;28mint\u001b[39m, \u001b[38;5;28mfloat\u001b[39m)) \u001b[38;5;129;01mand\u001b[39;00m r \u001b[38;5;241m>\u001b[39m \u001b[38;5;241m0\u001b[39m, \u001b[38;5;124m\"\u001b[39m\u001b[38;5;124mr должно быть положительным числом\u001b[39m\u001b[38;5;124m\"\u001b[39m\n",
      "\u001b[1;31mAssertionError\u001b[0m: n должно быть нечётным целым числом больше 2"
     ]
    }
   ],
   "source": [
    "relo.regular_polygon_Relo(n=4)"
   ]
  },
  {
   "cell_type": "code",
   "execution_count": 22,
   "id": "0b8a49fa-a878-4a20-bd6a-7d9f028a5205",
   "metadata": {},
   "outputs": [
    {
     "ename": "AssertionError",
     "evalue": "center должен быть массивом из 2 элементов",
     "output_type": "error",
     "traceback": [
      "\u001b[1;31m---------------------------------------------------------------------------\u001b[0m",
      "\u001b[1;31mAssertionError\u001b[0m                            Traceback (most recent call last)",
      "Cell \u001b[1;32mIn[22], line 1\u001b[0m\n\u001b[1;32m----> 1\u001b[0m relo\u001b[38;5;241m.\u001b[39mregular_polygon_Relo(center\u001b[38;5;241m=\u001b[39m[\u001b[38;5;241m0\u001b[39m, \u001b[38;5;241m0\u001b[39m, \u001b[38;5;241m0\u001b[39m])\n",
      "File \u001b[1;32m~\\км\\relo.py:20\u001b[0m, in \u001b[0;36mregular_polygon_Relo\u001b[1;34m(n, center, r, N)\u001b[0m\n\u001b[0;32m      4\u001b[0m \u001b[38;5;250m    \u001b[39m\u001b[38;5;124;03m\"\"\"\u001b[39;00m\n\u001b[0;32m      5\u001b[0m \u001b[38;5;124;03mСоздает массив точек, формирующих границу правильного многоугольника Рело.\u001b[39;00m\n\u001b[0;32m      6\u001b[0m \n\u001b[1;32m   (...)\u001b[0m\n\u001b[0;32m     17\u001b[0m \n\u001b[0;32m     18\u001b[0m \u001b[38;5;124;03m \"\"\"\u001b[39;00m\n\u001b[0;32m     19\u001b[0m     \u001b[38;5;28;01massert\u001b[39;00m \u001b[38;5;28misinstance\u001b[39m(n, \u001b[38;5;28mint\u001b[39m) \u001b[38;5;129;01mand\u001b[39;00m n \u001b[38;5;241m>\u001b[39m \u001b[38;5;241m2\u001b[39m \u001b[38;5;129;01mand\u001b[39;00m n \u001b[38;5;241m%\u001b[39m \u001b[38;5;241m2\u001b[39m \u001b[38;5;241m==\u001b[39m \u001b[38;5;241m1\u001b[39m, \u001b[38;5;124m\"\u001b[39m\u001b[38;5;124mn должно быть нечётным целым числом больше 2\u001b[39m\u001b[38;5;124m\"\u001b[39m\n\u001b[1;32m---> 20\u001b[0m     \u001b[38;5;28;01massert\u001b[39;00m \u001b[38;5;28misinstance\u001b[39m(center, np\u001b[38;5;241m.\u001b[39mndarray) \u001b[38;5;129;01mand\u001b[39;00m center\u001b[38;5;241m.\u001b[39mshape \u001b[38;5;241m==\u001b[39m (\u001b[38;5;241m2\u001b[39m,), \u001b[38;5;124m\"\u001b[39m\u001b[38;5;124mcenter должен быть массивом из 2 элементов\u001b[39m\u001b[38;5;124m\"\u001b[39m\n\u001b[0;32m     21\u001b[0m     \u001b[38;5;28;01massert\u001b[39;00m \u001b[38;5;28misinstance\u001b[39m(r, (\u001b[38;5;28mint\u001b[39m, \u001b[38;5;28mfloat\u001b[39m)) \u001b[38;5;129;01mand\u001b[39;00m r \u001b[38;5;241m>\u001b[39m \u001b[38;5;241m0\u001b[39m, \u001b[38;5;124m\"\u001b[39m\u001b[38;5;124mr должно быть положительным числом\u001b[39m\u001b[38;5;124m\"\u001b[39m\n\u001b[0;32m     22\u001b[0m     \u001b[38;5;28;01massert\u001b[39;00m \u001b[38;5;28misinstance\u001b[39m(N, \u001b[38;5;28mint\u001b[39m) \u001b[38;5;129;01mand\u001b[39;00m N \u001b[38;5;241m>\u001b[39m \u001b[38;5;241m0\u001b[39m, \u001b[38;5;124m\"\u001b[39m\u001b[38;5;124mN должно быть натуральным числом\u001b[39m\u001b[38;5;124m\"\u001b[39m\n",
      "\u001b[1;31mAssertionError\u001b[0m: center должен быть массивом из 2 элементов"
     ]
    }
   ],
   "source": [
    "relo.regular_polygon_Relo(center=[0, 0, 0])"
   ]
  },
  {
   "cell_type": "code",
   "execution_count": 24,
   "id": "ddc9005b-9d7f-4ec7-a672-feb0363721ee",
   "metadata": {},
   "outputs": [
    {
     "ename": "AssertionError",
     "evalue": "n должно быть нечётным целым числом больше 2",
     "output_type": "error",
     "traceback": [
      "\u001b[1;31m---------------------------------------------------------------------------\u001b[0m",
      "\u001b[1;31mAssertionError\u001b[0m                            Traceback (most recent call last)",
      "Cell \u001b[1;32mIn[24], line 1\u001b[0m\n\u001b[1;32m----> 1\u001b[0m relo\u001b[38;5;241m.\u001b[39mregular_polygon_Relo(n\u001b[38;5;241m=\u001b[39m\u001b[38;5;241m-\u001b[39m\u001b[38;5;241m10\u001b[39m)\n",
      "File \u001b[1;32m~\\км\\relo.py:19\u001b[0m, in \u001b[0;36mregular_polygon_Relo\u001b[1;34m(n, center, r, N)\u001b[0m\n\u001b[0;32m      3\u001b[0m \u001b[38;5;28;01mdef\u001b[39;00m \u001b[38;5;21mregular_polygon_Relo\u001b[39m(n\u001b[38;5;241m=\u001b[39m\u001b[38;5;241m3\u001b[39m, center\u001b[38;5;241m=\u001b[39mnp\u001b[38;5;241m.\u001b[39marray([\u001b[38;5;241m0\u001b[39m, \u001b[38;5;241m0\u001b[39m]), r\u001b[38;5;241m=\u001b[39m\u001b[38;5;241m1\u001b[39m, N\u001b[38;5;241m=\u001b[39m\u001b[38;5;241m100\u001b[39m):\n\u001b[0;32m      4\u001b[0m \u001b[38;5;250m    \u001b[39m\u001b[38;5;124;03m\"\"\"\u001b[39;00m\n\u001b[0;32m      5\u001b[0m \u001b[38;5;124;03mСоздает массив точек, формирующих границу правильного многоугольника Рело.\u001b[39;00m\n\u001b[0;32m      6\u001b[0m \n\u001b[1;32m   (...)\u001b[0m\n\u001b[0;32m     17\u001b[0m \n\u001b[0;32m     18\u001b[0m \u001b[38;5;124;03m \"\"\"\u001b[39;00m\n\u001b[1;32m---> 19\u001b[0m     \u001b[38;5;28;01massert\u001b[39;00m \u001b[38;5;28misinstance\u001b[39m(n, \u001b[38;5;28mint\u001b[39m) \u001b[38;5;129;01mand\u001b[39;00m n \u001b[38;5;241m>\u001b[39m \u001b[38;5;241m2\u001b[39m \u001b[38;5;129;01mand\u001b[39;00m n \u001b[38;5;241m%\u001b[39m \u001b[38;5;241m2\u001b[39m \u001b[38;5;241m==\u001b[39m \u001b[38;5;241m1\u001b[39m, \u001b[38;5;124m\"\u001b[39m\u001b[38;5;124mn должно быть нечётным целым числом больше 2\u001b[39m\u001b[38;5;124m\"\u001b[39m\n\u001b[0;32m     20\u001b[0m     \u001b[38;5;28;01massert\u001b[39;00m \u001b[38;5;28misinstance\u001b[39m(center, np\u001b[38;5;241m.\u001b[39mndarray) \u001b[38;5;129;01mand\u001b[39;00m center\u001b[38;5;241m.\u001b[39mshape \u001b[38;5;241m==\u001b[39m (\u001b[38;5;241m2\u001b[39m,), \u001b[38;5;124m\"\u001b[39m\u001b[38;5;124mcenter должен быть массивом из 2 элементов\u001b[39m\u001b[38;5;124m\"\u001b[39m\n\u001b[0;32m     21\u001b[0m     \u001b[38;5;28;01massert\u001b[39;00m \u001b[38;5;28misinstance\u001b[39m(r, (\u001b[38;5;28mint\u001b[39m, \u001b[38;5;28mfloat\u001b[39m)) \u001b[38;5;129;01mand\u001b[39;00m r \u001b[38;5;241m>\u001b[39m \u001b[38;5;241m0\u001b[39m, \u001b[38;5;124m\"\u001b[39m\u001b[38;5;124mr должно быть положительным числом\u001b[39m\u001b[38;5;124m\"\u001b[39m\n",
      "\u001b[1;31mAssertionError\u001b[0m: n должно быть нечётным целым числом больше 2"
     ]
    }
   ],
   "source": [
    "relo.regular_polygon_Relo(n=-10)"
   ]
  },
  {
   "cell_type": "code",
   "execution_count": 26,
   "id": "f16e154a-d887-4ead-9970-89752e83474b",
   "metadata": {},
   "outputs": [
    {
     "ename": "AssertionError",
     "evalue": "n должно быть нечётным целым числом больше 2",
     "output_type": "error",
     "traceback": [
      "\u001b[1;31m---------------------------------------------------------------------------\u001b[0m",
      "\u001b[1;31mAssertionError\u001b[0m                            Traceback (most recent call last)",
      "Cell \u001b[1;32mIn[26], line 1\u001b[0m\n\u001b[1;32m----> 1\u001b[0m relo\u001b[38;5;241m.\u001b[39mregular_polygon_Relo(n\u001b[38;5;241m=\u001b[39m\u001b[38;5;241m10.67\u001b[39m)\n",
      "File \u001b[1;32m~\\км\\relo.py:19\u001b[0m, in \u001b[0;36mregular_polygon_Relo\u001b[1;34m(n, center, r, N)\u001b[0m\n\u001b[0;32m      3\u001b[0m \u001b[38;5;28;01mdef\u001b[39;00m \u001b[38;5;21mregular_polygon_Relo\u001b[39m(n\u001b[38;5;241m=\u001b[39m\u001b[38;5;241m3\u001b[39m, center\u001b[38;5;241m=\u001b[39mnp\u001b[38;5;241m.\u001b[39marray([\u001b[38;5;241m0\u001b[39m, \u001b[38;5;241m0\u001b[39m]), r\u001b[38;5;241m=\u001b[39m\u001b[38;5;241m1\u001b[39m, N\u001b[38;5;241m=\u001b[39m\u001b[38;5;241m100\u001b[39m):\n\u001b[0;32m      4\u001b[0m \u001b[38;5;250m    \u001b[39m\u001b[38;5;124;03m\"\"\"\u001b[39;00m\n\u001b[0;32m      5\u001b[0m \u001b[38;5;124;03mСоздает массив точек, формирующих границу правильного многоугольника Рело.\u001b[39;00m\n\u001b[0;32m      6\u001b[0m \n\u001b[1;32m   (...)\u001b[0m\n\u001b[0;32m     17\u001b[0m \n\u001b[0;32m     18\u001b[0m \u001b[38;5;124;03m \"\"\"\u001b[39;00m\n\u001b[1;32m---> 19\u001b[0m     \u001b[38;5;28;01massert\u001b[39;00m \u001b[38;5;28misinstance\u001b[39m(n, \u001b[38;5;28mint\u001b[39m) \u001b[38;5;129;01mand\u001b[39;00m n \u001b[38;5;241m>\u001b[39m \u001b[38;5;241m2\u001b[39m \u001b[38;5;129;01mand\u001b[39;00m n \u001b[38;5;241m%\u001b[39m \u001b[38;5;241m2\u001b[39m \u001b[38;5;241m==\u001b[39m \u001b[38;5;241m1\u001b[39m, \u001b[38;5;124m\"\u001b[39m\u001b[38;5;124mn должно быть нечётным целым числом больше 2\u001b[39m\u001b[38;5;124m\"\u001b[39m\n\u001b[0;32m     20\u001b[0m     \u001b[38;5;28;01massert\u001b[39;00m \u001b[38;5;28misinstance\u001b[39m(center, np\u001b[38;5;241m.\u001b[39mndarray) \u001b[38;5;129;01mand\u001b[39;00m center\u001b[38;5;241m.\u001b[39mshape \u001b[38;5;241m==\u001b[39m (\u001b[38;5;241m2\u001b[39m,), \u001b[38;5;124m\"\u001b[39m\u001b[38;5;124mcenter должен быть массивом из 2 элементов\u001b[39m\u001b[38;5;124m\"\u001b[39m\n\u001b[0;32m     21\u001b[0m     \u001b[38;5;28;01massert\u001b[39;00m \u001b[38;5;28misinstance\u001b[39m(r, (\u001b[38;5;28mint\u001b[39m, \u001b[38;5;28mfloat\u001b[39m)) \u001b[38;5;129;01mand\u001b[39;00m r \u001b[38;5;241m>\u001b[39m \u001b[38;5;241m0\u001b[39m, \u001b[38;5;124m\"\u001b[39m\u001b[38;5;124mr должно быть положительным числом\u001b[39m\u001b[38;5;124m\"\u001b[39m\n",
      "\u001b[1;31mAssertionError\u001b[0m: n должно быть нечётным целым числом больше 2"
     ]
    }
   ],
   "source": [
    "relo.regular_polygon_Relo(n=10.67)"
   ]
  },
  {
   "cell_type": "code",
   "execution_count": 28,
   "id": "dcd03ea5-1a17-4500-8227-0ca924f64008",
   "metadata": {},
   "outputs": [
    {
     "ename": "AssertionError",
     "evalue": "r должно быть положительным числом",
     "output_type": "error",
     "traceback": [
      "\u001b[1;31m---------------------------------------------------------------------------\u001b[0m",
      "\u001b[1;31mAssertionError\u001b[0m                            Traceback (most recent call last)",
      "Cell \u001b[1;32mIn[28], line 1\u001b[0m\n\u001b[1;32m----> 1\u001b[0m relo\u001b[38;5;241m.\u001b[39mregular_polygon_Relo(r\u001b[38;5;241m=\u001b[39m\u001b[38;5;241m-\u001b[39m\u001b[38;5;241m111\u001b[39m)\n",
      "File \u001b[1;32m~\\км\\relo.py:21\u001b[0m, in \u001b[0;36mregular_polygon_Relo\u001b[1;34m(n, center, r, N)\u001b[0m\n\u001b[0;32m     19\u001b[0m \u001b[38;5;28;01massert\u001b[39;00m \u001b[38;5;28misinstance\u001b[39m(n, \u001b[38;5;28mint\u001b[39m) \u001b[38;5;129;01mand\u001b[39;00m n \u001b[38;5;241m>\u001b[39m \u001b[38;5;241m2\u001b[39m \u001b[38;5;129;01mand\u001b[39;00m n \u001b[38;5;241m%\u001b[39m \u001b[38;5;241m2\u001b[39m \u001b[38;5;241m==\u001b[39m \u001b[38;5;241m1\u001b[39m, \u001b[38;5;124m\"\u001b[39m\u001b[38;5;124mn должно быть нечётным целым числом больше 2\u001b[39m\u001b[38;5;124m\"\u001b[39m\n\u001b[0;32m     20\u001b[0m \u001b[38;5;28;01massert\u001b[39;00m \u001b[38;5;28misinstance\u001b[39m(center, np\u001b[38;5;241m.\u001b[39mndarray) \u001b[38;5;129;01mand\u001b[39;00m center\u001b[38;5;241m.\u001b[39mshape \u001b[38;5;241m==\u001b[39m (\u001b[38;5;241m2\u001b[39m,), \u001b[38;5;124m\"\u001b[39m\u001b[38;5;124mcenter должен быть массивом из 2 элементов\u001b[39m\u001b[38;5;124m\"\u001b[39m\n\u001b[1;32m---> 21\u001b[0m \u001b[38;5;28;01massert\u001b[39;00m \u001b[38;5;28misinstance\u001b[39m(r, (\u001b[38;5;28mint\u001b[39m, \u001b[38;5;28mfloat\u001b[39m)) \u001b[38;5;129;01mand\u001b[39;00m r \u001b[38;5;241m>\u001b[39m \u001b[38;5;241m0\u001b[39m, \u001b[38;5;124m\"\u001b[39m\u001b[38;5;124mr должно быть положительным числом\u001b[39m\u001b[38;5;124m\"\u001b[39m\n\u001b[0;32m     22\u001b[0m \u001b[38;5;28;01massert\u001b[39;00m \u001b[38;5;28misinstance\u001b[39m(N, \u001b[38;5;28mint\u001b[39m) \u001b[38;5;129;01mand\u001b[39;00m N \u001b[38;5;241m>\u001b[39m \u001b[38;5;241m0\u001b[39m, \u001b[38;5;124m\"\u001b[39m\u001b[38;5;124mN должно быть натуральным числом\u001b[39m\u001b[38;5;124m\"\u001b[39m\n\u001b[0;32m     23\u001b[0m alpha \u001b[38;5;241m=\u001b[39m \u001b[38;5;241m2\u001b[39m \u001b[38;5;241m*\u001b[39m np\u001b[38;5;241m.\u001b[39mpi \u001b[38;5;241m/\u001b[39m n\n",
      "\u001b[1;31mAssertionError\u001b[0m: r должно быть положительным числом"
     ]
    }
   ],
   "source": [
    "relo.regular_polygon_Relo(r=-111)"
   ]
  },
  {
   "cell_type": "code",
   "execution_count": 30,
   "id": "edc1976d-f042-4e33-be29-d2f75e0dc26d",
   "metadata": {},
   "outputs": [
    {
     "ename": "AssertionError",
     "evalue": "N должно быть натуральным числом",
     "output_type": "error",
     "traceback": [
      "\u001b[1;31m---------------------------------------------------------------------------\u001b[0m",
      "\u001b[1;31mAssertionError\u001b[0m                            Traceback (most recent call last)",
      "Cell \u001b[1;32mIn[30], line 1\u001b[0m\n\u001b[1;32m----> 1\u001b[0m relo\u001b[38;5;241m.\u001b[39mregular_polygon_Relo(N\u001b[38;5;241m=\u001b[39m\u001b[38;5;241m3.11\u001b[39m)\n",
      "File \u001b[1;32m~\\км\\relo.py:22\u001b[0m, in \u001b[0;36mregular_polygon_Relo\u001b[1;34m(n, center, r, N)\u001b[0m\n\u001b[0;32m     20\u001b[0m \u001b[38;5;28;01massert\u001b[39;00m \u001b[38;5;28misinstance\u001b[39m(center, np\u001b[38;5;241m.\u001b[39mndarray) \u001b[38;5;129;01mand\u001b[39;00m center\u001b[38;5;241m.\u001b[39mshape \u001b[38;5;241m==\u001b[39m (\u001b[38;5;241m2\u001b[39m,), \u001b[38;5;124m\"\u001b[39m\u001b[38;5;124mcenter должен быть массивом из 2 элементов\u001b[39m\u001b[38;5;124m\"\u001b[39m\n\u001b[0;32m     21\u001b[0m \u001b[38;5;28;01massert\u001b[39;00m \u001b[38;5;28misinstance\u001b[39m(r, (\u001b[38;5;28mint\u001b[39m, \u001b[38;5;28mfloat\u001b[39m)) \u001b[38;5;129;01mand\u001b[39;00m r \u001b[38;5;241m>\u001b[39m \u001b[38;5;241m0\u001b[39m, \u001b[38;5;124m\"\u001b[39m\u001b[38;5;124mr должно быть положительным числом\u001b[39m\u001b[38;5;124m\"\u001b[39m\n\u001b[1;32m---> 22\u001b[0m \u001b[38;5;28;01massert\u001b[39;00m \u001b[38;5;28misinstance\u001b[39m(N, \u001b[38;5;28mint\u001b[39m) \u001b[38;5;129;01mand\u001b[39;00m N \u001b[38;5;241m>\u001b[39m \u001b[38;5;241m0\u001b[39m, \u001b[38;5;124m\"\u001b[39m\u001b[38;5;124mN должно быть натуральным числом\u001b[39m\u001b[38;5;124m\"\u001b[39m\n\u001b[0;32m     23\u001b[0m alpha \u001b[38;5;241m=\u001b[39m \u001b[38;5;241m2\u001b[39m \u001b[38;5;241m*\u001b[39m np\u001b[38;5;241m.\u001b[39mpi \u001b[38;5;241m/\u001b[39m n\n\u001b[0;32m     24\u001b[0m beta \u001b[38;5;241m=\u001b[39m alpha \u001b[38;5;241m/\u001b[39m \u001b[38;5;241m2\u001b[39m\n",
      "\u001b[1;31mAssertionError\u001b[0m: N должно быть натуральным числом"
     ]
    }
   ],
   "source": [
    "relo.regular_polygon_Relo(N=3.11)"
   ]
  },
  {
   "cell_type": "code",
   "execution_count": 32,
   "id": "ef2e5a0f-932c-49e4-a570-abbb365dfe1d",
   "metadata": {},
   "outputs": [
    {
     "ename": "AssertionError",
     "evalue": "N должно быть натуральным числом",
     "output_type": "error",
     "traceback": [
      "\u001b[1;31m---------------------------------------------------------------------------\u001b[0m",
      "\u001b[1;31mAssertionError\u001b[0m                            Traceback (most recent call last)",
      "Cell \u001b[1;32mIn[32], line 1\u001b[0m\n\u001b[1;32m----> 1\u001b[0m relo\u001b[38;5;241m.\u001b[39mregular_polygon_Relo(N\u001b[38;5;241m=\u001b[39m\u001b[38;5;241m-\u001b[39m\u001b[38;5;241m7\u001b[39m)\n",
      "File \u001b[1;32m~\\км\\relo.py:22\u001b[0m, in \u001b[0;36mregular_polygon_Relo\u001b[1;34m(n, center, r, N)\u001b[0m\n\u001b[0;32m     20\u001b[0m \u001b[38;5;28;01massert\u001b[39;00m \u001b[38;5;28misinstance\u001b[39m(center, np\u001b[38;5;241m.\u001b[39mndarray) \u001b[38;5;129;01mand\u001b[39;00m center\u001b[38;5;241m.\u001b[39mshape \u001b[38;5;241m==\u001b[39m (\u001b[38;5;241m2\u001b[39m,), \u001b[38;5;124m\"\u001b[39m\u001b[38;5;124mcenter должен быть массивом из 2 элементов\u001b[39m\u001b[38;5;124m\"\u001b[39m\n\u001b[0;32m     21\u001b[0m \u001b[38;5;28;01massert\u001b[39;00m \u001b[38;5;28misinstance\u001b[39m(r, (\u001b[38;5;28mint\u001b[39m, \u001b[38;5;28mfloat\u001b[39m)) \u001b[38;5;129;01mand\u001b[39;00m r \u001b[38;5;241m>\u001b[39m \u001b[38;5;241m0\u001b[39m, \u001b[38;5;124m\"\u001b[39m\u001b[38;5;124mr должно быть положительным числом\u001b[39m\u001b[38;5;124m\"\u001b[39m\n\u001b[1;32m---> 22\u001b[0m \u001b[38;5;28;01massert\u001b[39;00m \u001b[38;5;28misinstance\u001b[39m(N, \u001b[38;5;28mint\u001b[39m) \u001b[38;5;129;01mand\u001b[39;00m N \u001b[38;5;241m>\u001b[39m \u001b[38;5;241m0\u001b[39m, \u001b[38;5;124m\"\u001b[39m\u001b[38;5;124mN должно быть натуральным числом\u001b[39m\u001b[38;5;124m\"\u001b[39m\n\u001b[0;32m     23\u001b[0m alpha \u001b[38;5;241m=\u001b[39m \u001b[38;5;241m2\u001b[39m \u001b[38;5;241m*\u001b[39m np\u001b[38;5;241m.\u001b[39mpi \u001b[38;5;241m/\u001b[39m n\n\u001b[0;32m     24\u001b[0m beta \u001b[38;5;241m=\u001b[39m alpha \u001b[38;5;241m/\u001b[39m \u001b[38;5;241m2\u001b[39m\n",
      "\u001b[1;31mAssertionError\u001b[0m: N должно быть натуральным числом"
     ]
    }
   ],
   "source": [
    "relo.regular_polygon_Relo(N=-7)"
   ]
  },
  {
   "cell_type": "code",
   "execution_count": 76,
   "id": "cf2c5948-3d4b-40aa-a0c9-db27186d7a44",
   "metadata": {},
   "outputs": [
    {
     "data": {
      "image/png": "[encoded data removed]",
      "text/plain": [
       "<Figure size 640x480 with 1 Axes>"
      ]
     },
     "metadata": {},
     "output_type": "display_data"
    }
   ],
   "source": [
    "plt.figure()\n",
    "ax=plt.axes()\n",
    "sides1 = relo.regular_polygon_Relo(n=9, center=np.array([5, 1]), r=5, N=100)\n",
    "ax.plot(sides1[:, 0], sides1[:, 1],'b-',markersize=20)\n",
    "sides2 = relo.regular_polygon_Relo()\n",
    "ax.plot(sides2[:, 0], sides2[:, 1],'r-',markersize=20)\n",
    "sides3 = relo.regular_polygon_Relo(n=5, center=np.array([0, 5]), r=4, N=70)\n",
    "ax.plot(sides3[:, 0], sides3[:, 1],'purple',markersize=20)\n",
    "sides4 = relo.regular_polygon_Relo(7, np.array([0, 5]), N=120, r=10)\n",
    "ax.plot(sides4[:, 0], sides4[:, 1],'green',markersize=20)\n",
    "plt.axis('equal');"
   ]
  },
  {
   "cell_type": "code",
   "execution_count": null,
   "id": "37f19e3c-675e-4999-82b6-711513255b8e",
   "metadata": {},
   "outputs": [],
   "source": []
  }
 ],
 "metadata": {
  "kernelspec": {
   "display_name": "Python [conda env:base] *",
   "language": "python",
   "name": "conda-base-py"
  },
  "language_info": {
   "codemirror_mode": {
    "name": "ipython",
    "version": 3
   },
   "file_extension": ".py",
   "mimetype": "text/x-python",
   "name": "python",
   "nbconvert_exporter": "python",
   "pygments_lexer": "ipython3",
   "version": "3.12.7"
  }
 },
 "nbformat": 4,
 "nbformat_minor": 5
}
