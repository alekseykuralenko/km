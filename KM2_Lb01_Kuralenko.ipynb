{
 "cells": [
  {
   "cell_type": "markdown",
   "id": "5f8291aa-fbf5-4aaa-b8c1-59a2be07a5f2",
   "metadata": {},
   "source": [
    "# Лабораторная работа 1 \n",
    "# Задача о падении тела. Построение графиков функций."
   ]
  },
  {
   "cell_type": "markdown",
   "id": "851f4456-7af8-43c3-80e2-920d8e5c9c31",
   "metadata": {},
   "source": [
    "Кураленко Алексей Анатольевич 20.02.2025"
   ]
  },
  {
   "cell_type": "markdown",
   "id": "60df0a18-661f-4a8e-8131-aa8cbcfde40b",
   "metadata": {},
   "source": [
    "# Задание 1.1. Задача о падении тела"
   ]
  },
  {
   "cell_type": "markdown",
   "id": "7fa5c383-cbf2-47d0-8e99-eda156a94cb9",
   "metadata": {},
   "source": [
    "**Описание процесса**.  \n",
    "Тело запущено под углом $\\alpha$ к горизонту на высоте $h_{start}$ и через \n",
    "время $t=T$ достигает другое тело, расположенное на расстоянии $s_{end}$ и \n",
    "высоте $h_{end}$.  \n",
    "**Предположения**. - Тело будем считать материальной точкой массы $m$. - Движение запущенного тела осуществляется только под действием силы \n",
    "тяжести $${\\bf F} = m (0,-g),$$ где $m$ — масса тела, $g$ — ускорение \n",
    "свободного падения.\n",
    "\n",
    "**Данные.**\n",
    "- Задача рассматривается при следующих значениях параметров: $h_{start}$ = 1 m, $h_{end}$ = 3 m, $T$ = 3 s, $s_{end}$ = 5 m.\n",
    "- Угол запуска тела $\\alpha$ не известен.\n",
    "- Начальный момент времени движения тела полагаем равным нулю: $t$ = 0.\n",
    "- Значение массы тела $m$ не повлияет на функции перемещения тела.\n",
    "\n",
    "**Задания для выполнения.**\n",
    "- $\\color{red}\\text{Определите}$ функцию перемещения тела $(s_{x}(t), s_{y}(t))$ под действием силы тяжести, где $s_{x}(t)$ и $s_{y}(t)$ — горизонтальная и вертикальная составляющая положения тела в момент времени $t$, соответственно.\n",
    "- $\\color{red}\\text{Найдите}$ угол запуска тела $\\alpha$.\n",
    "- $\\color{red}\\text{Постройте}$ график траектории движения тела $(s_{x}(t), s_{y}(t))$ для $t \\in [0, T]$. "
   ]
  },
  {
   "cell_type": "markdown",
   "id": "8ffbdd7e-1bd3-4102-92c9-24749ceb4868",
   "metadata": {},
   "source": [
    "## Выполнение Задания 1.1 ##"
   ]
  },
  {
   "cell_type": "markdown",
   "id": "6c34fa09-aedd-4e27-9f00-f0cc2f584054",
   "metadata": {},
   "source": [
    "### Этап 1. Импортирование модулей ###"
   ]
  },
  {
   "cell_type": "markdown",
   "id": "50ffc8ea-d5a4-4c63-8733-d7d490d7297a",
   "metadata": {},
   "source": [
    "Импортируем модуль `math` с математическими функциями из стандартной\n",
    "библиотеки:"
   ]
  },
  {
   "cell_type": "code",
   "execution_count": 11,
   "id": "5c470d14-9f14-4ef1-b7df-cdb350141a08",
   "metadata": {},
   "outputs": [],
   "source": [
    "import math"
   ]
  },
  {
   "cell_type": "markdown",
   "id": "6d3ddcd0-017e-40d1-a0d7-330f3fe6882a",
   "metadata": {},
   "source": [
    "Доступ к инструментам модуля осуществляется с применением синтаксиса\n",
    "уточнения `<имя модуля>.<имя атрибута>`. Например,"
   ]
  },
  {
   "cell_type": "code",
   "execution_count": 13,
   "id": "db27d67d-9610-46cb-8bde-1eaa85bf9cc9",
   "metadata": {},
   "outputs": [
    {
     "data": {
      "text/plain": [
       "1.0"
      ]
     },
     "execution_count": 13,
     "metadata": {},
     "output_type": "execute_result"
    }
   ],
   "source": [
    "math.sin(math.pi/2)"
   ]
  },
  {
   "cell_type": "markdown",
   "id": "a3eda1dc-c6b9-463d-8e71-3f797b171666",
   "metadata": {},
   "source": [
    "Импортируем расширение `numpy` и создадим псевдоним `np` для доступа к\n",
    "инструментам модуля, не используя имя `numpy`"
   ]
  },
  {
   "cell_type": "code",
   "execution_count": 15,
   "id": "fe6fd34e-c185-4007-a838-8716f21878f6",
   "metadata": {},
   "outputs": [],
   "source": [
    "import numpy as np "
   ]
  },
  {
   "cell_type": "markdown",
   "id": "b6f852c3-b663-4fb6-a735-1bb9820812af",
   "metadata": {},
   "source": [
    "Расширение `numpy` основано на работе со структурой данных массив (` ndarray `).\n",
    "Массив (` ndarray `) не является встроенным типом данных Python, он является\n",
    "базовым типом расширения `numpy`.\n",
    "\n",
    "Импортируем модуль `pyplot` из пакета `matplotlib` для построения графиков.\n",
    "Для этого примененим синтаксис `<имя пакета>.<имя модуля в пакете>` и\n",
    "создадим псевдоним имени модуля `plt`"
   ]
  },
  {
   "cell_type": "code",
   "execution_count": 17,
   "id": "14127c57-0fe9-4861-8a48-e90531f17838",
   "metadata": {},
   "outputs": [],
   "source": [
    "import matplotlib.pyplot as plt"
   ]
  },
  {
   "cell_type": "markdown",
   "id": "a4c12e30-1288-4fd5-8462-4fcf42e89e88",
   "metadata": {},
   "source": [
    "Импортируем модуль `constants` из пакета расширений `scipy` с псевдонимом\n",
    "`const`. Модуль `constants` предоставляет доступ к значениям физических\n",
    "констант"
   ]
  },
  {
   "cell_type": "code",
   "execution_count": 19,
   "id": "82825df9-2549-4451-9bfd-a4934870e2d6",
   "metadata": {},
   "outputs": [],
   "source": [
    "import scipy.constants as const"
   ]
  },
  {
   "cell_type": "markdown",
   "id": "b931be90-fa19-4303-8290-ba5638021992",
   "metadata": {},
   "source": [
    "Импортируем модуль `sympy` для символьных вычислений в Python"
   ]
  },
  {
   "cell_type": "code",
   "execution_count": 21,
   "id": "c456dd59-4fe7-456f-b2fb-708cbf4122fd",
   "metadata": {},
   "outputs": [],
   "source": [
    "import sympy"
   ]
  },
  {
   "cell_type": "markdown",
   "id": "41076785-a519-4d7d-ac22-f5c7d642b880",
   "metadata": {},
   "source": [
    "###  Этап 2. Создание переменных ###"
   ]
  },
  {
   "cell_type": "markdown",
   "id": "107227c8-f27a-4f0f-a444-873b4c4d3cdd",
   "metadata": {},
   "source": [
    "**Переменные** создаются при первом присваивании им значений. Слева от\n",
    "оператора присваивания (`=`) записывается переменная, справа — выражение,\n",
    "результатом вычисления которого является объект: `переменная = объект`. Имена\n",
    "переменных рекомендовано задавать в нижнем регистре с использованием знака\n",
    "нижнего подчеркивания для смыслового разделения имени на части, например\n",
    "`first_variable = 1`. Объявлять переменные перед их инициализацией не нужно.\n",
    "\n",
    "После присваивания всякий раз, когда переменная появляется в коде, она\n",
    "заменяется на объект, на который ссылается. Нельзя использовать переменную,\n",
    "которой не присвоено значение."
   ]
  },
  {
   "cell_type": "code",
   "execution_count": 24,
   "id": "311242c9-be1e-49b8-b7da-8a50b9fe1f4c",
   "metadata": {},
   "outputs": [],
   "source": [
    "h_start = 1 # вертикальная составляющая положения тела в момент запуска\n",
    "h_end = 3.0E+0 # вертикальная составляющая положения тела в конечный момент движ\n",
    "T = 3.0 # время полета\n",
    "s_end = 5.0e0 # горизонтальное перемещение тела за время полета"
   ]
  },
  {
   "cell_type": "markdown",
   "id": "3cd9fc9d-f9e2-4694-84a0-655acfb09bf7",
   "metadata": {},
   "source": [
    "Отобразить значение переменной можно, указав ее имя в ячейке ввода в\n",
    "последней строке или с использованием встроенной функции `print`"
   ]
  },
  {
   "cell_type": "code",
   "execution_count": 26,
   "id": "ba077b85-8a72-48cb-a9f6-adb8bd9a6880",
   "metadata": {},
   "outputs": [
    {
     "data": {
      "text/plain": [
       "3.0"
      ]
     },
     "execution_count": 26,
     "metadata": {},
     "output_type": "execute_result"
    }
   ],
   "source": [
    "h_start # переменная не отобразится\n",
    "h_end # переменная отобразится"
   ]
  },
  {
   "cell_type": "code",
   "execution_count": 27,
   "id": "0ccb81e4-ab0c-404e-be8f-a3f00dbc3970",
   "metadata": {},
   "outputs": [
    {
     "name": "stdout",
     "output_type": "stream",
     "text": [
      "1 3.0\n"
     ]
    }
   ],
   "source": [
    "print(h_start, h_end)"
   ]
  },
  {
   "cell_type": "markdown",
   "id": "11099156-dffc-4d20-8103-589d714bfc17",
   "metadata": {},
   "source": [
    "Определим значение ускорения свободного падения для дальнейших расчетов:"
   ]
  },
  {
   "cell_type": "code",
   "execution_count": 29,
   "id": "9a4d3d03-0f53-45c7-a298-8455864de458",
   "metadata": {},
   "outputs": [
    {
     "data": {
      "text/plain": [
       "(9.80665, 'm s^-2')"
      ]
     },
     "execution_count": 29,
     "metadata": {},
     "output_type": "execute_result"
    }
   ],
   "source": [
    "g = const.g\n",
    "g, const.unit('standard acceleration of gravity')"
   ]
  },
  {
   "cell_type": "markdown",
   "id": "92f1048a-2216-494d-a33f-d9bf0169791a",
   "metadata": {},
   "source": [
    "$\\color{red}\\text{Приведите}$ несколько примеров физических констант из модуля\n",
    "`constants` пакета расширений `scipy`"
   ]
  },
  {
   "cell_type": "markdown",
   "id": "ca23fc71-55c0-4966-839c-8aea4906d081",
   "metadata": {},
   "source": [
    "Примеры:"
   ]
  },
  {
   "cell_type": "code",
   "execution_count": 32,
   "id": "697d5dd9-7127-4c8d-a236-22970c6d86c4",
   "metadata": {},
   "outputs": [
    {
     "data": {
      "text/plain": [
       "299792458.0"
      ]
     },
     "execution_count": 32,
     "metadata": {},
     "output_type": "execute_result"
    }
   ],
   "source": [
    "const.c # скорость света в м/с"
   ]
  },
  {
   "cell_type": "code",
   "execution_count": 33,
   "id": "c4d239a1-dbd7-46c5-af81-06f3b70d5d14",
   "metadata": {},
   "outputs": [
    {
     "data": {
      "text/plain": [
       "1.602176634e-19"
      ]
     },
     "execution_count": 33,
     "metadata": {},
     "output_type": "execute_result"
    }
   ],
   "source": [
    "const.e #элементарный заряд в кулонах"
   ]
  },
  {
   "cell_type": "code",
   "execution_count": 34,
   "id": "602629e2-ae9d-43d3-a38a-c0684883c95d",
   "metadata": {},
   "outputs": [
    {
     "data": {
      "text/plain": [
       "9.1093837015e-31"
      ]
     },
     "execution_count": 34,
     "metadata": {},
     "output_type": "execute_result"
    }
   ],
   "source": [
    "const.m_e #масса электрона в килограммах"
   ]
  },
  {
   "cell_type": "markdown",
   "id": "bfa344af-008a-449c-ae35-98ef61def654",
   "metadata": {},
   "source": [
    "Временной отрезок $[0,T]$ представим в виде последовательности чисел. Cоздадим\n",
    "последовательность равномерно распределенных чисел на отрезке $[0,T]$ с шагом 0.01 двумя способами: на основе встроенного типа список (`list`) и на основе\n",
    "массива (`ndarray`) из расширения `numpy`"
   ]
  },
  {
   "cell_type": "code",
   "execution_count": 36,
   "id": "40b58125-982c-4b1c-a33f-6417eeaa576b",
   "metadata": {},
   "outputs": [],
   "source": [
    "step = 0.01\n",
    "t_list = [0 + i*step for i in range(int(T/0.01))]\n",
    "t_array = np.arange(0,T,step)  "
   ]
  },
  {
   "cell_type": "markdown",
   "id": "468f78f8-988f-4304-8757-f85fbf315b23",
   "metadata": {},
   "source": [
    "$\\color{red}\\text{Сформулируйте}$ спецификации функций `range` и `arange` , приведите примеры"
   ]
  },
  {
   "cell_type": "markdown",
   "id": "8639bdf2-19d2-48cc-bc11-4090f68edaba",
   "metadata": {},
   "source": [
    "В Python функции range и arange используются для генерации последовательностей чисел.\n",
    "\n",
    "**range**\n",
    "- встроенная функция\n",
    "- генерирует последовательность целых чисел\n",
    "- синтаксис: range(start, stop[, step])\n",
    "по умолчанию: начальное значение -- 0, конечное значение не включается в последовательность, шаг -- 1\n",
    "- пример: <br/>\n",
    "  for i in range(1, 10, 2):<br/>\n",
    "    print(i)   (выводит: 1, 3, 5, 7, 9)\n",
    "  \n",
    "**arange**\n",
    "\n",
    "- функция из библиотеки NumPy.\n",
    "- генерирует последовательности чисел (целых или с плавающей запятой).\n",
    "- синтаксис: numpy.arange(start, stop[, step], dtype=None)\n",
    "по умолчанию: начальное значение -- 0, конечное значение не включается в последовательность, шаг -- 1\n",
    "- dtype -- тип данных выходного массива (опционально).\n",
    "- пример: <br/>\n",
    "import numpy as np <br/>\n",
    "array = np.arange(1, 10, 2) <br/>\n",
    "print(array)  (выводит: [1 3 5 7 9])"
   ]
  },
  {
   "cell_type": "code",
   "execution_count": 39,
   "id": "14d9d4f0-0d31-42ab-b2a9-caf803594f23",
   "metadata": {},
   "outputs": [],
   "source": [
    "#?range"
   ]
  },
  {
   "cell_type": "code",
   "execution_count": 40,
   "id": "1c3e1682-33b8-430d-8e1a-9d20fe386b37",
   "metadata": {},
   "outputs": [],
   "source": [
    " #?np.arange"
   ]
  },
  {
   "cell_type": "markdown",
   "id": "0056b0ae-de87-4cc3-87e0-15ff0ab81482",
   "metadata": {},
   "source": [
    "Запомните, что после создания списка (` list `) его размер изменить можно, после\n",
    "создания массива (` ndarray `) его размер изменить нельзя"
   ]
  },
  {
   "cell_type": "markdown",
   "id": "52562885-209b-48cb-8d4e-f6f27b784b1f",
   "metadata": {},
   "source": [
    "### Этап 3. Определение функции перемещения и нахождение угла запуска тела ###"
   ]
  },
  {
   "cell_type": "markdown",
   "id": "93dbec48-ca8b-400f-aaf3-0b2ea7c37fa0",
   "metadata": {},
   "source": [
    "$\n",
    "s_x(t) = s_x(0) + v0_{x} t = 0 + v0_{x} t,\n",
    "$\n",
    "\n",
    "$\n",
    "s_y(t) = s_y(0) + v0_{y} t - \\frac{g}{2} t^2 = h_{start} + v0_{y} t - \\frac{g}{2} t^2,\n",
    "$"
   ]
  },
  {
   "cell_type": "markdown",
   "id": "cf37775d-8e9a-433a-b07e-e777e44d4425",
   "metadata": {},
   "source": [
    "Аналитический вид для функций $s_{x}(t)$ и $s_{y}(t)$ получен так:\n",
    "\n",
    "**для оси Ох**: на тело не действовали никакие силы вдоль этой оси, поэтому оно двигается без изменения скорости(ускорение = 0), движение равномерно\n",
    "\n",
    "**для оси Оу**: на тело вдоль этой оси действует сила тяжести, ускорение по модулю равно ускорению свободного падения, движение равноускоренно"
   ]
  },
  {
   "cell_type": "markdown",
   "id": "e80f925d-a0b8-4c01-8f37-1899e83b3d87",
   "metadata": {},
   "source": [
    "Из условия задачи имеем, что $s_{x}(T)=s_{end}$ . Из этого соотношения находим значение для \n",
    "$v0_{x}$"
   ]
  },
  {
   "cell_type": "code",
   "execution_count": 46,
   "id": "180ef584-b869-464e-96c2-972be491d420",
   "metadata": {},
   "outputs": [
    {
     "data": {
      "text/plain": [
       "1.6666666666666667"
      ]
     },
     "execution_count": 46,
     "metadata": {},
     "output_type": "execute_result"
    }
   ],
   "source": [
    " v0_x = s_end/T\n",
    " v0_x "
   ]
  },
  {
   "cell_type": "markdown",
   "id": "80f076ad-7920-49d1-a49a-f6506f610abc",
   "metadata": {},
   "source": [
    "Из условия задачи имеем, что $s_{y}(T)=h_{end}$ . Из этого соотношения находим значение для \n",
    "$v_{0y}$"
   ]
  },
  {
   "cell_type": "code",
   "execution_count": 48,
   "id": "0d271cb1-04ce-472e-86e3-4ad1f0145507",
   "metadata": {},
   "outputs": [
    {
     "data": {
      "text/plain": [
       "15.376641666666666"
      ]
     },
     "execution_count": 48,
     "metadata": {},
     "output_type": "execute_result"
    }
   ],
   "source": [
    "v0_y = (h_end-h_start+g/2*T**2)/T\n",
    "v0_y"
   ]
  },
  {
   "cell_type": "markdown",
   "id": "31d0d10c-0dff-42c9-b3d3-4dfd8a5226eb",
   "metadata": {},
   "source": [
    "Значение угла запуска тела $\\alpha$ определяем из соотношения tan$ \\alpha=\\frac{v_{0y}}{v_{0x}}$"
   ]
  },
  {
   "cell_type": "code",
   "execution_count": 50,
   "id": "7930ab20-7b09-41ae-911a-9fdea638e752",
   "metadata": {},
   "outputs": [
    {
     "data": {
      "text/plain": [
       "(1.462828312588189, 83.81388846354714)"
      ]
     },
     "execution_count": 50,
     "metadata": {},
     "output_type": "execute_result"
    }
   ],
   "source": [
    "alpha = math.atan(v0_y/v0_x)\n",
    "alpha, math.degrees(alpha)"
   ]
  },
  {
   "cell_type": "markdown",
   "id": "e0f0bcc7-4607-4745-8673-d3d68fe57d4d",
   "metadata": {},
   "source": [
    "Результирующая функция перемещения имеет следующий вид"
   ]
  },
  {
   "cell_type": "code",
   "execution_count": 52,
   "id": "a5ef6129-e817-4ccc-9edb-df1ac6f6614a",
   "metadata": {},
   "outputs": [
    {
     "data": {
      "text/plain": [
       "'s_x(t) = 1.6666666666666667 t'"
      ]
     },
     "execution_count": 52,
     "metadata": {},
     "output_type": "execute_result"
    }
   ],
   "source": [
    "f's_x(t) = {v0_x} t'"
   ]
  },
  {
   "cell_type": "code",
   "execution_count": 53,
   "id": "4ebaad2e-e112-4315-a9cf-13b7f214c349",
   "metadata": {},
   "outputs": [
    {
     "data": {
      "text/plain": [
       "'s_y(t) = 1 + 15.3766 t - 9.80665/2*t²'"
      ]
     },
     "execution_count": 53,
     "metadata": {},
     "output_type": "execute_result"
    }
   ],
   "source": [
    " f's_y(t) = {h_start} + {v0_y:.6} t - {g:.6}/2*t\\N{superscript two}'"
   ]
  },
  {
   "cell_type": "markdown",
   "id": "1a1567bc-ed71-453e-933b-c49449834035",
   "metadata": {},
   "source": [
    "### Этап 4. Построение графика траектории движения тела ###"
   ]
  },
  {
   "cell_type": "markdown",
   "id": "e287e938-2e1c-4bcb-b725-14b2eec0e6ad",
   "metadata": {},
   "source": [
    "Построение графиков функций осуществляется по координатам точек графика. Создадим последовательность значений $x$-координат точек графика функции и последовательность соответствующих значений $y$-координат точек\n",
    "графика функции.</br> "
   ]
  },
  {
   "cell_type": "code",
   "execution_count": 119,
   "id": "d28946a5-2ae1-464e-bb76-45662d205773",
   "metadata": {},
   "outputs": [],
   "source": [
    " t_list, t_array; # символ ; предотвращает вывод"
   ]
  },
  {
   "cell_type": "markdown",
   "id": "756ea92d-1ee2-43c1-98b8-72ebafcb68a3",
   "metadata": {},
   "source": [
    " Определим списки чисел, соответствующие горизонтальным и вертикальным\n",
    " составляющим положения тела в моменты времени \n",
    "t_list с использованием\n",
    " формул, полученных на Этапе 3:"
   ]
  },
  {
   "cell_type": "code",
   "execution_count": 122,
   "id": "1868b530-3b32-44cb-abd0-3f21a79bd078",
   "metadata": {},
   "outputs": [],
   "source": [
    "s_x_list = [v0_x*t for t in t_list]\n",
    "s_y_list = [h_start+v0_y*t-g*t**2/2 for t in t_list]"
   ]
  },
  {
   "cell_type": "markdown",
   "id": "e8c30da0-a4d9-43b7-a69a-6f86f9a97f2c",
   "metadata": {},
   "source": [
    "Определим массивы чисел, соответствующие горизонтальным и вертикальным\n",
    "составляющим положения тела в момент времени `t_array` :"
   ]
  },
  {
   "cell_type": "code",
   "execution_count": 57,
   "id": "eb68fb0f-7799-456a-a46e-d7118e7eeac9",
   "metadata": {},
   "outputs": [],
   "source": [
    " s_x_array = v0_x*t_array\n",
    " s_y_array = h_start+v0_y*t_array-g*t_array**2/2"
   ]
  },
  {
   "cell_type": "markdown",
   "id": "aad5471a-672c-4b9f-8a4d-2fe7c9b5fdd1",
   "metadata": {},
   "source": [
    "Строим график траектории движения тела, используя инструменты модуля `pyplot`\n",
    "пакета\n",
    " `matplotlib` . Смотрите **Help | Matplotlib Reference** для справочной\n",
    " информации по используемым функциям: \n",
    "`figure , \n",
    "plot , \n",
    "title , \n",
    "ylabel , \n",
    "axis , \n",
    " xlim , \n",
    "ylim `"
   ]
  },
  {
   "cell_type": "code",
   "execution_count": 142,
   "id": "3c189cb5-a3c8-4176-989a-afef26eec41e",
   "metadata": {},
   "outputs": [
    {
     "data": {
      "text/plain": [
       "(0.0, 5.0, 0.0, 14.0)"
      ]
     },
     "execution_count": 142,
     "metadata": {},
     "output_type": "execute_result"
    },
    {
     "data": {
      "image/png": "[encoded data removed]",
      "text/plain": [
       "<Figure size 640x480 with 1 Axes>"
      ]
     },
     "metadata": {},
     "output_type": "display_data"
    }
   ],
   "source": [
    "plt.figure()\n",
    "plt.plot(s_x_list,s_y_list,'b-', lw=5)\n",
    "plt.title('Вертикальное перемещение тела')\n",
    "plt.xlabel('x (m)'); plt.ylabel('y (m)') # символ ; позволяет записывать несколько функций\n",
    "plt.axis([0, s_end, 0, h_end+11])"
   ]
  },
  {
   "cell_type": "code",
   "execution_count": 140,
   "id": "9ca9b360-d9d1-4c98-b0bf-6567543acb47",
   "metadata": {},
   "outputs": [
    {
     "data": {
      "image/png": "[encoded data removed]",
      "text/plain": [
       "<Figure size 640x480 with 1 Axes>"
      ]
     },
     "metadata": {},
     "output_type": "display_data"
    }
   ],
   "source": [
    "plt.figure()\n",
    "plt.plot(s_x_array,s_y_array,color='green' , lw=3)\n",
    "plt.title('Вертикальное перемещение тела')\n",
    "plt.xlabel('x (m)'); plt.ylabel('y (m)')\n",
    "# альтернативный синтаксис для установки пределов по осям\n",
    "plt.xlim(0, s_end)\n",
    "plt.ylim(0, h_end+11);"
   ]
  },
  {
   "cell_type": "markdown",
   "id": "abeba459-c38c-4ff3-968a-8ad1552c5b3b",
   "metadata": {},
   "source": [
    "# Задание 1.2. Определение момента времени касания телом земли"
   ]
  },
  {
   "cell_type": "markdown",
   "id": "19381089-eef3-4772-8632-f97760f13582",
   "metadata": {},
   "source": [
    "*Подход 1* (**точное решение**): \n",
    "время касания телом земли находим как точное решение уравнения $ s_y(t) = 0 $;\n",
    "\n",
    "*Подход 2* (**приближенное решение**)\n",
    "\n",
    "- Пострoйте последовательность $ s_y $ на временном отрезке $ [0, t_{stop}] $,  \n",
    "  чтобы момент касания тела земли $ t^* $ попадал в выбранный отрезок,  \n",
    "  т.е. $ t^* \\in [0, t_{stop}] $.  \n",
    "  Отметим, что $ t_{stop} > T $, где значение $ T $ задается в Задании 1.1.\n",
    "\n",
    "- Найдите в построенной последовательности $ s_y $ два соседних элемента  \n",
    "  последовательности, значения которых меняют знак.  \n",
    "  Т. е. найти значение индекса $ k $, для которого $ s_y[k] s_y[k+1] < 0 $.  \n",
    "  Это будет означать, что  \n",
    " $\n",
    "  0 \\in (s_y[k], s_y[k+1]).\n",
    "  $\n",
    "\n",
    "- Постройте прямую линию $ s_{lin}(t) $, проходящую через две точки  \n",
    "  $ (t[k], s_y[k]) $ и $ (t[k+1], s_y[k+1]) $  \n",
    "  и найти значение $ t^* \\in (t[k], t[k+1]) $ из условия  \n",
    "  $\n",
    "  s_{lin}(t^*) = 0.\n",
    "  $\n",
    "  Найденное значение $ t^* $ будет соответствовать точке $ (t^*, 0) $  \n",
    "  на прямой $ s_{lin}(t) $.  \n",
    "  **$\\color{red}\\text{Приведите}$** в документе формулы для прямой $ s_{lin}(t) $  \n",
    "  и для вычисления $ t^* $.\n",
    "\n",
    "**$\\color{red}\\text{Сравните}$** точное решение **(Подход 1)** и приближенное решение **(Подход 2)**, вычислив относительную ошибку."
   ]
  },
  {
   "cell_type": "markdown",
   "id": "72704a51-181d-4f6f-b609-81ab708dcbba",
   "metadata": {},
   "source": [
    "## Выполнение Задания 1.2 ##"
   ]
  },
  {
   "cell_type": "markdown",
   "id": "96f83171-1365-4543-afe9-f25525492eaf",
   "metadata": {},
   "source": [
    "### Рассмотрим *Подход 1* выполнения Задания 1.2. ###\n",
    "\n",
    "Для решения алгебраического уравнения $s_{y}(t) = 0$ воспользуемся функцией `solve` из модуля `sympy`, которая предназначена для решения алгебраических уравнений и систем уравнений. Для выполнения функции `solve` предварительно с помощью функции `symbols` необходимо создать **символьную переменную**, относительно которой будет определено уравнение.\n"
   ]
  },
  {
   "cell_type": "code",
   "execution_count": 63,
   "id": "bbe7d48d-de4b-4ce2-997a-637215563d03",
   "metadata": {},
   "outputs": [
    {
     "data": {
      "text/plain": [
       "[-0.0637382309488101, 3.19970039267921]"
      ]
     },
     "execution_count": 63,
     "metadata": {},
     "output_type": "execute_result"
    }
   ],
   "source": [
    " t = sympy.symbols('t')\n",
    " result = sympy.solve(h_start+v0_y*t-g*t**2/2, t)\n",
    " result"
   ]
  },
  {
   "cell_type": "code",
   "execution_count": 64,
   "id": "7e1c1406-1ff6-4437-85fa-4eb5d29dcf02",
   "metadata": {},
   "outputs": [
    {
     "data": {
      "text/latex": [
       "$\\displaystyle 3.19970039267921$"
      ],
      "text/plain": [
       "3.19970039267921"
      ]
     },
     "execution_count": 64,
     "metadata": {},
     "output_type": "execute_result"
    }
   ],
   "source": [
    " t_star_exact = result[-1]\n",
    " t_star_exact"
   ]
  },
  {
   "cell_type": "markdown",
   "id": "e5be3448-1ce8-4bb7-8836-3eb021452987",
   "metadata": {},
   "source": [
    "Cпецификации функций `symbols` и `solve` из модуля `sympy`. \n",
    "\n",
    "Функция `symbols` используется для создания символьных переменных, которые могут быть использованы в алгебраических выражениях и уравнениях\n",
    "\n",
    "Функция `solve` используется для решения уравнений и систем уравнений относительно заданных переменных </br>\n",
    "sympy.solve(expr, *symbols)"
   ]
  },
  {
   "cell_type": "markdown",
   "id": "c9eba382-c51d-476d-9d11-5186e5d85bd2",
   "metadata": {},
   "source": [
    "**Пример** </br>\n",
    "Решим уравнение  x² - 5x + 6 = 0 "
   ]
  },
  {
   "cell_type": "code",
   "execution_count": 160,
   "id": "1c9860b1-7e01-47a9-9b17-e7868493d83f",
   "metadata": {},
   "outputs": [
    {
     "name": "stdout",
     "output_type": "stream",
     "text": [
      "[2, 3]\n"
     ]
    }
   ],
   "source": [
    "x = sympy.symbols('x')\n",
    "solutions = sympy.solve(x**2 - 5*x + 6, x)\n",
    "print(solutions)"
   ]
  },
  {
   "cell_type": "markdown",
   "id": "993c81ee-aacd-45a3-b329-22ebb8eeecdb",
   "metadata": {},
   "source": [
    "**Пример** </br>\n",
    "Решим систему уравнений </br>\n",
    "1.  x + y = 22 </br>\n",
    "2.  x - y = 2"
   ]
  },
  {
   "cell_type": "code",
   "execution_count": 165,
   "id": "1a1a9ab9-b950-4ecf-8f73-8ba040afa579",
   "metadata": {},
   "outputs": [
    {
     "name": "stdout",
     "output_type": "stream",
     "text": [
      "{x: 12, y: 10}\n"
     ]
    }
   ],
   "source": [
    "x, y = sympy.symbols('x y')\n",
    "solutions = sympy.solve([x + y - 22, x - y - 2], (x, y))\n",
    "print(solutions)"
   ]
  },
  {
   "cell_type": "code",
   "execution_count": 149,
   "id": "0b0605a5-01e6-42a0-bb72-bb898959219d",
   "metadata": {},
   "outputs": [],
   "source": [
    "#?sympy.symbols"
   ]
  },
  {
   "cell_type": "code",
   "execution_count": 153,
   "id": "273c571c-7763-46dc-8080-c5835135d54e",
   "metadata": {},
   "outputs": [],
   "source": [
    "#?sympy.solve"
   ]
  },
  {
   "cell_type": "markdown",
   "id": "414c32c1-1342-41cb-93ec-5ec781dcfb0d",
   "metadata": {},
   "source": [
    "### Рассмотрим *Подход 2* выполнения Задания 1.2 ###"
   ]
  },
  {
   "cell_type": "markdown",
   "id": "e453aaee-7c20-4bd0-98d1-f8faf6e99a00",
   "metadata": {},
   "source": [
    "- для поиска индекса $k $, для которого $s_{y}[k] s_{y}[k+1] < 0 $, используйте цикл `for` по последовательности $s_{y}$ в сочетании с `enumerate`;\n",
    "- для вычисления $ t^* $ используйте построенную формулу."
   ]
  },
  {
   "cell_type": "code",
   "execution_count": 175,
   "id": "c3c3436c-8606-45b6-8af1-183428c5c269",
   "metadata": {},
   "outputs": [],
   "source": [
    "t_stop=5.0\n",
    "t_liststop= [0 + i*step for i in range(int(t_stop/0.01))]\n",
    "s_ylist=[h_start+v0_y*t-g*t**2/2 for t in t_liststop]"
   ]
  },
  {
   "cell_type": "code",
   "execution_count": 177,
   "id": "504961eb-2311-45a7-b31e-cea9da44394d",
   "metadata": {},
   "outputs": [],
   "source": [
    "for i, x in enumerate(s_ylist):\n",
    "    if s_ylist[i] * s_ylist[i + 1] < 0:  \n",
    "        k = i\n",
    "        break  \n",
    "t1, t2 = t_liststop[k], t_liststop[k+1]\n",
    "s1, s2 = s_ylist[k], s_ylist[k+1]"
   ]
  },
  {
   "cell_type": "markdown",
   "id": "16bdfa73-7a54-4e82-b5e5-568f0e3975ef",
   "metadata": {},
   "source": [
    "**Уравнение прямой через две точки:**\n",
    "</br>\n",
    "$$ y=kx+b $$\n",
    "</br>\n",
    "$$ k = \\frac {y2-y1} {x2-x1} $$\n",
    "</br>\n",
    "\n",
    "$$b=y1-k \\cdot x1$$\n"
   ]
  },
  {
   "cell_type": "code",
   "execution_count": 186,
   "id": "ee9d86df-2a73-4b19-8098-fea421f90380",
   "metadata": {},
   "outputs": [
    {
     "name": "stdout",
     "output_type": "stream",
     "text": [
      "3.1996994995400283\n"
     ]
    }
   ],
   "source": [
    "m = (s2 - s1) / (t2 - t1)\n",
    "b = s1 - m * t1\n",
    "t_fall= -b / m\n",
    "print(t_fall)"
   ]
  },
  {
   "cell_type": "code",
   "execution_count": 188,
   "id": "3ff41c75-de3f-46a2-afa1-e6cda10161da",
   "metadata": {},
   "outputs": [
    {
     "name": "stdout",
     "output_type": "stream",
     "text": [
      "разница между значениями   \n",
      "8.93139179058977e-7\n"
     ]
    }
   ],
   "source": [
    "print(\"разница между значениями \", \" \")\n",
    "print(t_star_exact - t_fall)"
   ]
  },
  {
   "cell_type": "markdown",
   "id": "ba6e4016-376c-4775-85c3-c30fe1c1e9b3",
   "metadata": {},
   "source": [
    "# Задание 1.3. Построение секущей, касательной и нормали к графику функции"
   ]
  },
  {
   "cell_type": "markdown",
   "id": "01ff9414-85c6-46af-9e19-a4afa6a9f89f",
   "metadata": {},
   "source": [
    "Построим в одной графической области:\n",
    "- график траектории движения тела $(s_x(t), s_y(t))$ для $ t \\in [0, T] $ из Задания 1.1;\n",
    "- график секущей прямой к траектории движения тела, проходящей через начальную точку при $ t = 0 $ и конечную точку при $ t = T $;\n",
    "- график касательной прямой к траектории движения тела в начальной точке при $ t = 0 $;\n",
    "- график нормальной прямой к траектории движения тела в начальной точке при $ t = 0 $.\n",
    "  </br>\n",
    "  </br>\n",
    "Построение графиков функций осуществляется по координатам точек графика. Для построения графиков прямых линий (секущая, касательная, нормаль) используйте только две точки"
   ]
  },
  {
   "cell_type": "markdown",
   "id": "1b66fa85-5193-4e42-aef0-a7493cc23421",
   "metadata": {},
   "source": [
    "## Выполнение Задания 1.3 ##"
   ]
  },
  {
   "cell_type": "markdown",
   "id": "5c03dccf-c50d-44af-ab50-69aa98a6dc10",
   "metadata": {},
   "source": [
    "Воспользуемся *векторно-параметрическим уравнением прямой* для заданной точки $ p_{start} $, лежащей на прямой, и заданного направляющего вектора $ a $  \n",
    "\n",
    "$$\n",
    "p(t) = p_{start} + at.\n",
    "$$  \n",
    "\n",
    "Направляющий вектор можно определить как $ a = p_{end} - p_{start} $, где точка $ p_{end} $ лежит на прямой и отлична от точки $ p_{start} $.  \n",
    "\n",
    "Введем новые переменные для описания начальной точки $ p_{start} $ и конечной точки $ p_{end} $ через их координаты. Для новых переменных используем тип массив (`ndarray`) из `numpy`. Представление координат точек в виде массивов иногда эффективнее, чем представление в виде списков, для дальнейшей работы с координатами."
   ]
  },
  {
   "cell_type": "code",
   "execution_count": 201,
   "id": "2ab6344e-a96b-4f6c-959f-17440b895dca",
   "metadata": {},
   "outputs": [
    {
     "data": {
      "text/plain": [
       "(array([0., 1.]), array([4.98333333, 3.13994275]))"
      ]
     },
     "execution_count": 201,
     "metadata": {},
     "output_type": "execute_result"
    }
   ],
   "source": [
    " p_start = np.array([s_x_array[0],s_y_array[0]])\n",
    " p_end = np.array([s_x_array[-1],s_y_array[-1]])\n",
    " p_start, p_end"
   ]
  },
  {
   "cell_type": "markdown",
   "id": "b32c7943-69d5-4b85-9b74-08902370f08b",
   "metadata": {},
   "source": [
    "Вычислим направляющий вектор:"
   ]
  },
  {
   "cell_type": "code",
   "execution_count": 204,
   "id": "7fbd4d0d-2a50-44ba-95b5-e790164069b6",
   "metadata": {},
   "outputs": [],
   "source": [
    "a = p_end-p_start"
   ]
  },
  {
   "cell_type": "code",
   "execution_count": 74,
   "id": "2705d624-2800-41b9-a328-8bded805add1",
   "metadata": {},
   "outputs": [],
   "source": [
    "p = [p_start + a*t for t in [-1, 2]] \n",
    "p = np.array(p)"
   ]
  },
  {
   "cell_type": "markdown",
   "id": "32c65a58-4d72-40e1-8bdf-6245a47a3e8d",
   "metadata": {},
   "source": [
    "Построим график траектории движения тела и график секущей прямой в одной графической области"
   ]
  },
  {
   "cell_type": "code",
   "execution_count": 207,
   "id": "dfb86ebb-4ac7-4d89-bc32-10fb56ac2c44",
   "metadata": {},
   "outputs": [
    {
     "data": {
      "image/png": "[encoded data removed]",
      "text/plain": [
       "<Figure size 640x480 with 1 Axes>"
      ]
     },
     "metadata": {},
     "output_type": "display_data"
    }
   ],
   "source": [
    " fig = plt.figure()\n",
    " plt.plot(s_x_array,s_y_array,'b-',lw=5)\n",
    " plt.plot(p[:,0],p[:,1],'--',color='red',lw=1) \n",
    " plt.xlabel('x (m)'); plt.ylabel('y (m)')\n",
    " plt.axis([-5, s_end+5, 0, h_end+11]);"
   ]
  },
  {
   "cell_type": "markdown",
   "id": "d3c63b65-10fb-4cca-aa00-2a1a5e65500f",
   "metadata": {},
   "source": [
    "Для построения касательной прямой к траектории движения тела в момент времени $t = 0$ воспользуемся уравнением прямой, по точке $p_{\\text{start}}(x_{\\text{start}}, y_{\\text{start}})$ с угловым коэффициентом $k$:\n",
    "$$\n",
    "y = k(x - x_{\\text{start}}) + y_{\\text{start}}\n",
    "$$\n"
   ]
  },
  {
   "cell_type": "markdown",
   "id": "c1c6e51c-c0ef-4bf2-90bc-c73ae7710f58",
   "metadata": {},
   "source": [
    "Угловой коэффициент $k$ = производной $s'(t)$ в точке $t=0$"
   ]
  },
  {
   "cell_type": "markdown",
   "id": "cbbe1441-801f-40d0-b73d-022bb4c4a66a",
   "metadata": {},
   "source": [
    "Нормальная прямая является перпендикулярной касательной и проходит через точку $p_{\\text{start}}$. Когда две прямые перпендикулярны, произведение их угловых коэффициентов = -1"
   ]
  },
  {
   "cell_type": "markdown",
   "id": "847f6e01-7be4-4f1d-817c-37bf27ab5af4",
   "metadata": {},
   "source": [
    "Уравнение нормальной прямой\n",
    "$$\n",
    "y = k_{\\text{normali}} (x - x_{\\text{start}}) + y_{\\text{start}}\n",
    "$$"
   ]
  },
  {
   "cell_type": "code",
   "execution_count": 223,
   "id": "72636a37-8333-437c-b397-f366616cc2ce",
   "metadata": {},
   "outputs": [],
   "source": [
    "s_difx=sympy.diff(s_x, t) #Вычисление производной\n",
    "s_dify=sympy.diff(s_y, t) #Вычисление производной\n",
    "k=s_dify.subs(t,0)/s_difx.subs(t,0) #Вычисление углового коэффициента; k — это угловой коэффициент в начале движения (t=0)\n",
    "y_kasstart = np.array([s_x_array[0],s_y_array[0]]) #начальная точка касательной линии \n",
    "y_kasend = np.array([s_x_array[0]+1,k+s_y_array[0]]) #конечная точка касательной линии, где x увеличивается на 1\n",
    "y_kas=[y_kasstart+ (y_kasend-y_kasstart)*t for t in [-1, 2]]\n",
    "y_kas = np.array(y_kas)\n",
    "#y_kas — список точек на касательной линии для значений t = -1 и t = 2. \n",
    "#Каждая точка определяется линейной интерполяцией между начальной и конечной точками\n",
    "y_norstart = np.array([s_x_array[0],s_y_array[0]]) #начальная точка нормали (та же, что и у касательной). \n",
    "y_norend = np.array([s_x_array[0]+1,-1/k+s_y_array[0]])\n",
    "y_nor=[y_norstart+ (y_norend-y_norstart)*t for t in [-6, 10]]\n",
    "y_nor = np.array(y_nor)"
   ]
  },
  {
   "cell_type": "code",
   "execution_count": null,
   "id": "398ab3d0-882c-4488-9753-1232ea1dd650",
   "metadata": {},
   "outputs": [],
   "source": [
    "fig = plt.figure()\n",
    "plt.plot(s_x_array,s_y_array,'b-',lw=5)\n",
    "plt.plot(p[:,0],p[:,1],'--',color='red',lw=1) \n",
    "plt.xlabel('x (m)'); plt.ylabel('y (m)')\n",
    "plt.axis([-5, s_end+5, 0, h_end+11]);\n",
    "plt.plot(y_kas[:,0], y_kas[:,1], color='orange', lw=3)\n",
    "plt.plot(y_nor[:,0],y_nor[:,1],color='green',lw=3)"
   ]
  },
  {
   "cell_type": "code",
   "execution_count": 231,
   "id": "5e03ee8e-9606-48f9-b5c5-95dfdd6063d2",
   "metadata": {},
   "outputs": [
    {
     "data": {
      "text/plain": [
       "(-5.0, 10.0, 0.0, 14.0)"
      ]
     },
     "execution_count": 231,
     "metadata": {},
     "output_type": "execute_result"
    },
    {
     "data": {
      "image/png": "[encoded data removed]",
      "text/plain": [
       "<Figure size 640x480 with 1 Axes>"
      ]
     },
     "metadata": {},
     "output_type": "display_data"
    }
   ],
   "source": [
    "fig = plt.figure()\n",
    "plt.plot(s_x_array,s_y_array,'b-',lw=5)\n",
    "plt.plot(p[:,0],p[:,1],'--',color='red',lw=1)\n",
    "plt.plot(y_kas[:,0], y_kas[:,1], color='cyan')\n",
    "plt.plot(y_nor[:,0],y_nor[:,1],color='violet')\n",
    "plt.xlabel('x (m)'); plt.ylabel('y (m)')\n",
    "plt.axis([-5, s_end+5, 0, h_end+11])"
   ]
  },
  {
   "cell_type": "markdown",
   "id": "d2c92779-28f1-4d32-af6a-5b83948c7822",
   "metadata": {},
   "source": [
    "# Задание 1.4. Построение графиков функций"
   ]
  },
  {
   "cell_type": "markdown",
   "id": "36a5a81f-79e2-4aca-86f0-772b7ce644d2",
   "metadata": {},
   "source": [
    "4. Роза"
   ]
  },
  {
   "cell_type": "markdown",
   "id": "8134ce3d-837d-4488-bb4f-b9bb70e562c6",
   "metadata": {},
   "source": [
    "а) полярная система координат"
   ]
  },
  {
   "cell_type": "code",
   "execution_count": 252,
   "id": "d0e98721-965c-4188-803f-b76c4856c8ff",
   "metadata": {
    "scrolled": true
   },
   "outputs": [
    {
     "data": {
      "text/plain": [
       "[<matplotlib.lines.Line2D at 0x1aaca33ecc0>]"
      ]
     },
     "execution_count": 252,
     "metadata": {},
     "output_type": "execute_result"
    },
    {
     "data": {
      "image/png": "[encoded data removed]",
      "text/plain": [
       "<Figure size 640x480 with 1 Axes>"
      ]
     },
     "metadata": {},
     "output_type": "display_data"
    }
   ],
   "source": [
    "plt.figure()\n",
    "plt.axes(projection='polar')\n",
    "angle = np.arange(-np.pi, np.pi, 0.005)\n",
    "k = 2\n",
    "r = a * np.sin(2 * k * angle)\n",
    "plt.plot(phi + (r < 0) * np.pi, abs(r), 'blue')"
   ]
  },
  {
   "cell_type": "code",
   "execution_count": null,
   "id": "0de263e1-376a-43fd-a0e6-8eaa6b525258",
   "metadata": {},
   "outputs": [],
   "source": [
    " б) декартовая система"
   ]
  },
  {
   "cell_type": "code",
   "execution_count": 248,
   "id": "75d57526-ced1-41c4-9e92-4f9216a0acf1",
   "metadata": {},
   "outputs": [
    {
     "data": {
      "text/plain": [
       "[<matplotlib.lines.Line2D at 0x1aaca530b00>]"
      ]
     },
     "execution_count": 248,
     "metadata": {},
     "output_type": "execute_result"
    },
    {
     "data": {
      "image/png": "[encoded data removed]",
      "text/plain": [
       "<Figure size 640x480 with 1 Axes>"
      ]
     },
     "metadata": {},
     "output_type": "display_data"
    }
   ],
   "source": [
    "t = np.arange(-7, 7, 0.01)\n",
    "x = np.log(t + np.sqrt(t**2 + 1))\n",
    "y = t * np.sqrt(t**2 + 1)\n",
    "plt.figure()\n",
    "plt.plot(x, y, 'b.')"
   ]
  }
 ],
 "metadata": {
  "kernelspec": {
   "display_name": "Python [conda env:base] *",
   "language": "python",
   "name": "conda-base-py"
  },
  "language_info": {
   "codemirror_mode": {
    "name": "ipython",
    "version": 3
   },
   "file_extension": ".py",
   "mimetype": "text/x-python",
   "name": "python",
   "nbconvert_exporter": "python",
   "pygments_lexer": "ipython3",
   "version": "3.12.7"
  }
 },
 "nbformat": 4,
 "nbformat_minor": 5
}
