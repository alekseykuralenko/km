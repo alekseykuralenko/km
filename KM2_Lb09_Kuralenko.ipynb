{
 "cells": [
  {
   "cell_type": "markdown",
   "id": "a30884b6-7485-4724-a98c-39f9f534ca36",
   "metadata": {},
   "source": [
    "# Лабораторная работа 9\n",
    "# Создание текстового файла большого объема с помощью генераторной функции"
   ]
  },
  {
   "cell_type": "markdown",
   "id": "ca3bd3ea-1adb-411d-ae78-ed1d7561e210",
   "metadata": {},
   "source": [
    "#### Кураленко Алексей 01.06"
   ]
  },
  {
   "cell_type": "code",
   "execution_count": 1,
   "id": "020f7256-5f11-4383-8d20-e5fb0c5da5a7",
   "metadata": {},
   "outputs": [],
   "source": [
    "from random import randint, choice"
   ]
  },
  {
   "cell_type": "code",
   "execution_count": 2,
   "id": "0149da61-c780-4b75-84eb-941c2fd3ee24",
   "metadata": {},
   "outputs": [
    {
     "data": {
      "text/plain": [
       "\u001b[1;31mSignature:\u001b[0m \u001b[0mrandint\u001b[0m\u001b[1;33m(\u001b[0m\u001b[0ma\u001b[0m\u001b[1;33m,\u001b[0m \u001b[0mb\u001b[0m\u001b[1;33m)\u001b[0m\u001b[1;33m\u001b[0m\u001b[1;33m\u001b[0m\u001b[0m\n",
       "\u001b[1;31mDocstring:\u001b[0m\n",
       "Return random integer in range [a, b], including both end points.\n",
       "        \n",
       "\u001b[1;31mFile:\u001b[0m      c:\\users\\lenovo\\anaconda3\\envs\\widgets_env\\lib\\random.py\n",
       "\u001b[1;31mType:\u001b[0m      method"
      ]
     },
     "metadata": {},
     "output_type": "display_data"
    }
   ],
   "source": [
    "?randint"
   ]
  },
  {
   "cell_type": "code",
   "execution_count": 4,
   "id": "3cc7713f-8361-43cb-9c8d-b25350492a7f",
   "metadata": {},
   "outputs": [
    {
     "data": {
      "text/plain": [
       "'Код символа: 117, символ: u'"
      ]
     },
     "execution_count": 4,
     "metadata": {},
     "output_type": "execute_result"
    }
   ],
   "source": [
    "latin_code = (ord('a'), ord('z')) # соответствует type_symbols = 'latin'\n",
    "f'Код символа: {(c:=randint(*latin_code))}, символ: {chr(c)}'"
   ]
  },
  {
   "cell_type": "markdown",
   "id": "ad3324c4-21d3-4c7c-8f12-beedd4b1250a",
   "metadata": {},
   "source": [
    "# Функция process_time из модуля time"
   ]
  },
  {
   "cell_type": "code",
   "execution_count": 5,
   "id": "d4d690b8-ce0d-4826-b6f8-82c7d03671d1",
   "metadata": {},
   "outputs": [],
   "source": [
    "from time import process_time"
   ]
  },
  {
   "cell_type": "code",
   "execution_count": 6,
   "id": "50001945-8fe7-4f37-98c3-9a2bd19ec32b",
   "metadata": {},
   "outputs": [
    {
     "data": {
      "text/plain": [
       "\u001b[1;31mDocstring:\u001b[0m\n",
       "process_time() -> float\n",
       "\n",
       "Process time for profiling: sum of the kernel and user-space CPU time.\n",
       "\u001b[1;31mType:\u001b[0m      builtin_function_or_method"
      ]
     },
     "metadata": {},
     "output_type": "display_data"
    }
   ],
   "source": [
    "?process_time\n"
   ]
  },
  {
   "cell_type": "code",
   "execution_count": 17,
   "id": "66f8f7dc-279c-412d-b74b-667a554437c6",
   "metadata": {},
   "outputs": [
    {
     "name": "stdout",
     "output_type": "stream",
     "text": [
      "0.1875 секунд\n"
     ]
    }
   ],
   "source": [
    "start = process_time()\n",
    "[x**2 for x in range(1_000_000)]\n",
    "end = process_time()\n",
    "print(f'{end - start} секунд')"
   ]
  },
  {
   "cell_type": "markdown",
   "id": "1442a198-38f1-460e-8a65-830254ffec91",
   "metadata": {},
   "source": [
    "# Задание 9.1. Запись данных в текстовый файл"
   ]
  },
  {
   "cell_type": "code",
   "execution_count": 18,
   "id": "395ebafc-1635-4602-b8e8-3ece53eabe98",
   "metadata": {},
   "outputs": [],
   "source": [
    "file_name = 'test.txt'\n",
    "f = open(file_name, 'w')"
   ]
  },
  {
   "cell_type": "code",
   "execution_count": 19,
   "id": "d2ec7c9d-8302-4bbd-a30c-47127105b52d",
   "metadata": {},
   "outputs": [
    {
     "data": {
      "text/plain": [
       "['t\\n', 'e\\n', 's\\n', 't\\n']"
      ]
     },
     "execution_count": 19,
     "metadata": {},
     "output_type": "execute_result"
    }
   ],
   "source": [
    "lines_list = [f'{x}\\n' for x in 'test']\n",
    "lines_list"
   ]
  },
  {
   "cell_type": "code",
   "execution_count": 20,
   "id": "5b8afcd0-b77c-44ed-965c-48621dc44a12",
   "metadata": {},
   "outputs": [],
   "source": [
    "f.writelines(lines_list)"
   ]
  },
  {
   "cell_type": "code",
   "execution_count": 21,
   "id": "ddb552f4-02ac-42ed-9111-828c048b1200",
   "metadata": {},
   "outputs": [],
   "source": [
    "f.close()"
   ]
  },
  {
   "cell_type": "code",
   "execution_count": 22,
   "id": "98097fc5-a239-4557-a138-01cb6a37b5ad",
   "metadata": {},
   "outputs": [
    {
     "name": "stdout",
     "output_type": "stream",
     "text": [
      "t\n",
      "e\n",
      "s\n",
      "t\n"
     ]
    }
   ],
   "source": [
    "with open(file_name,'r') as f:\n",
    "    for line in f:\n",
    "        print(line, end='')"
   ]
  },
  {
   "cell_type": "code",
   "execution_count": 23,
   "id": "fdb2349d-41d0-4df5-bf94-d25c9142964f",
   "metadata": {},
   "outputs": [],
   "source": [
    "lines_gen_expr = (f'{x}\\n' for x in range(10**6))\n",
    "def lines_gen_fun(number_lines=10**6):\n",
    "    yield from (f'{x}\\n' for x in range(number_lines))\n",
    "with open(file_name,'w') as f:\n",
    "    f.writelines(lines_gen_expr)\n",
    "    f.writelines(lines_gen_fun())"
   ]
  },
  {
   "cell_type": "code",
   "execution_count": 25,
   "id": "3e937f37-62bb-44a1-b24b-1682da5dc73d",
   "metadata": {},
   "outputs": [
    {
     "name": "stdout",
     "output_type": "stream",
     "text": [
      "6.569757461547852 Mb\n"
     ]
    }
   ],
   "source": [
    "def lines_gen_fun(number_lines = 10**6):\n",
    "    file_size = 0\n",
    "    for x in range(number_lines):\n",
    "        line = f'{x}\\n'\n",
    "        yield line\n",
    "        file_size += len(line)\n",
    "    print(f'{file_size/1024**2} Mb')\n",
    "\n",
    "with open(file_name,'w') as f:\n",
    "    f.writelines(lines_gen_fun())\n"
   ]
  },
  {
   "cell_type": "code",
   "execution_count": 26,
   "id": "7397b8ec-bc80-407a-a76a-1a2ed73cbc3f",
   "metadata": {},
   "outputs": [
    {
     "name": "stdout",
     "output_type": "stream",
     "text": [
      "6.569757461547852 Mb\n",
      "1.21875 секунд\n"
     ]
    }
   ],
   "source": [
    "with open(file_name,'w') as f:\n",
    "    start = process_time()\n",
    "    f.writelines(lines_gen_fun()) \n",
    "    end = process_time()\n",
    "    print(end - start, 'секунд')"
   ]
  },
  {
   "cell_type": "code",
   "execution_count": 30,
   "id": "06d38860-768c-4fa2-8331-9c0e9233d9c5",
   "metadata": {},
   "outputs": [],
   "source": [
    "def lines_gen_fun(number_lines=10**6, status=False):\n",
    "    file_size = 0\n",
    "    for x in range(number_lines):\n",
    "        line = f'{x}\\n'\n",
    "        yield line\n",
    "        file_size += len(line)\n",
    "        # отображение статуса записи в файл в процентах\n",
    "        if status:\n",
    "            status_number = x / number_lines * 100\n",
    "            # \\r — возврат курсора в начало строки\n",
    "            print(f'\\r{int(status_number)}%', end='', flush=True)\n",
    "    print(f'\\n {file_size/1024**2} Mb')"
   ]
  },
  {
   "cell_type": "code",
   "execution_count": 31,
   "id": "0294cfea-b03a-4731-9be4-a52c3d93a24d",
   "metadata": {},
   "outputs": [
    {
     "name": "stdout",
     "output_type": "stream",
     "text": [
      "99%\n",
      " 0.013246536254882812 Mb\n",
      "1.546875 секунд\n"
     ]
    }
   ],
   "source": [
    "with open(file_name,'w') as f:\n",
    "    start = process_time()\n",
    "    f.writelines(lines_gen_fun(3*10**3, status=True)) \n",
    "    end = process_time()\n",
    "    print(end - start, 'секунд')"
   ]
  },
  {
   "cell_type": "markdown",
   "id": "bf12bab2-4289-4768-8895-22c08b4b2e24",
   "metadata": {},
   "source": [
    "# Задание 9.2. Генерация строк"
   ]
  },
  {
   "cell_type": "code",
   "execution_count": 32,
   "id": "cd0454de-71a0-4931-ad61-3f1ada13af13",
   "metadata": {},
   "outputs": [],
   "source": [
    "latin_code = (ord('a'), ord('z')) # соответствует type_symbols = 'latin'\n",
    "number_words = (10, 20)\n",
    "number_symbols = (5, 10)"
   ]
  },
  {
   "cell_type": "code",
   "execution_count": 33,
   "id": "35cdb96c-69fa-4a57-b1a8-363101d46f81",
   "metadata": {},
   "outputs": [
    {
     "data": {
      "text/plain": [
       "'ifqrxkr'"
      ]
     },
     "execution_count": 33,
     "metadata": {},
     "output_type": "execute_result"
    }
   ],
   "source": [
    "len_word = randint(*number_symbols)\n",
    "word = ''.join([chr(randint(*latin_code)) for i in range(len_word)])\n",
    "word"
   ]
  },
  {
   "cell_type": "code",
   "execution_count": 40,
   "id": "3ff617b7-af06-4b32-a02e-ecf1feed6677",
   "metadata": {},
   "outputs": [],
   "source": [
    "number_code=(ord('0'), ord('9'))\n",
    "kir_code=(ord('А'), ord('Я'))\n",
    "\n",
    "skroka=' '.join(''.join([chr(randint(*choice([number_code,kir_code,latin_code]))) for i in range(randint(*number_symbols))]) for j in range(*number_words))"
   ]
  },
  {
   "cell_type": "code",
   "execution_count": 41,
   "id": "f483ddf6-d88d-4473-94f9-72c40850418d",
   "metadata": {},
   "outputs": [
    {
     "data": {
      "text/plain": [
       "'2ХxРУ82e mБec60rz tГmЕi3 phМЕЭs ЪЕyГЗ3n9 УnЬН3bЬ 03bМВ41ПЩТ З4ИГБqЮ7Н Д5ry0 htpnl'"
      ]
     },
     "execution_count": 41,
     "metadata": {},
     "output_type": "execute_result"
    }
   ],
   "source": [
    "skroka"
   ]
  },
  {
   "cell_type": "code",
   "execution_count": 43,
   "id": "29c66f96-0611-4bb9-8e72-ecacd7349df8",
   "metadata": {},
   "outputs": [],
   "source": [
    "def lines_gen_fun_v2(file_size_mb, type_symbols, number_words, number_symbols):\n",
    "    size = 0\n",
    "    limit_bytes = file_size_mb * 1024 ** 2   \n",
    "    while True:\n",
    "        line = ' '.join(''.join(chr(randint(*type_symbols)) \n",
    "                for _ in range(randint(*number_symbols)))\n",
    "            for _ in range(randint(*number_words)))\n",
    "        size += len(line) + 1 \n",
    "        if size > limit_bytes:\n",
    "            return\n",
    "        yield line + '\\n'"
   ]
  },
  {
   "cell_type": "code",
   "execution_count": 44,
   "id": "2cf1433a-4a26-48b5-8dfd-b11706c4caee",
   "metadata": {},
   "outputs": [
    {
     "name": "stdout",
     "output_type": "stream",
     "text": [
      "2.734375 секунд\n"
     ]
    }
   ],
   "source": [
    "with open(file_name,'w') as f:\n",
    "    start = process_time()\n",
    "    f.writelines(lines_gen_fun_v2(1.54,latin_code, number_words, number_symbols )) \n",
    "    end = process_time()\n",
    "    print(end - start, 'секунд')"
   ]
  },
  {
   "cell_type": "markdown",
   "id": "6e229128-af34-44ec-933b-8f8b2bbae523",
   "metadata": {},
   "source": [
    "# Задание 9.3. Запись сгенерированных строк в текстовый файл"
   ]
  },
  {
   "cell_type": "code",
   "execution_count": 57,
   "id": "6e394207-bd33-4a48-b841-2e061ae0bf05",
   "metadata": {},
   "outputs": [],
   "source": [
    "from random import randint\n",
    "from time import process_time\n",
    "\n",
    "def file_gen(file_name: str,\n",
    "             file_size: int,\n",
    "             type_symbols: str = 'latin',\n",
    "             number_words: (int, int) = (10, 20),\n",
    "             number_symbols: (int, int) = (5, 10)):\n",
    "    \"\"\"\n",
    "    Генерирует файл с текстовыми строками случайных слов из заданного набора символов.\n",
    "    Каждая строка содержит случайное количество слов, каждое слово — случайное количество символов.\n",
    "    Запись продолжается до достижения заданного размера файла в мегабайтах.\n",
    "\n",
    "    Args:\n",
    "        file_name (str): имя файла для записи.\n",
    "        file_size (int): желаемый размер файла в мегабайтах.\n",
    "        type_symbols (str): набор символов для генерации ('latin', 'digits', 'cyrillic').\n",
    "        number_words (tuple[int, int]): диапазон количества слов в строке (min, max).\n",
    "        number_symbols (tuple[int, int]): диапазон количества символов в слове (min, max).\n",
    "    \"\"\"\n",
    "    size = 0  # текущий размер записанных данных в байтах\n",
    "    limit_bytes = file_size * 1024 ** 2  # лимит размера файла в байтах (конвертация из мегабайт)\n",
    "    start = process_time()  # время начала генерации и записи\n",
    "\n",
    "    symbol_sets = {\n",
    "        'latin': [(ord('A'), ord('Z'))],     # диапазон кодов для латинских заглавных букв\n",
    "        'digits': [(ord('0'), ord('9'))],    # диапазон кодов для цифр\n",
    "        'cyrillic': [(ord('А'), ord('Я'))]   # диапазон кодов для кириллицы\n",
    "    }\n",
    "\n",
    "    last_percent = -1  # последняя выведенная процентная отметка\n",
    "\n",
    "    with open(file_name, 'w', encoding='utf-8') as f:  # открываем файл для записи в кодировке UTF-8\n",
    "        # перебираем строки, которые генерирует внешний генератор lines_gen_fun_v2\n",
    "        for line in lines_gen_fun_v2(file_size, *symbol_sets[type_symbols], number_words, number_symbols):\n",
    "            size += len(line)  # увеличиваем размер на длину текущей строки в байтах\n",
    "            f.write(line)      # записываем строку в файл\n",
    "\n",
    "            status_number = int(size / limit_bytes * 100)  # вычисляем процент выполнения\n",
    "            if status_number > last_percent:  # если прогресс изменился, выводим обновление\n",
    "                print(f'\\r{status_number}%', end='', flush=True)  # печатаем прогресс в консоль на той же строке\n",
    "                last_percent = status_number  # обновляем последнюю сохранённую отметку прогресса\n",
    "\n",
    "    end = process_time()  # время окончания записи\n",
    "\n",
    "    print(\"\\n\")  # перевод строки после прогресса\n",
    "    print(end - start, 'секунд')  # выводим, сколько заняло времени (в секундах)\n",
    "    print(f'\\n{size / 1024 ** 2} Mb')  # выводим фактический размер записанного файла в мегабайтах"
   ]
  },
  {
   "cell_type": "code",
   "execution_count": 58,
   "id": "080a21dc-e1c6-4e0b-a66d-dc33633953d9",
   "metadata": {},
   "outputs": [
    {
     "name": "stdout",
     "output_type": "stream",
     "text": [
      "99%\n",
      "\n",
      "1.71875 секунд\n",
      "\n",
      "1.9999637603759766 Mb\n"
     ]
    }
   ],
   "source": [
    "file_gen(file_name, 2, 'latin')"
   ]
  },
  {
   "cell_type": "code",
   "execution_count": null,
   "id": "8e5495bf-dd5b-4248-b93e-b1b34dd5725c",
   "metadata": {},
   "outputs": [],
   "source": []
  }
 ],
 "metadata": {
  "kernelspec": {
   "display_name": "Python 3 (ipykernel)",
   "language": "python",
   "name": "python3"
  },
  "language_info": {
   "codemirror_mode": {
    "name": "ipython",
    "version": 3
   },
   "file_extension": ".py",
   "mimetype": "text/x-python",
   "name": "python",
   "nbconvert_exporter": "python",
   "pygments_lexer": "ipython3",
   "version": "3.10.16"
  }
 },
 "nbformat": 4,
 "nbformat_minor": 5
}
