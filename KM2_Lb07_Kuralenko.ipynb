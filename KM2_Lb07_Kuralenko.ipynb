{
 "cells": [
  {
   "cell_type": "markdown",
   "id": "9c6053d5-a93a-4ce0-9890-dbb5e86ce65f",
   "metadata": {},
   "source": [
    "# Лабораторная работа 7\n",
    "# Построение бинарного дерева поиска. Подсчет количества элементов в дереве"
   ]
  },
  {
   "cell_type": "markdown",
   "id": "78ff1b30-4f61-4b13-a95c-940558bd646b",
   "metadata": {},
   "source": [
    "#### Кураленко Алексей 26.05"
   ]
  },
  {
   "cell_type": "markdown",
   "id": "ddc6689a-ba70-44ce-86ef-96406bb4c928",
   "metadata": {},
   "source": [
    "# Задание 7.1 Определение классов"
   ]
  },
  {
   "cell_type": "code",
   "execution_count": 4,
   "id": "dcb94c1f-f083-4bae-acf1-2bc723316339",
   "metadata": {},
   "outputs": [],
   "source": [
    "class BinaryTree:\n",
    "    def __init__(self):\n",
    "        self.root = EmptyNode()\n",
    "    def __repr__(self):\n",
    "        return repr(self.root)\n",
    "    def insert(self, value):\n",
    "        self.root = self.root.insert(value)"
   ]
  },
  {
   "cell_type": "code",
   "execution_count": 6,
   "id": "02728708-caa5-4bb0-9ec7-8d79efd475c7",
   "metadata": {},
   "outputs": [],
   "source": [
    "class BinaryNode:\n",
    "    def __init__(self, left, value, right):\n",
    "        self.left = left\n",
    "        self.value = value\n",
    "        self.right = right\n",
    "\n",
    "    def __repr__(self):\n",
    "        return f'({self.left}, {self.value}, {self.right})'"
   ]
  },
  {
   "cell_type": "code",
   "execution_count": 8,
   "id": "ada22dec-e12c-43d8-89c5-684e97bc6fcd",
   "metadata": {},
   "outputs": [],
   "source": [
    "class EmptyNode:\n",
    "    def __repr__(self):\n",
    "        return '*'\n",
    "\n",
    "    def insert(self, value):\n",
    "        return BinaryNode(self, value, self)"
   ]
  },
  {
   "cell_type": "markdown",
   "id": "248f9586-3489-44e9-aa8b-8569f4f62296",
   "metadata": {},
   "source": [
    "# Задание 7.2 Метод вставки элемента в бинарное дерево поиска"
   ]
  },
  {
   "cell_type": "code",
   "execution_count": 11,
   "id": "03a3b445-7f14-4dd2-8da1-d2d87972110a",
   "metadata": {},
   "outputs": [],
   "source": [
    "class BinaryNode:\n",
    "    def __init__(self, left, value, right):\n",
    "        self.left = left\n",
    "        self.value = value\n",
    "        self.right = right\n",
    "\n",
    "    def __repr__(self):\n",
    "        return f'({self.left}, {self.value}, {self.right})'\n",
    "\n",
    "    def insert(self, value):\n",
    "         if value<self.value:\n",
    "             self.left =self.left.insert(value)\n",
    "         else:\n",
    "             self.right =self.right.insert(value)\n",
    "         return self"
   ]
  },
  {
   "cell_type": "code",
   "execution_count": 13,
   "id": "fa4a7975-edb4-46ed-8eb9-c376645797ae",
   "metadata": {},
   "outputs": [],
   "source": [
    "source_data = [11,1,10,22,9,19,7]"
   ]
  },
  {
   "cell_type": "code",
   "execution_count": 15,
   "id": "4cc4a9a7-8581-44df-b1af-3d88801da6d9",
   "metadata": {},
   "outputs": [
    {
     "name": "stdout",
     "output_type": "stream",
     "text": [
      "((*, 1, (((*, 7, *), 9, *), 10, *)), 11, ((*, 19, *), 22, *))\n"
     ]
    }
   ],
   "source": [
    "tree_1=BinaryTree()\n",
    "for i in source_data:\n",
    "    tree_1.insert(i)\n",
    "print(tree_1)"
   ]
  },
  {
   "cell_type": "code",
   "execution_count": 17,
   "id": "19648d96-a4da-4100-84fa-603b4d8d2dc5",
   "metadata": {},
   "outputs": [
    {
     "data": {
      "text/plain": [
       "(*, 1, (*, 2, (*, 3, (*, 4, (*, 5, (*, 6, (*, 7, (*, 8, (*, 9, (*, 10, *))))))))))"
      ]
     },
     "execution_count": 17,
     "metadata": {},
     "output_type": "execute_result"
    }
   ],
   "source": [
    "tree_2=BinaryTree()\n",
    "for i in range(1,11):\n",
    "    tree_2.insert(i)\n",
    "tree_2"
   ]
  },
  {
   "cell_type": "code",
   "execution_count": 19,
   "id": "762c8eb4-0809-44b7-8f8b-ff9cdc292c2a",
   "metadata": {},
   "outputs": [
    {
     "data": {
      "text/plain": [
       "((((*, a, *), m, *), n, ((*, n, *), o, (*, o, (*, r, *)))), s, ((*, s, ((*, s, *), t, *)), u, *))"
      ]
     },
     "execution_count": 19,
     "metadata": {},
     "output_type": "execute_result"
    }
   ],
   "source": [
    "tree_3=BinaryTree()\n",
    "for i in \"sunmoonstars\":\n",
    "    tree_3.insert(i)\n",
    "tree_3"
   ]
  },
  {
   "cell_type": "markdown",
   "id": "aec3e76f-ce70-44cc-9d97-18fc9d679127",
   "metadata": {},
   "source": [
    "# Задание 7.3 Построение бинарного дерева поиска"
   ]
  },
  {
   "cell_type": "code",
   "execution_count": 22,
   "id": "64eb0818-b051-4bda-9ce6-a8b62b16c4a3",
   "metadata": {},
   "outputs": [
    {
     "data": {
      "text/plain": [
       "((*, 0, *), 3, (((*, 9, *), 10, *), 11, ((*, 15, *), 19, (*, 69, (*, 100, (*, 111, *))))))"
      ]
     },
     "execution_count": 22,
     "metadata": {},
     "output_type": "execute_result"
    }
   ],
   "source": [
    "tree11 = BinaryTree()\n",
    "with open(\"file1.txt\", \"r\") as f:\n",
    "    for line in f:\n",
    "        number = int(line.strip())\n",
    "        tree11.insert(number)\n",
    "tree11"
   ]
  },
  {
   "cell_type": "code",
   "execution_count": 24,
   "id": "1c8417ce-d85a-4757-833c-05688490cf9b",
   "metadata": {},
   "outputs": [
    {
     "data": {
      "text/plain": [
       "(*, 2, ((((*, 3, *), 5, *), 9, (*, 9, (*, 11, *))), 15, (*, 16, ((*, 90, ((*, 93, (*, 94, *)), 95, (*, 98, *))), 99, (*, 100, (*, 777, *))))))"
      ]
     },
     "execution_count": 24,
     "metadata": {},
     "output_type": "execute_result"
    }
   ],
   "source": [
    "import numpy as np\n",
    "tree22=BinaryTree()\n",
    "file=np.loadtxt(\"file2.txt\")\n",
    "for row in file:\n",
    "    for i in row:\n",
    "        tree22.insert(int(i)) \n",
    "tree22"
   ]
  },
  {
   "cell_type": "code",
   "execution_count": 26,
   "id": "fa9cb528-d5d5-42cc-93fd-be087719d092",
   "metadata": {},
   "outputs": [
    {
     "data": {
      "text/plain": [
       "((*, 1, (*, 5, (*, 7, *))), 9, ((*, 11, *), 12, ((*, 13, (*, 14, *)), 19, (*, 20, (*, 100, (*, 111, *))))))"
      ]
     },
     "execution_count": 26,
     "metadata": {},
     "output_type": "execute_result"
    }
   ],
   "source": [
    "tree33 = BinaryTree()\n",
    "with open(\"file3.txt\", \"r\") as f:\n",
    "    for line in f:\n",
    "        line_new=line.strip().split()\n",
    "        for i in line_new:\n",
    "            tree33.insert(int(i))\n",
    "tree33"
   ]
  },
  {
   "cell_type": "code",
   "execution_count": 28,
   "id": "4c7a4d17-d247-41f9-a455-450d73948424",
   "metadata": {},
   "outputs": [
    {
     "data": {
      "text/plain": [
       "((*, 1, ((*, 5, *), 9, (*, 11, *))), 19, (*, 20, ((*, 22, (*, 23, *)), 100, *)))"
      ]
     },
     "execution_count": 28,
     "metadata": {},
     "output_type": "execute_result"
    }
   ],
   "source": [
    "import json\n",
    "tree44 = BinaryTree()\n",
    "with open(\"file4.json\", \"r\") as f:\n",
    "    data = json.load(f)         \n",
    "    for numbers in data.values():\n",
    "        for num in numbers:\n",
    "            tree44.insert(num)\n",
    "tree44"
   ]
  },
  {
   "cell_type": "markdown",
   "id": "e2ca8738-dfae-419c-9f8c-07b589ee866f",
   "metadata": {},
   "source": [
    "json.load(file) -- загружает JSON-данные из файла и преобразует их в объект Python"
   ]
  },
  {
   "cell_type": "markdown",
   "id": "6eea767f-b69b-4a01-9c9d-e9453b67969f",
   "metadata": {},
   "source": [
    "# Задание 7.4 Перегрузка операции принадлежности in"
   ]
  },
  {
   "cell_type": "code",
   "execution_count": 32,
   "id": "6556ad1c-2682-49c6-8721-bc4a9bd3874f",
   "metadata": {},
   "outputs": [],
   "source": [
    "class BinaryTree:\n",
    "    def __init__(self):\n",
    "        self.root = EmptyNode()\n",
    "    def __repr__(self):\n",
    "        return repr(self.root)\n",
    "    def insert(self, value):\n",
    "        self.root = self.root.insert(value)\n",
    "    def __contains__(self, value):\n",
    "        return value in self.root"
   ]
  },
  {
   "cell_type": "code",
   "execution_count": 34,
   "id": "ee7ba512-a561-4ace-b00b-09e65734aacf",
   "metadata": {},
   "outputs": [],
   "source": [
    "class BinaryNode:\n",
    "    def __init__(self, left, value, right):\n",
    "        self.left = left\n",
    "        self.value = value\n",
    "        self.right = right\n",
    "\n",
    "    def __repr__(self):\n",
    "        return f'({self.left}, {self.value}, {self.right})'\n",
    "\n",
    "    def insert(self, value):\n",
    "         if value<self.value:\n",
    "             self.left =self.left.insert(value)\n",
    "         else:\n",
    "             self.right =self.right.insert(value)\n",
    "         return self\n",
    "        \n",
    "    def __contains__(self, value):\n",
    "        if value==self.value:\n",
    "            return True\n",
    "        if value<self.value:\n",
    "            return value in self.left\n",
    "        if value>self.value:\n",
    "            return value in self.right "
   ]
  },
  {
   "cell_type": "code",
   "execution_count": 36,
   "id": "fa90a44d-a803-46f1-898b-928cbdf40b0d",
   "metadata": {},
   "outputs": [],
   "source": [
    "class EmptyNode:\n",
    "    \n",
    "    def __repr__(self):\n",
    "        return '*'\n",
    "\n",
    "    def insert(self, value):\n",
    "        return BinaryNode(self, value, self)\n",
    "        \n",
    "    def __contains__(self, value):\n",
    "        return False"
   ]
  },
  {
   "cell_type": "code",
   "execution_count": 38,
   "id": "3d408c86-d4fa-4038-b9da-c6b75a157e81",
   "metadata": {},
   "outputs": [
    {
     "name": "stdout",
     "output_type": "stream",
     "text": [
      "(*, 5, *)\n",
      "((*, 1, *), 5, *)\n",
      "((*, 1, *), 5, (*, 10, *))\n",
      "((*, 1, (*, 3, *)), 5, (*, 10, *))\n",
      "((*, 1, (*, 3, (*, 4, *))), 5, (*, 10, *))\n",
      "(0, False) (1, True) (2, False) (3, True) (4, True) (5, True) (6, False) (7, False) (8, False) (9, False) "
     ]
    }
   ],
   "source": [
    "source_data = [5,1,10,3,4]\n",
    "tree = BinaryTree()\n",
    "for i in source_data:\n",
    "    tree.insert(i)\n",
    "    print(tree)\n",
    "    \n",
    "for i in range(10):\n",
    "    print((i, i in tree), end = ' ')"
   ]
  },
  {
   "cell_type": "code",
   "execution_count": 40,
   "id": "9442cefd-ba5c-473e-8b08-8925f724499e",
   "metadata": {},
   "outputs": [
    {
     "data": {
      "text/plain": [
       "((*, 1, (((*, 7, *), 9, *), 10, *)), 11, ((*, 19, *), 22, *))"
      ]
     },
     "execution_count": 40,
     "metadata": {},
     "output_type": "execute_result"
    }
   ],
   "source": [
    "tree_1"
   ]
  },
  {
   "cell_type": "code",
   "execution_count": 42,
   "id": "ab9716b9-21e7-4c4b-b345-99ff01a67f35",
   "metadata": {},
   "outputs": [
    {
     "name": "stdout",
     "output_type": "stream",
     "text": [
      "((*, 1, (*, 3, (*, 4, *))), 5, (*, 10, *))\n",
      "(1, True) (2, False) (3, True) (4, True) (5, True) "
     ]
    }
   ],
   "source": [
    "tree_1=BinaryTree()\n",
    "for i in source_data:\n",
    "    tree_1.insert(i)\n",
    "print(tree_1)\n",
    "for i in [1,2,3,4,5]:\n",
    "    print((i, i in tree_1), end = ' ')"
   ]
  },
  {
   "cell_type": "code",
   "execution_count": 44,
   "id": "4ea44385-eaff-4b7d-9faf-87c2b5cec68e",
   "metadata": {},
   "outputs": [
    {
     "name": "stdout",
     "output_type": "stream",
     "text": [
      "('m', True) ('o', True) ('o', True) ('n', True) ('l', False) ('i', False) ('g', False) ('h', False) ('t', True) "
     ]
    }
   ],
   "source": [
    "tree_3=BinaryTree()\n",
    "for i in \"sunmoonstars\":\n",
    "    tree_3.insert(i)\n",
    "for i in \"moonlight\":\n",
    "    print((i, i in tree_3), end = ' ')"
   ]
  },
  {
   "cell_type": "markdown",
   "id": "47f9f93e-54e9-4f36-8c9d-8502f962a01b",
   "metadata": {},
   "source": [
    "# Задание 7.5 Перегрузка встроенной функции len"
   ]
  },
  {
   "cell_type": "code",
   "execution_count": 47,
   "id": "1c752868-8231-4f74-9d65-3b3164999feb",
   "metadata": {},
   "outputs": [],
   "source": [
    "class BinaryTree:\n",
    "    def __init__(self):\n",
    "        BinaryNode.numberOfNodes = 0\n",
    "        self.root = EmptyNode()\n",
    "    def __repr__(self):\n",
    "        return repr(self.root)\n",
    "    def insert(self, value):\n",
    "        self.root = self.root.insert(value)\n",
    "    def __contains__(self, value):\n",
    "        return value in self.root\n",
    "    def __len__(self):\n",
    "        return len(self.root)"
   ]
  },
  {
   "cell_type": "code",
   "execution_count": 49,
   "id": "5eb9354b-da62-458b-987d-8787c8bee252",
   "metadata": {},
   "outputs": [],
   "source": [
    "class BinaryNode:\n",
    "    numberOfNodes = 0 \n",
    "    def __init__(self, left, value, right):\n",
    "        self.left = left\n",
    "        self.value = value\n",
    "        self.right = right\n",
    "        BinaryNode.numberOfNodes += 1 \n",
    "\n",
    "    def __repr__(self):\n",
    "        return f'({self.left}, {self.value}, {self.right})'\n",
    "\n",
    "    def insert(self, value):\n",
    "         if value<self.value:\n",
    "             self.left =self.left.insert(value)\n",
    "         else:\n",
    "             self.right =self.right.insert(value)\n",
    "         return self\n",
    "    def __contains__(self, value):\n",
    "        if value==self.value:\n",
    "            return True\n",
    "        if value<self.value:\n",
    "            return value in self.left\n",
    "        if value>self.value:\n",
    "            return value in self.right \n",
    "    def __len__(self):\n",
    "        return self.numberOfNodes"
   ]
  },
  {
   "cell_type": "code",
   "execution_count": 51,
   "id": "d6732985-5fa0-44c6-8413-f91f33c63292",
   "metadata": {},
   "outputs": [],
   "source": [
    "class EmptyNode:\n",
    "    def __repr__(self):\n",
    "        return '*'\n",
    "\n",
    "    def insert(self, value):\n",
    "        return BinaryNode(self, value, self)\n",
    "    def __contains__(self, value):\n",
    "        return False\n",
    "    def __len__(self):\n",
    "        return 0"
   ]
  },
  {
   "cell_type": "code",
   "execution_count": 53,
   "id": "722fe999-3fe5-492c-be1d-7a86dfe201d7",
   "metadata": {},
   "outputs": [
    {
     "data": {
      "text/plain": [
       "5"
      ]
     },
     "execution_count": 53,
     "metadata": {},
     "output_type": "execute_result"
    }
   ],
   "source": [
    "tree = BinaryTree()\n",
    "for i in source_data:\n",
    "    tree.insert(i)\n",
    "    \n",
    "len(tree)"
   ]
  },
  {
   "cell_type": "code",
   "execution_count": 55,
   "id": "6bcbc826-725f-4399-9982-f656b0064ad4",
   "metadata": {},
   "outputs": [
    {
     "data": {
      "text/plain": [
       "((*, 1, (*, 3, (*, 4, *))), 5, (*, 10, *))"
      ]
     },
     "execution_count": 55,
     "metadata": {},
     "output_type": "execute_result"
    }
   ],
   "source": [
    "tree_1=BinaryTree()\n",
    "for i in source_data:\n",
    "    tree_1.insert(i)\n",
    "tree_1"
   ]
  },
  {
   "cell_type": "code",
   "execution_count": 57,
   "id": "0d4f8ac7-af08-4095-b57c-040f6b73f0e4",
   "metadata": {},
   "outputs": [
    {
     "data": {
      "text/plain": [
       "5"
      ]
     },
     "execution_count": 57,
     "metadata": {},
     "output_type": "execute_result"
    }
   ],
   "source": [
    "len(tree_1)"
   ]
  },
  {
   "cell_type": "code",
   "execution_count": 59,
   "id": "fce54f0f-03c6-4bb7-ac79-7c78e90b0f4b",
   "metadata": {},
   "outputs": [
    {
     "data": {
      "text/plain": [
       "(*, 1, (*, 2, (*, 3, (*, 4, (*, 5, (*, 6, (*, 7, (*, 8, (*, 9, (*, 10, *))))))))))"
      ]
     },
     "execution_count": 59,
     "metadata": {},
     "output_type": "execute_result"
    }
   ],
   "source": [
    "tree_2=BinaryTree()\n",
    "for i in range(1,11):\n",
    "    tree_2.insert(i)\n",
    "tree_2"
   ]
  },
  {
   "cell_type": "code",
   "execution_count": 61,
   "id": "3a33abb7-ecb4-4fdf-af23-fc6180890b4a",
   "metadata": {},
   "outputs": [
    {
     "data": {
      "text/plain": [
       "10"
      ]
     },
     "execution_count": 61,
     "metadata": {},
     "output_type": "execute_result"
    }
   ],
   "source": [
    "len(tree_2)"
   ]
  },
  {
   "cell_type": "code",
   "execution_count": 63,
   "id": "3063b2d9-ec9e-4fd7-ac6b-565e42ce5e41",
   "metadata": {},
   "outputs": [
    {
     "data": {
      "text/plain": [
       "((((*, a, *), m, *), n, ((*, n, *), o, (*, o, (*, r, *)))), s, ((*, s, ((*, s, *), t, *)), u, *))"
      ]
     },
     "execution_count": 63,
     "metadata": {},
     "output_type": "execute_result"
    }
   ],
   "source": [
    "tree_3=BinaryTree()\n",
    "for i in \"sunmoonstars\":\n",
    "    tree_3.insert(i)\n",
    "tree_3"
   ]
  },
  {
   "cell_type": "code",
   "execution_count": 65,
   "id": "8bb46605-30dd-4ff2-ad9e-3ac779f8e668",
   "metadata": {},
   "outputs": [
    {
     "data": {
      "text/plain": [
       "12"
      ]
     },
     "execution_count": 65,
     "metadata": {},
     "output_type": "execute_result"
    }
   ],
   "source": [
    "len(tree_3)"
   ]
  },
  {
   "cell_type": "code",
   "execution_count": null,
   "id": "9f63ab70-ad6b-4804-9bf4-dad68c97d753",
   "metadata": {},
   "outputs": [],
   "source": []
  }
 ],
 "metadata": {
  "kernelspec": {
   "display_name": "Python [conda env:base] *",
   "language": "python",
   "name": "conda-base-py"
  },
  "language_info": {
   "codemirror_mode": {
    "name": "ipython",
    "version": 3
   },
   "file_extension": ".py",
   "mimetype": "text/x-python",
   "name": "python",
   "nbconvert_exporter": "python",
   "pygments_lexer": "ipython3",
   "version": "3.12.7"
  }
 },
 "nbformat": 4,
 "nbformat_minor": 5
}
