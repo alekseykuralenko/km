{
 "cells": [
  {
   "cell_type": "markdown",
   "id": "2f175b1d-3a30-4a97-a94c-9fa102f0b767",
   "metadata": {},
   "source": [
    "# Лабораторная работа 2\n",
    "# Встроенные типы объектов в Pyhon"
   ]
  },
  {
   "cell_type": "markdown",
   "id": "3c7112f0-ecc0-4a01-8ca5-1f1915e78eb9",
   "metadata": {},
   "source": [
    "Кураленко Алексей \n",
    "11.03"
   ]
  },
  {
   "cell_type": "markdown",
   "id": "33ae5b3e-378d-4435-a26a-0ebd19625e94",
   "metadata": {},
   "source": [
    "## Задание 1. Построение иерархии встроенных типов в Python"
   ]
  },
  {
   "cell_type": "markdown",
   "id": "50a3879b-3085-4269-b8b2-33ad6897ac86",
   "metadata": {},
   "source": [
    "1. **Числовые типы (Numbers)**\n",
    "   - **int** (целые числа)\n",
    "     - Пример: `1`, `11`, `-5`\n",
    "     - Неизменяемый\n",
    "   - **float** (числа с плавающей точкой)\n",
    "     - Пример: `11.0`, `3.67889011`, `-0.55`\n",
    "     - Неизменяемый\n",
    "   - **complex** (комплексные числа)\n",
    "     - Пример: `11 + 2j`, `9 + 44j`\n",
    "     - Неизменяемый\n",
    "   - **bool** (логические значения)\n",
    "     - Пример: `True`, `False`\n",
    "     - Неизменяемый\n",
    " </br>\n",
    " </br>\n",
    "2. **Коллекции (Collections)**\n",
    "   - **Последовательности (Sequences)**\n",
    "     - **str** (строки)\n",
    "       - Пример: `'hello'`, `\"world\"`\n",
    "       - Упорядоченная\n",
    "       - Неизменяемый\n",
    "     - **list** (списки)\n",
    "       - Пример: `[1, 2, 3, 4, 5]`, `['a', 'b', 'c']`\n",
    "       - Упорядоченная\n",
    "       - Изменяемый\n",
    "     - **tuple** (кортежи)\n",
    "       - Пример: `(1, 2, 3, 4, 5)`, `('a', 'b', 'c')`\n",
    "       - Упорядоченная\n",
    "       - Неизменяемый\n",
    "   - **Отображения (Mappings)**\n",
    "     - **dict** (словари)\n",
    "       - Пример: `{'key': 'value', 'name': 'Alice'}`\n",
    "       - Неупорядоченная (в Python 3.7+ сохраняет порядок вставки)\n",
    "       - Изменяемый\n",
    "   - **Множества (Sets)**\n",
    "     - **set** (множества)\n",
    "       - Пример: `{1, 2, 3, 4, 5}`\n",
    "       - Неупорядоченная\n",
    "       - Изменяемый\n",
    "     - **frozenset** (неизменяемые множества)\n",
    "       - Пример: `frozenset([1, 2, 3, 4, 5])`\n",
    "       - Неупорядоченная\n",
    "       - Неизменяемый"
   ]
  },
  {
   "cell_type": "markdown",
   "id": "9d1fbcc8-66b9-44d1-9116-a37b9ccc7396",
   "metadata": {},
   "source": [
    "## Задание 2. Объект как фундаментальное понятие в Python. Встроенные типы объектов"
   ]
  },
  {
   "cell_type": "markdown",
   "id": "742f58e9-154f-4485-9995-2b1e2704dab6",
   "metadata": {},
   "source": [
    "### 2.1 Понятие объекта. Атрибуты. Методы. Встроенные типы объектов"
   ]
  },
  {
   "cell_type": "markdown",
   "id": "14604b1d-9bc6-4851-94df-b6aac27ea9ff",
   "metadata": {},
   "source": [
    "### 2.2 Встроенные типы объектов, представляющих числа"
   ]
  },
  {
   "cell_type": "code",
   "execution_count": 63,
   "id": "25320110-5194-4c90-b963-5df12c6dcdad",
   "metadata": {},
   "outputs": [
    {
     "name": "stdout",
     "output_type": "stream",
     "text": [
      "0.3\n"
     ]
    }
   ],
   "source": [
    "import decimal as dec\n",
    "a = dec.Decimal('0.1')\n",
    "print(a+dec.Decimal('0.2'))"
   ]
  },
  {
   "cell_type": "code",
   "execution_count": 67,
   "id": "26c85887-34a1-48d5-a684-f156b2e0201f",
   "metadata": {},
   "outputs": [
    {
     "name": "stdout",
     "output_type": "stream",
     "text": [
      "2/45\n"
     ]
    }
   ],
   "source": [
    "import fractions as fr\n",
    "b = fr.Fraction(1, 9)\n",
    "print(b*fr.Fraction(2, 5))"
   ]
  },
  {
   "cell_type": "markdown",
   "id": "9ca64e5f-b57b-4046-bedd-67674f9cb98e",
   "metadata": {},
   "source": [
    "### 2.3 Встроенные типы последовательностей: str, list, tuple"
   ]
  },
  {
   "cell_type": "markdown",
   "id": "bd7eeb65-0267-4b81-9d5c-325844d47b48",
   "metadata": {},
   "source": [
    "используя только нарезание и конкатенацию:"
   ]
  },
  {
   "cell_type": "code",
   "execution_count": 69,
   "id": "79b9719f-faad-4b15-9a11-7576eb81504a",
   "metadata": {},
   "outputs": [
    {
     "name": "stdout",
     "output_type": "stream",
     "text": [
      "slam\n"
     ]
    }
   ],
   "source": [
    "S = 'spam'\n",
    "S = S[:1] + 'l' + S[2:] \n",
    "print(S)"
   ]
  },
  {
   "cell_type": "markdown",
   "id": "611b8ece-ab64-46ed-91ac-01ae542bfb8e",
   "metadata": {},
   "source": [
    "используя индексацию и конкатенацию:"
   ]
  },
  {
   "cell_type": "code",
   "execution_count": 75,
   "id": "76624953-86b4-4459-babf-147239323bc2",
   "metadata": {},
   "outputs": [
    {
     "name": "stdout",
     "output_type": "stream",
     "text": [
      "slam\n"
     ]
    }
   ],
   "source": [
    "S = 'spam'\n",
    "S = S[0]+'l'+S[2:]\n",
    "print(S)"
   ]
  },
  {
   "cell_type": "markdown",
   "id": "eb7ab341-c56d-4bf4-86e2-3ac1ffb21941",
   "metadata": {},
   "source": [
    "присваивание по индексу не работает, так как строка -- неизменяемый объект"
   ]
  },
  {
   "cell_type": "markdown",
   "id": "e8afc5e5-2f98-4190-b31a-edb219356162",
   "metadata": {},
   "source": [
    "### 2.4 Встроенный тип отображения: dict"
   ]
  },
  {
   "cell_type": "code",
   "execution_count": 77,
   "id": "31b942fa-a0e2-46f4-b64c-800ee631765d",
   "metadata": {},
   "outputs": [
    {
     "data": {
      "text/plain": [
       "'K A A'"
      ]
     },
     "execution_count": 77,
     "metadata": {},
     "output_type": "execute_result"
    }
   ],
   "source": [
    "my_information = {\n",
    "    'name': 'K A A',\n",
    "    'age': 17,\n",
    "    'work': 'no',\n",
    "    'address': 'A. 10-11',\n",
    "    'email': 'a@gmail.com',\n",
    "    'phone': '39088881'\n",
    "}\n",
    "my_information['name']"
   ]
  },
  {
   "cell_type": "markdown",
   "id": "e5aef4ee-4fa7-4c12-a060-888829045676",
   "metadata": {},
   "source": [
    "### 2.5 Встроенный тип множества: set"
   ]
  },
  {
   "cell_type": "code",
   "execution_count": null,
   "id": "082f567a-f375-470a-bf53-0bcdad8b1ad8",
   "metadata": {},
   "outputs": [],
   "source": []
  },
  {
   "cell_type": "code",
   "execution_count": 121,
   "id": "49506239-93bf-4f48-b452-8636944332d1",
   "metadata": {},
   "outputs": [
    {
     "name": "stdout",
     "output_type": "stream",
     "text": [
      "aabbaaaaabbbbbcccdaad\n",
      "bacd\n"
     ]
    }
   ],
   "source": [
    "s='aabbaaaaabbbbbcccdaad'\n",
    "print(s)\n",
    "s1=set(s)\n",
    "print(\"\" .join(s1))"
   ]
  },
  {
   "cell_type": "markdown",
   "id": "5cabb912-ba23-488a-826b-8ffbd7d0a523",
   "metadata": {},
   "source": [
    "### 2.8 Интерфейс объекта: операции и методы"
   ]
  },
  {
   "cell_type": "code",
   "execution_count": 135,
   "id": "248c1fa0-2e95-4b3f-80ad-b40ad0694c41",
   "metadata": {},
   "outputs": [
    {
     "data": {
      "text/plain": [
       "(2, 1, 2)"
      ]
     },
     "execution_count": 135,
     "metadata": {},
     "output_type": "execute_result"
    }
   ],
   "source": [
    "s='Minsk i'\n",
    "l=[i for i in range(11)]\n",
    "k=tuple([i for i in range(11)]+[5])\n",
    "s.count('i'),l.count(5),k.count(5)"
   ]
  },
  {
   "cell_type": "code",
   "execution_count": 141,
   "id": "63ce6efb-b586-4b87-8566-3d2478af14e8",
   "metadata": {},
   "outputs": [
    {
     "data": {
      "text/plain": [
       "(1, 5, 5)"
      ]
     },
     "execution_count": 141,
     "metadata": {},
     "output_type": "execute_result"
    }
   ],
   "source": [
    "s.index('i'),l.index(5),k.index(5)"
   ]
  },
  {
   "cell_type": "code",
   "execution_count": 159,
   "id": "6c985044-e82f-4395-a118-07176e46b4f9",
   "metadata": {},
   "outputs": [
    {
     "name": "stdout",
     "output_type": "stream",
     "text": [
      "minsk\n",
      "P-I-N-S-K\n"
     ]
    }
   ],
   "source": [
    "s='minsk'\n",
    "print(s)\n",
    "s=s.upper()\n",
    "s='-'.join(s)\n",
    "s=s.replace('M','P')\n",
    "print(s)"
   ]
  },
  {
   "cell_type": "code",
   "execution_count": 181,
   "id": "8e41acf5-c231-4d3a-91e9-074453bcef5e",
   "metadata": {},
   "outputs": [
    {
     "name": "stdout",
     "output_type": "stream",
     "text": [
      "[1, 2, 4]\n",
      "[1, 2, 3, 4, 5, 6, 7, 8]\n"
     ]
    }
   ],
   "source": [
    "l= [1, 2, 4]\n",
    "print(l)\n",
    "l.append(5)\n",
    "l.insert(2, 3)\n",
    "l.extend([6, 7, 8])\n",
    "print(l)"
   ]
  },
  {
   "cell_type": "code",
   "execution_count": 185,
   "id": "7b43ea3b-0818-41cc-84f9-a8af70a539ea",
   "metadata": {},
   "outputs": [
    {
     "data": {
      "text/plain": [
       "['b', 'ab', 'abc', 'abcabc']"
      ]
     },
     "execution_count": 185,
     "metadata": {},
     "output_type": "execute_result"
    }
   ],
   "source": [
    "s = [\"abc\", \"b\", \"abcabc\", \"ab\"]\n",
    "s.sort(key=len)\n",
    "s"
   ]
  },
  {
   "cell_type": "code",
   "execution_count": 187,
   "id": "f9dc789d-d641-42f2-8021-4c72579fa324",
   "metadata": {},
   "outputs": [
    {
     "data": {
      "text/plain": [
       "{1: 'abc',\n",
       " 2: 'abc',\n",
       " 3: 'abc',\n",
       " 4: 'abc',\n",
       " 5: 'abc',\n",
       " 6: 'abc',\n",
       " 7: 'abc',\n",
       " 8: 'abc',\n",
       " 9: 'abc',\n",
       " 10: 'abc',\n",
       " 11: 'abc',\n",
       " 12: 'abc',\n",
       " 13: 'abc',\n",
       " 14: 'abc',\n",
       " 15: 'abc',\n",
       " 16: 'abc',\n",
       " 17: 'abc',\n",
       " 18: 'abc',\n",
       " 19: 'abc',\n",
       " 20: 'abc',\n",
       " 21: 'abc',\n",
       " 22: 'abc',\n",
       " 23: 'abc',\n",
       " 24: 'abc',\n",
       " 25: 'abc',\n",
       " 26: 'abc',\n",
       " 27: 'abc',\n",
       " 28: 'abc',\n",
       " 29: 'abc',\n",
       " 30: 'abc',\n",
       " 31: 'abc',\n",
       " 32: 'abc',\n",
       " 33: 'abc',\n",
       " 34: 'abc',\n",
       " 35: 'abc',\n",
       " 36: 'abc',\n",
       " 37: 'abc',\n",
       " 38: 'abc',\n",
       " 39: 'abc',\n",
       " 40: 'abc',\n",
       " 41: 'abc',\n",
       " 42: 'abc',\n",
       " 43: 'abc',\n",
       " 44: 'abc',\n",
       " 45: 'abc',\n",
       " 46: 'abc',\n",
       " 47: 'abc',\n",
       " 48: 'abc',\n",
       " 49: 'abc',\n",
       " 50: 'abc',\n",
       " 51: 'abc',\n",
       " 52: 'abc',\n",
       " 53: 'abc',\n",
       " 54: 'abc',\n",
       " 55: 'abc',\n",
       " 56: 'abc',\n",
       " 57: 'abc',\n",
       " 58: 'abc',\n",
       " 59: 'abc',\n",
       " 60: 'abc',\n",
       " 61: 'abc',\n",
       " 62: 'abc',\n",
       " 63: 'abc',\n",
       " 64: 'abc',\n",
       " 65: 'abc',\n",
       " 66: 'abc',\n",
       " 67: 'abc',\n",
       " 68: 'abc',\n",
       " 69: 'abc',\n",
       " 70: 'abc',\n",
       " 71: 'abc',\n",
       " 72: 'abc',\n",
       " 73: 'abc',\n",
       " 74: 'abc',\n",
       " 75: 'abc',\n",
       " 76: 'abc',\n",
       " 77: 'abc',\n",
       " 78: 'abc',\n",
       " 79: 'abc',\n",
       " 80: 'abc',\n",
       " 81: 'abc',\n",
       " 82: 'abc',\n",
       " 83: 'abc',\n",
       " 84: 'abc',\n",
       " 85: 'abc',\n",
       " 86: 'abc',\n",
       " 87: 'abc',\n",
       " 88: 'abc',\n",
       " 89: 'abc',\n",
       " 90: 'abc',\n",
       " 91: 'abc',\n",
       " 92: 'abc',\n",
       " 93: 'abc',\n",
       " 94: 'abc',\n",
       " 95: 'abc',\n",
       " 96: 'abc',\n",
       " 97: 'abc',\n",
       " 98: 'abc',\n",
       " 99: 'abc',\n",
       " 100: 'abc'}"
      ]
     },
     "execution_count": 187,
     "metadata": {},
     "output_type": "execute_result"
    }
   ],
   "source": [
    "dic = dict.fromkeys(range(1, 101), 'abc')\n",
    "dic"
   ]
  },
  {
   "cell_type": "markdown",
   "id": "5272c977-462f-4dfc-bb11-a8647dd2c407",
   "metadata": {},
   "source": [
    "### 2.9 Переменная"
   ]
  },
  {
   "cell_type": "code",
   "execution_count": 194,
   "id": "5a38e510-9675-4466-8263-9bf7580f8ac7",
   "metadata": {},
   "outputs": [
    {
     "name": "stdout",
     "output_type": "stream",
     "text": [
      "[1, [...]]\n"
     ]
    }
   ],
   "source": [
    "cycl = [1]\n",
    "cycl.append(cycl)\n",
    "print(cycl)"
   ]
  },
  {
   "cell_type": "code",
   "execution_count": 200,
   "id": "96c2fb6b-5e3a-4d08-bbcc-7e252c8995c1",
   "metadata": {},
   "outputs": [
    {
     "name": "stdout",
     "output_type": "stream",
     "text": [
      "Количество ссылок на объект a: 5\n"
     ]
    }
   ],
   "source": [
    "a = [1, 2, 3, 4, 5, 6]\n",
    "b = a\n",
    "c =d = a\n",
    "import sys\n",
    "print(\"Количество ссылок на объект a:\", sys.getrefcount(a))"
   ]
  },
  {
   "cell_type": "markdown",
   "id": "c22a02a1-9b97-463f-a6c1-33c28462d12a",
   "metadata": {},
   "source": [
    "sys.getrefcount(a) возвращает на 1 больше"
   ]
  },
  {
   "cell_type": "code",
   "execution_count": 203,
   "id": "37af5647-b100-45d9-a448-030f77a762e9",
   "metadata": {},
   "outputs": [
    {
     "name": "stdout",
     "output_type": "stream",
     "text": [
      "[1, 2, 3, 4, 5, 6] [1, 2, 3, 4, 5, 6] [1, 2, 3, 4, 5, 6] [1, 2, 3, 4, 5, 6]\n"
     ]
    }
   ],
   "source": [
    "a = [1, 2, 3, 4, 5, 6]\n",
    "a_1=a[:]\n",
    "a_2=a.copy()\n",
    "a_3=a.__class__(a)\n",
    "print(a, a_1, a_2, a_3)"
   ]
  },
  {
   "cell_type": "markdown",
   "id": "ee50c028-a8ad-47fe-a413-67a3098c1490",
   "metadata": {},
   "source": [
    "### 2.10 Выражение спискового включения"
   ]
  },
  {
   "cell_type": "code",
   "execution_count": 216,
   "id": "7630cdf7-b1cf-46b1-9b75-6f58f6cea86b",
   "metadata": {},
   "outputs": [
    {
     "data": {
      "text/plain": [
       "{'a', 'b'}"
      ]
     },
     "execution_count": 216,
     "metadata": {},
     "output_type": "execute_result"
    }
   ],
   "source": [
    "{i for i in 'abc' if i == 'a' or i == 'b'}"
   ]
  },
  {
   "cell_type": "code",
   "execution_count": 228,
   "id": "53b93c31-36ed-4e30-a58c-7ad8a0d7feec",
   "metadata": {},
   "outputs": [
    {
     "data": {
      "text/plain": [
       "[[1, 1, 1, 1, 1, 1, 1, 1, 1],\n",
       " [1, 1, 1, 1, 1, 1, 1, 1, 1],\n",
       " [1, 1, 1, 1, 1, 1, 1, 1, 1],\n",
       " [1, 1, 1, 1, 1, 1, 1, 1, 1],\n",
       " [1, 1, 1, 1, 1, 1, 1, 1, 1],\n",
       " [1, 1, 1, 1, 1, 1, 1, 1, 1],\n",
       " [1, 1, 1, 1, 1, 1, 1, 1, 1],\n",
       " [1, 1, 1, 1, 1, 1, 1, 1, 1]]"
      ]
     },
     "execution_count": 228,
     "metadata": {},
     "output_type": "execute_result"
    }
   ],
   "source": [
    "[[1 for j in range(9)] for i in range(8)]"
   ]
  },
  {
   "cell_type": "code",
   "execution_count": 232,
   "id": "a70be672-058a-4927-bcf6-d5e80889ccec",
   "metadata": {},
   "outputs": [
    {
     "name": "stdout",
     "output_type": "stream",
     "text": [
      "{0: {0: 0, 1: 0, 2: 0, 3: 0, 4: 0}, 1: {0: 0, 1: 10, 2: 20, 3: 30, 4: 40}, 2: {0: 0, 1: 20, 2: 40, 3: 60, 4: 80}, 3: {0: 0, 1: 30, 2: 60, 3: 90, 4: 120}, 4: {0: 0, 1: 40, 2: 80, 3: 120, 4: 160}}\n"
     ]
    }
   ],
   "source": [
    "dic_2 = {i: {j: i*j*10 for j in range(5)} for i in range(5)}\n",
    "print(dic_2)"
   ]
  },
  {
   "cell_type": "markdown",
   "id": "19838657-a944-40b6-bf76-9afb030e840a",
   "metadata": {},
   "source": [
    "### 2.11 Форматированный вывод строк"
   ]
  },
  {
   "cell_type": "code",
   "execution_count": 7,
   "id": "a4663fde-f2ab-4d60-91e7-dcb2922a8fc8",
   "metadata": {},
   "outputs": [
    {
     "name": "stdout",
     "output_type": "stream",
     "text": [
      "day of week -- thursday\n"
     ]
    }
   ],
   "source": [
    "day_of_week = 'thursday'\n",
    "print(f'day of week -- {day_of_week}')"
   ]
  },
  {
   "cell_type": "code",
   "execution_count": 15,
   "id": "886b225c-2595-4953-94ee-ec198ef384f1",
   "metadata": {},
   "outputs": [
    {
     "name": "stdout",
     "output_type": "stream",
     "text": [
      "ответ: expression = 64\n"
     ]
    }
   ],
   "source": [
    "expression = 8 ** 2\n",
    "print(f'ответ: {expression = :}')"
   ]
  },
  {
   "cell_type": "markdown",
   "id": "1b3baefe-4e94-4ea5-98b2-72eba1c9982a",
   "metadata": {},
   "source": [
    "### Ошибки"
   ]
  },
  {
   "cell_type": "code",
   "execution_count": 21,
   "id": "badf11cf-6596-4ad8-8ee2-15a1e999aa1b",
   "metadata": {},
   "outputs": [
    {
     "name": "stdout",
     "output_type": "stream",
     "text": [
      "\\c Æ\n"
     ]
    },
    {
     "name": "stderr",
     "output_type": "stream",
     "text": [
      "<>:1: SyntaxWarning: invalid escape sequence '\\c'\n",
      "<>:1: SyntaxWarning: invalid escape sequence '\\c'\n",
      "C:\\Users\\LENOVO\\AppData\\Local\\Temp\\ipykernel_13208\\1155648579.py:1: SyntaxWarning: invalid escape sequence '\\c'\n",
      "  print('\\c \\xc6')\n"
     ]
    }
   ],
   "source": [
    "print('\\c \\xc6')"
   ]
  },
  {
   "cell_type": "markdown",
   "id": "6d85be3c-1e21-4343-a014-477137a68d56",
   "metadata": {},
   "source": [
    "Python не распознает символ после \\ в качестве допустимого управляющего кода "
   ]
  },
  {
   "cell_type": "code",
   "execution_count": 24,
   "id": "1be86864-f3bd-476e-9f39-22aefd7109f7",
   "metadata": {},
   "outputs": [
    {
     "ename": "IndexError",
     "evalue": "string index out of range",
     "output_type": "error",
     "traceback": [
      "\u001b[1;31m---------------------------------------------------------------------------\u001b[0m",
      "\u001b[1;31mIndexError\u001b[0m                                Traceback (most recent call last)",
      "Cell \u001b[1;32mIn[24], line 2\u001b[0m\n\u001b[0;32m      1\u001b[0m str1\u001b[38;5;241m=\u001b[39m\u001b[38;5;124m'\u001b[39m\u001b[38;5;124mString\u001b[39m\u001b[38;5;124m'\u001b[39m\n\u001b[1;32m----> 2\u001b[0m str1[\u001b[38;5;241m10\u001b[39m]\n",
      "\u001b[1;31mIndexError\u001b[0m: string index out of range"
     ]
    }
   ],
   "source": [
    "str1='String'\n",
    "str1[10]"
   ]
  },
  {
   "cell_type": "markdown",
   "id": "0dca0bdd-0708-4a77-85b2-74314da31872",
   "metadata": {},
   "source": [
    "Индексация за пределами последовательности приводит к ошибке"
   ]
  },
  {
   "cell_type": "code",
   "execution_count": 39,
   "id": "4b1ef603-0854-40ea-9dc6-65f41e403a68",
   "metadata": {},
   "outputs": [
    {
     "ename": "NameError",
     "evalue": "name 'dict1' is not defined",
     "output_type": "error",
     "traceback": [
      "\u001b[1;31m---------------------------------------------------------------------------\u001b[0m",
      "\u001b[1;31mNameError\u001b[0m                                 Traceback (most recent call last)",
      "Cell \u001b[1;32mIn[39], line 1\u001b[0m\n\u001b[1;32m----> 1\u001b[0m dict1[\u001b[38;5;241m1\u001b[39m,\u001b[38;5;241m2\u001b[39m] \u001b[38;5;241m=\u001b[39m \u001b[38;5;241m12\u001b[39m\n\u001b[0;32m      2\u001b[0m dict1[\u001b[38;5;124m'\u001b[39m\u001b[38;5;124mtwo\u001b[39m\u001b[38;5;124m'\u001b[39m]\n",
      "\u001b[1;31mNameError\u001b[0m: name 'dict1' is not defined"
     ]
    }
   ],
   "source": [
    "dict1[1,2] = 12\n",
    "dict1['two']"
   ]
  },
  {
   "cell_type": "markdown",
   "id": "f3f12769-f97a-4a5b-8dde-94907a4f1420",
   "metadata": {},
   "source": [
    "Индексация по несуществующему ключу словаря приводит к ошибке"
   ]
  },
  {
   "cell_type": "code",
   "execution_count": 42,
   "id": "5ed52239-1057-4dba-8c8a-2fc17d8ec46e",
   "metadata": {},
   "outputs": [
    {
     "ename": "TypeError",
     "evalue": "can only concatenate list (not \"str\") to list",
     "output_type": "error",
     "traceback": [
      "\u001b[1;31m---------------------------------------------------------------------------\u001b[0m",
      "\u001b[1;31mTypeError\u001b[0m                                 Traceback (most recent call last)",
      "Cell \u001b[1;32mIn[42], line 1\u001b[0m\n\u001b[1;32m----> 1\u001b[0m [\u001b[38;5;241m1\u001b[39m] \u001b[38;5;241m+\u001b[39m \u001b[38;5;124m'\u001b[39m\u001b[38;5;124m1\u001b[39m\u001b[38;5;124m'\u001b[39m\n",
      "\u001b[1;31mTypeError\u001b[0m: can only concatenate list (not \"str\") to list"
     ]
    }
   ],
   "source": [
    "[1] + '1'"
   ]
  },
  {
   "cell_type": "markdown",
   "id": "6dd7efcf-fb37-42c3-96e9-bdfae03a50dc",
   "metadata": {},
   "source": [
    "В выражении с операцией сложения + для последовательностей в качестве\n",
    "операндов могут быть использованы только объекты одного и того же типа."
   ]
  },
  {
   "cell_type": "code",
   "execution_count": 45,
   "id": "5f7ecf17-83a1-4aa8-a85e-9e83c56ec5a0",
   "metadata": {},
   "outputs": [
    {
     "ename": "TypeError",
     "evalue": "'tuple' object does not support item assignment",
     "output_type": "error",
     "traceback": [
      "\u001b[1;31m---------------------------------------------------------------------------\u001b[0m",
      "\u001b[1;31mTypeError\u001b[0m                                 Traceback (most recent call last)",
      "Cell \u001b[1;32mIn[45], line 1\u001b[0m\n\u001b[1;32m----> 1\u001b[0m t \u001b[38;5;241m=\u001b[39m [\u001b[38;5;241m1\u001b[39m,\u001b[38;5;241m2\u001b[39m], {\u001b[38;5;241m1\u001b[39m:\u001b[38;5;241m2\u001b[39m}, {\u001b[38;5;241m1\u001b[39m,\u001b[38;5;241m2\u001b[39m}; t[\u001b[38;5;241m0\u001b[39m] \u001b[38;5;241m=\u001b[39m \u001b[38;5;241m0\u001b[39m\n",
      "\u001b[1;31mTypeError\u001b[0m: 'tuple' object does not support item assignment"
     ]
    }
   ],
   "source": [
    "t = [1,2], {1:2}, {1,2}; t[0] = 0"
   ]
  },
  {
   "cell_type": "markdown",
   "id": "033763aa-7bab-4a39-b26c-9788d543297f",
   "metadata": {},
   "source": [
    " t является кортежем, а кортежи в Python неизменяемы."
   ]
  },
  {
   "cell_type": "code",
   "execution_count": 48,
   "id": "80bbb03a-70cd-4814-9d7d-88f1242af95e",
   "metadata": {},
   "outputs": [
    {
     "ename": "TypeError",
     "evalue": "unhashable type: 'list'",
     "output_type": "error",
     "traceback": [
      "\u001b[1;31m---------------------------------------------------------------------------\u001b[0m",
      "\u001b[1;31mTypeError\u001b[0m                                 Traceback (most recent call last)",
      "Cell \u001b[1;32mIn[48], line 1\u001b[0m\n\u001b[1;32m----> 1\u001b[0m {\u001b[38;5;241m1\u001b[39m, \u001b[38;5;124m'\u001b[39m\u001b[38;5;124mstr\u001b[39m\u001b[38;5;124m'\u001b[39m, (\u001b[38;5;241m1\u001b[39m,)}\u001b[38;5;241m.\u001b[39madd([\u001b[38;5;241m1\u001b[39m])\n",
      "\u001b[1;31mTypeError\u001b[0m: unhashable type: 'list'"
     ]
    }
   ],
   "source": [
    "{1, 'str', (1,)}.add([1])"
   ]
  },
  {
   "cell_type": "markdown",
   "id": "239a2c4e-e447-467e-b9ee-bdc6d1f6a288",
   "metadata": {},
   "source": [
    "Нельзя добавлять список [1] в множество"
   ]
  },
  {
   "cell_type": "code",
   "execution_count": 53,
   "id": "449c1904-1dae-459e-92aa-c9fbd2f15eaa",
   "metadata": {},
   "outputs": [
    {
     "name": "stdout",
     "output_type": "stream",
     "text": [
      "1 None\n"
     ]
    },
    {
     "ename": "KeyError",
     "evalue": "'three'",
     "output_type": "error",
     "traceback": [
      "\u001b[1;31m---------------------------------------------------------------------------\u001b[0m",
      "\u001b[1;31mKeyError\u001b[0m                                  Traceback (most recent call last)",
      "Cell \u001b[1;32mIn[53], line 3\u001b[0m\n\u001b[0;32m      1\u001b[0m dict1 \u001b[38;5;241m=\u001b[39m \u001b[38;5;28mdict\u001b[39m(one\u001b[38;5;241m=\u001b[39m\u001b[38;5;241m1\u001b[39m, two\u001b[38;5;241m=\u001b[39m\u001b[38;5;241m2\u001b[39m)\n\u001b[0;32m      2\u001b[0m \u001b[38;5;28mprint\u001b[39m(dict1\u001b[38;5;241m.\u001b[39mget(\u001b[38;5;124m'\u001b[39m\u001b[38;5;124mone\u001b[39m\u001b[38;5;124m'\u001b[39m), dict1\u001b[38;5;241m.\u001b[39mget(\u001b[38;5;124m'\u001b[39m\u001b[38;5;124mthree\u001b[39m\u001b[38;5;124m'\u001b[39m))\n\u001b[1;32m----> 3\u001b[0m dict1[\u001b[38;5;124m'\u001b[39m\u001b[38;5;124mthree\u001b[39m\u001b[38;5;124m'\u001b[39m]\n",
      "\u001b[1;31mKeyError\u001b[0m: 'three'"
     ]
    }
   ],
   "source": [
    "dict1 = dict(one=1, two=2)\n",
    "print(dict1.get('one'), dict1.get('three'))\n",
    "dict1['three']"
   ]
  },
  {
   "cell_type": "markdown",
   "id": "4e695326-7fb8-4002-8008-aaaac5660455",
   "metadata": {},
   "source": [
    "Индексация словаря по несуществующему ключу является ошибкой"
   ]
  },
  {
   "cell_type": "code",
   "execution_count": 62,
   "id": "95eb49b1-c9c4-4796-88cc-a4f4eedf9fc7",
   "metadata": {},
   "outputs": [
    {
     "name": "stdout",
     "output_type": "stream",
     "text": [
      "string -1\n"
     ]
    },
    {
     "ename": "ValueError",
     "evalue": "substring not found",
     "output_type": "error",
     "traceback": [
      "\u001b[1;31m---------------------------------------------------------------------------\u001b[0m",
      "\u001b[1;31mValueError\u001b[0m                                Traceback (most recent call last)",
      "Cell \u001b[1;32mIn[62], line 3\u001b[0m\n\u001b[0;32m      1\u001b[0m s\u001b[38;5;241m=\u001b[39m\u001b[38;5;124m'\u001b[39m\u001b[38;5;124mstring\u001b[39m\u001b[38;5;124m'\u001b[39m\n\u001b[0;32m      2\u001b[0m \u001b[38;5;28mprint\u001b[39m(s, s\u001b[38;5;241m.\u001b[39mfind(\u001b[38;5;124m'\u001b[39m\u001b[38;5;124m-\u001b[39m\u001b[38;5;124m'\u001b[39m))\n\u001b[1;32m----> 3\u001b[0m s\u001b[38;5;241m.\u001b[39mindex(\u001b[38;5;124m'\u001b[39m\u001b[38;5;124m-\u001b[39m\u001b[38;5;124m'\u001b[39m)\n",
      "\u001b[1;31mValueError\u001b[0m: substring not found"
     ]
    }
   ],
   "source": [
    "s='string'\n",
    "print(s, s.find('-'))\n",
    "s.index('-')"
   ]
  },
  {
   "cell_type": "markdown",
   "id": "39bfaf71-f8d2-46b5-8d13-e8abbfac8c86",
   "metadata": {},
   "source": [
    "Метод index() не находит подстроку '-' в строке s"
   ]
  },
  {
   "cell_type": "code",
   "execution_count": 67,
   "id": "1ce0d962-f476-4668-8c5f-a0137990924a",
   "metadata": {},
   "outputs": [
    {
     "ename": "NameError",
     "evalue": "name 'd' is not defined",
     "output_type": "error",
     "traceback": [
      "\u001b[1;31m---------------------------------------------------------------------------\u001b[0m",
      "\u001b[1;31mNameError\u001b[0m                                 Traceback (most recent call last)",
      "Cell \u001b[1;32mIn[67], line 2\u001b[0m\n\u001b[0;32m      1\u001b[0m a \u001b[38;5;241m=\u001b[39m \u001b[38;5;241m1\u001b[39m \u001b[38;5;66;03m# создание переменной\u001b[39;00m\n\u001b[1;32m----> 2\u001b[0m a, d\n",
      "\u001b[1;31mNameError\u001b[0m: name 'd' is not defined"
     ]
    }
   ],
   "source": [
    "a = 1 # создание переменной\n",
    "a, d"
   ]
  },
  {
   "cell_type": "markdown",
   "id": "31ebcdd2-ba31-44a5-aab6-e7a0c1e3741f",
   "metadata": {},
   "source": [
    "Переменная d не определена"
   ]
  },
  {
   "cell_type": "code",
   "execution_count": 72,
   "id": "368b7637-ff16-4003-8905-f16f147cf26a",
   "metadata": {},
   "outputs": [
    {
     "ename": "TypeError",
     "evalue": "'int' object is not callable",
     "output_type": "error",
     "traceback": [
      "\u001b[1;31m---------------------------------------------------------------------------\u001b[0m",
      "\u001b[1;31mTypeError\u001b[0m                                 Traceback (most recent call last)",
      "Cell \u001b[1;32mIn[72], line 2\u001b[0m\n\u001b[0;32m      1\u001b[0m \u001b[38;5;28mabs\u001b[39m \u001b[38;5;241m=\u001b[39m \u001b[38;5;241m5\u001b[39m\n\u001b[1;32m----> 2\u001b[0m \u001b[38;5;28mprint\u001b[39m(\u001b[38;5;28mabs\u001b[39m(\u001b[38;5;241m-\u001b[39m\u001b[38;5;241m1\u001b[39m))\n\u001b[0;32m      3\u001b[0m \u001b[38;5;28mabs\u001b[39m \u001b[38;5;241m=\u001b[39m \u001b[38;5;241m5\u001b[39m\n\u001b[0;32m      4\u001b[0m \u001b[38;5;28mprint\u001b[39m(\u001b[38;5;28mabs\u001b[39m(\u001b[38;5;241m-\u001b[39m\u001b[38;5;241m1\u001b[39m))\n",
      "\u001b[1;31mTypeError\u001b[0m: 'int' object is not callable"
     ]
    }
   ],
   "source": [
    "abs = 5\n",
    "print(abs(-1))\n",
    "abs = 5\n",
    "print(abs(-1))"
   ]
  },
  {
   "cell_type": "markdown",
   "id": "e6dd4845-9de3-41b0-a05d-4d33cd67c22e",
   "metadata": {},
   "source": [
    "После присвоения abs = 5, abs больше не ссылается на функцию abs(), а становится целым числом"
   ]
  },
  {
   "cell_type": "markdown",
   "id": "8c708396-4b3b-482c-b74c-3416c3f7d484",
   "metadata": {},
   "source": [
    "### Ответы на контрольные вопросы"
   ]
  },
  {
   "cell_type": "markdown",
   "id": "cad49b44-0699-4888-8191-9217a31711d6",
   "metadata": {},
   "source": [
    "##### 1. Что означает \"неизменясмость\", и какие три основных типа Python считаются неизменяемыми?\n",
    "Неизменяемый объект — это такой объект, который после создания нельзя модифицировать.В эту категорию входят числа,строки и кортежи Python.\n",
    "##### 2. Каким будет значение выражения 2 * (3 + 4) в Python?\n",
    "14\n",
    "##### 3.  Взгляните на следующие три оператора. Изменяют ли они значение, выводимое для А?\n",
    "A = \" spam\" </br>\n",
    "В = А </br>\n",
    "B = \"shrubbery\" </br>\n",
    "Нет, А по-прежнему = “spam”. \n",
    "##### 4. Можно ли использовать строковый метод find для поиска в списке?\n",
    "Нет, методы всегда относятся к определенным типам, find не работает для поиска в списке\n",
    "##### 5. Назовите два способа построения списка, содержащего пять целочисленных нулей.\n",
    "[0] * 5\n",
    "([0 for i in range (5)])\n",
    "##### 6. Напишите выражение, которое изменяет перный элемент в кортеже. В процессе кортеж (4,5, 6) должен стать (1, 5, 6).\n",
    "T = (4, 5, 6)\n",
    "Т = (1, ) + Т[1:]"
   ]
  },
  {
   "cell_type": "code",
   "execution_count": 82,
   "id": "89b9135c-6475-441b-939f-c6d57a0b8078",
   "metadata": {},
   "outputs": [
    {
     "data": {
      "text/plain": [
       "14"
      ]
     },
     "execution_count": 82,
     "metadata": {},
     "output_type": "execute_result"
    }
   ],
   "source": [
    "2 * (3 + 4)"
   ]
  },
  {
   "cell_type": "code",
   "execution_count": 92,
   "id": "44d1622a-2d36-4702-a38f-49e0b90cd071",
   "metadata": {},
   "outputs": [
    {
     "data": {
      "text/plain": [
       "'spam'"
      ]
     },
     "execution_count": 92,
     "metadata": {},
     "output_type": "execute_result"
    }
   ],
   "source": [
    "A = \"spam\"\n",
    "В = A\n",
    "B = \"shrubbery\"\n",
    "A"
   ]
  },
  {
   "cell_type": "code",
   "execution_count": 94,
   "id": "9acf17fe-f260-43d1-93e7-1fa0b665ff91",
   "metadata": {},
   "outputs": [
    {
     "data": {
      "text/plain": [
       "[0, 0, 0, 0, 0]"
      ]
     },
     "execution_count": 94,
     "metadata": {},
     "output_type": "execute_result"
    }
   ],
   "source": [
    "[0] * 5"
   ]
  },
  {
   "cell_type": "code",
   "execution_count": 96,
   "id": "c25a21c7-ab20-41c0-9e1b-206588e0a9cb",
   "metadata": {},
   "outputs": [
    {
     "data": {
      "text/plain": [
       "[0, 0, 0, 0, 0]"
      ]
     },
     "execution_count": 96,
     "metadata": {},
     "output_type": "execute_result"
    }
   ],
   "source": [
    "([0 for i in range (5)])"
   ]
  },
  {
   "cell_type": "code",
   "execution_count": 102,
   "id": "83e4cee5-85f7-4245-be76-e39df9fda11b",
   "metadata": {},
   "outputs": [
    {
     "data": {
      "text/plain": [
       "(1, 5, 6)"
      ]
     },
     "execution_count": 102,
     "metadata": {},
     "output_type": "execute_result"
    }
   ],
   "source": [
    "T = (4, 5, 6)\n",
    "T = (1, ) + T[1:]\n",
    "T"
   ]
  }
 ],
 "metadata": {
  "kernelspec": {
   "display_name": "Python [conda env:base] *",
   "language": "python",
   "name": "conda-base-py"
  },
  "language_info": {
   "codemirror_mode": {
    "name": "ipython",
    "version": 3
   },
   "file_extension": ".py",
   "mimetype": "text/x-python",
   "name": "python",
   "nbconvert_exporter": "python",
   "pygments_lexer": "ipython3",
   "version": "3.12.7"
  }
 },
 "nbformat": 4,
 "nbformat_minor": 5
}
